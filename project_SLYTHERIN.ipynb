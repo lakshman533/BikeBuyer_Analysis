{
 "cells": [
  {
   "cell_type": "code",
   "execution_count": 250,
   "metadata": {
    "collapsed": true
   },
   "outputs": [],
   "source": [
    "#importing all necessary libraries\n",
    "import numpy as np\n",
    "import pandas as pd\n",
    "import matplotlib.pyplot as plt "
   ]
  },
  {
   "cell_type": "code",
   "execution_count": 251,
   "metadata": {
    "collapsed": true
   },
   "outputs": [],
   "source": [
    "import os"
   ]
  },
  {
   "cell_type": "code",
   "execution_count": 252,
   "metadata": {},
   "outputs": [
    {
     "data": {
      "text/plain": [
       "'C:\\\\Users\\\\Lakshmanraj\\\\Desktop\\\\DataSets'"
      ]
     },
     "execution_count": 252,
     "metadata": {},
     "output_type": "execute_result"
    }
   ],
   "source": [
    "#To get the current working directory\n",
    "os.getcwd()"
   ]
  },
  {
   "cell_type": "code",
   "execution_count": 253,
   "metadata": {
    "collapsed": true
   },
   "outputs": [],
   "source": [
    "#Setting path / to change the current working directory\n",
    "os.chdir('C:/Users/Lakshmanraj/Desktop/DataSets')"
   ]
  },
  {
   "cell_type": "code",
   "execution_count": 254,
   "metadata": {},
   "outputs": [
    {
     "data": {
      "text/plain": [
       "'C:\\\\Users\\\\Lakshmanraj\\\\Desktop\\\\DataSets'"
      ]
     },
     "execution_count": 254,
     "metadata": {},
     "output_type": "execute_result"
    }
   ],
   "source": [
    "#getting current working directory\n",
    "os.getcwd()"
   ]
  },
  {
   "cell_type": "code",
   "execution_count": 255,
   "metadata": {
    "collapsed": true
   },
   "outputs": [],
   "source": [
    "#importing data set with name bb1\n",
    "bb=pd.read_csv('bikebuyer1.csv')"
   ]
  },
  {
   "cell_type": "code",
   "execution_count": 256,
   "metadata": {
    "scrolled": false
   },
   "outputs": [
    {
     "data": {
      "text/html": [
       "<div>\n",
       "<style>\n",
       "    .dataframe thead tr:only-child th {\n",
       "        text-align: right;\n",
       "    }\n",
       "\n",
       "    .dataframe thead th {\n",
       "        text-align: left;\n",
       "    }\n",
       "\n",
       "    .dataframe tbody tr th {\n",
       "        vertical-align: top;\n",
       "    }\n",
       "</style>\n",
       "<table border=\"1\" class=\"dataframe\">\n",
       "  <thead>\n",
       "    <tr style=\"text-align: right;\">\n",
       "      <th></th>\n",
       "      <th>ID</th>\n",
       "      <th>Marital Status</th>\n",
       "      <th>Gender</th>\n",
       "      <th>Yearly Income</th>\n",
       "      <th>Children</th>\n",
       "      <th>Education</th>\n",
       "      <th>Occupation</th>\n",
       "      <th>Home Owner</th>\n",
       "      <th>Cars</th>\n",
       "      <th>Commute Distance</th>\n",
       "      <th>Region</th>\n",
       "      <th>Age</th>\n",
       "      <th>Bike Buyer</th>\n",
       "    </tr>\n",
       "  </thead>\n",
       "  <tbody>\n",
       "    <tr>\n",
       "      <th>0</th>\n",
       "      <td>22711.0</td>\n",
       "      <td>Single</td>\n",
       "      <td>Male</td>\n",
       "      <td>30000</td>\n",
       "      <td>0.0</td>\n",
       "      <td>Partial College</td>\n",
       "      <td>Clerical</td>\n",
       "      <td>No</td>\n",
       "      <td>1</td>\n",
       "      <td>1.0</td>\n",
       "      <td>Europe</td>\n",
       "      <td>33</td>\n",
       "      <td>Yes</td>\n",
       "    </tr>\n",
       "    <tr>\n",
       "      <th>1</th>\n",
       "      <td>13555.0</td>\n",
       "      <td>Married</td>\n",
       "      <td>Female</td>\n",
       "      <td>40000</td>\n",
       "      <td>0.0</td>\n",
       "      <td>Graduate Degree</td>\n",
       "      <td>Clerical</td>\n",
       "      <td>Yes</td>\n",
       "      <td>0</td>\n",
       "      <td>1.0</td>\n",
       "      <td>Europe</td>\n",
       "      <td>37</td>\n",
       "      <td>Yes</td>\n",
       "    </tr>\n",
       "    <tr>\n",
       "      <th>2</th>\n",
       "      <td>NaN</td>\n",
       "      <td>Married</td>\n",
       "      <td>Male</td>\n",
       "      <td>160000</td>\n",
       "      <td>5.0</td>\n",
       "      <td>Partial College</td>\n",
       "      <td>Professional</td>\n",
       "      <td>No</td>\n",
       "      <td>3</td>\n",
       "      <td>2.0</td>\n",
       "      <td>Europe</td>\n",
       "      <td>55</td>\n",
       "      <td>No</td>\n",
       "    </tr>\n",
       "    <tr>\n",
       "      <th>3</th>\n",
       "      <td>2.0</td>\n",
       "      <td>Single</td>\n",
       "      <td>Male</td>\n",
       "      <td>160000</td>\n",
       "      <td>0.0</td>\n",
       "      <td>Graduate Degree</td>\n",
       "      <td>Management</td>\n",
       "      <td>Yes</td>\n",
       "      <td>2</td>\n",
       "      <td>5.0</td>\n",
       "      <td>Pacific</td>\n",
       "      <td>47</td>\n",
       "      <td>No</td>\n",
       "    </tr>\n",
       "    <tr>\n",
       "      <th>4</th>\n",
       "      <td>25410.0</td>\n",
       "      <td>NaN</td>\n",
       "      <td>Female</td>\n",
       "      <td>70000</td>\n",
       "      <td>2.0</td>\n",
       "      <td>Bachelors</td>\n",
       "      <td>Skilled Manual</td>\n",
       "      <td>No</td>\n",
       "      <td>1</td>\n",
       "      <td>1.0</td>\n",
       "      <td>North America</td>\n",
       "      <td>38</td>\n",
       "      <td>Yes</td>\n",
       "    </tr>\n",
       "    <tr>\n",
       "      <th>5</th>\n",
       "      <td>4.0</td>\n",
       "      <td>Married</td>\n",
       "      <td>NaN</td>\n",
       "      <td>120000</td>\n",
       "      <td>2.0</td>\n",
       "      <td>Bachelors</td>\n",
       "      <td>Management</td>\n",
       "      <td>Yes</td>\n",
       "      <td>3</td>\n",
       "      <td>1.0</td>\n",
       "      <td>North America</td>\n",
       "      <td>40</td>\n",
       "      <td>No</td>\n",
       "    </tr>\n",
       "    <tr>\n",
       "      <th>6</th>\n",
       "      <td>15756.0</td>\n",
       "      <td>Single</td>\n",
       "      <td>Female</td>\n",
       "      <td>70000</td>\n",
       "      <td>0.0</td>\n",
       "      <td>High School</td>\n",
       "      <td>Professional</td>\n",
       "      <td>Yes</td>\n",
       "      <td>2</td>\n",
       "      <td>NaN</td>\n",
       "      <td>Pacific</td>\n",
       "      <td>49</td>\n",
       "      <td>Yes</td>\n",
       "    </tr>\n",
       "    <tr>\n",
       "      <th>7</th>\n",
       "      <td>11085.0</td>\n",
       "      <td>Single</td>\n",
       "      <td>Female</td>\n",
       "      <td>60000</td>\n",
       "      <td>0.0</td>\n",
       "      <td>High School</td>\n",
       "      <td>Professional</td>\n",
       "      <td>No</td>\n",
       "      <td>2</td>\n",
       "      <td>1.0</td>\n",
       "      <td>North America</td>\n",
       "      <td>49</td>\n",
       "      <td>No</td>\n",
       "    </tr>\n",
       "    <tr>\n",
       "      <th>8</th>\n",
       "      <td>17974.0</td>\n",
       "      <td>NaN</td>\n",
       "      <td>Female</td>\n",
       "      <td>0</td>\n",
       "      <td>NaN</td>\n",
       "      <td>Bachelors</td>\n",
       "      <td>Clerical</td>\n",
       "      <td>Yes</td>\n",
       "      <td>0</td>\n",
       "      <td>10.0</td>\n",
       "      <td>Europe</td>\n",
       "      <td>38</td>\n",
       "      <td>Yes</td>\n",
       "    </tr>\n",
       "    <tr>\n",
       "      <th>9</th>\n",
       "      <td>21008.0</td>\n",
       "      <td>Single</td>\n",
       "      <td>Female</td>\n",
       "      <td>20000</td>\n",
       "      <td>1.0</td>\n",
       "      <td>Partial College</td>\n",
       "      <td>Manual</td>\n",
       "      <td>No</td>\n",
       "      <td>0</td>\n",
       "      <td>1.0</td>\n",
       "      <td>Europe</td>\n",
       "      <td>46</td>\n",
       "      <td>Yes</td>\n",
       "    </tr>\n",
       "    <tr>\n",
       "      <th>10</th>\n",
       "      <td>28985.0</td>\n",
       "      <td>Single</td>\n",
       "      <td>Male</td>\n",
       "      <td>50000</td>\n",
       "      <td>0.0</td>\n",
       "      <td>Bachelors</td>\n",
       "      <td>Management</td>\n",
       "      <td>No</td>\n",
       "      <td>2</td>\n",
       "      <td>2.0</td>\n",
       "      <td>North America</td>\n",
       "      <td>64</td>\n",
       "      <td>No</td>\n",
       "    </tr>\n",
       "    <tr>\n",
       "      <th>11</th>\n",
       "      <td>11087.0</td>\n",
       "      <td>Married</td>\n",
       "      <td>Female</td>\n",
       "      <td>70000</td>\n",
       "      <td>2.0</td>\n",
       "      <td>Partial College</td>\n",
       "      <td>Professional</td>\n",
       "      <td>No</td>\n",
       "      <td>0</td>\n",
       "      <td>11.0</td>\n",
       "      <td>North America</td>\n",
       "      <td>49</td>\n",
       "      <td>No</td>\n",
       "    </tr>\n",
       "    <tr>\n",
       "      <th>12</th>\n",
       "      <td>20434.0</td>\n",
       "      <td>Single</td>\n",
       "      <td>NaN</td>\n",
       "      <td>60000</td>\n",
       "      <td>0.0</td>\n",
       "      <td>Partial College</td>\n",
       "      <td>Skilled Manual</td>\n",
       "      <td>No</td>\n",
       "      <td>2</td>\n",
       "      <td>1.0</td>\n",
       "      <td>North America</td>\n",
       "      <td>31</td>\n",
       "      <td>Yes</td>\n",
       "    </tr>\n",
       "    <tr>\n",
       "      <th>13</th>\n",
       "      <td>14902.0</td>\n",
       "      <td>NaN</td>\n",
       "      <td>Female</td>\n",
       "      <td>40000</td>\n",
       "      <td>0.0</td>\n",
       "      <td>Partial College</td>\n",
       "      <td>Clerical</td>\n",
       "      <td>Yes</td>\n",
       "      <td>1</td>\n",
       "      <td>1.0</td>\n",
       "      <td>North America</td>\n",
       "      <td>50</td>\n",
       "      <td>Yes</td>\n",
       "    </tr>\n",
       "    <tr>\n",
       "      <th>14</th>\n",
       "      <td>11091.0</td>\n",
       "      <td>Married</td>\n",
       "      <td>Male</td>\n",
       "      <td>90000</td>\n",
       "      <td>0.0</td>\n",
       "      <td>Partial College</td>\n",
       "      <td>Professional</td>\n",
       "      <td>Yes</td>\n",
       "      <td>1</td>\n",
       "      <td>1.0</td>\n",
       "      <td>North America</td>\n",
       "      <td>49</td>\n",
       "      <td>No</td>\n",
       "    </tr>\n",
       "    <tr>\n",
       "      <th>15</th>\n",
       "      <td>11094.0</td>\n",
       "      <td>Single</td>\n",
       "      <td>Male</td>\n",
       "      <td>70000</td>\n",
       "      <td>0.0</td>\n",
       "      <td>Partial College</td>\n",
       "      <td>Skilled Manual</td>\n",
       "      <td>No</td>\n",
       "      <td>1</td>\n",
       "      <td>1.0</td>\n",
       "      <td>Pacific</td>\n",
       "      <td>44</td>\n",
       "      <td>No</td>\n",
       "    </tr>\n",
       "    <tr>\n",
       "      <th>16</th>\n",
       "      <td>18568.0</td>\n",
       "      <td>Single</td>\n",
       "      <td>Female</td>\n",
       "      <td>50000</td>\n",
       "      <td>2.0</td>\n",
       "      <td>Bachelors</td>\n",
       "      <td>Skilled Manual</td>\n",
       "      <td>Yes</td>\n",
       "      <td>1</td>\n",
       "      <td>2.0</td>\n",
       "      <td>North America</td>\n",
       "      <td>39</td>\n",
       "      <td>Yes</td>\n",
       "    </tr>\n",
       "    <tr>\n",
       "      <th>17</th>\n",
       "      <td>16366.0</td>\n",
       "      <td>Married</td>\n",
       "      <td>Female</td>\n",
       "      <td>40000</td>\n",
       "      <td>0.0</td>\n",
       "      <td>Partial College</td>\n",
       "      <td>Clerical</td>\n",
       "      <td>Yes</td>\n",
       "      <td>1</td>\n",
       "      <td>1.0</td>\n",
       "      <td>North America</td>\n",
       "      <td>51</td>\n",
       "      <td>Yes</td>\n",
       "    </tr>\n",
       "    <tr>\n",
       "      <th>18</th>\n",
       "      <td>20768.0</td>\n",
       "      <td>Single</td>\n",
       "      <td>Male</td>\n",
       "      <td>0</td>\n",
       "      <td>0.0</td>\n",
       "      <td>Partial College</td>\n",
       "      <td>Clerical</td>\n",
       "      <td>Yes</td>\n",
       "      <td>1</td>\n",
       "      <td>2.0</td>\n",
       "      <td>North America</td>\n",
       "      <td>48</td>\n",
       "      <td>Yes</td>\n",
       "    </tr>\n",
       "    <tr>\n",
       "      <th>19</th>\n",
       "      <td>11098.0</td>\n",
       "      <td>NaN</td>\n",
       "      <td>Female</td>\n",
       "      <td>60000</td>\n",
       "      <td>0.0</td>\n",
       "      <td>Partial College</td>\n",
       "      <td>Skilled Manual</td>\n",
       "      <td>No</td>\n",
       "      <td>1</td>\n",
       "      <td>6.0</td>\n",
       "      <td>Pacific</td>\n",
       "      <td>45</td>\n",
       "      <td>No</td>\n",
       "    </tr>\n",
       "    <tr>\n",
       "      <th>20</th>\n",
       "      <td>18269.0</td>\n",
       "      <td>Single</td>\n",
       "      <td>Female</td>\n",
       "      <td>60000</td>\n",
       "      <td>2.0</td>\n",
       "      <td>Bachelors</td>\n",
       "      <td>Professional</td>\n",
       "      <td>Yes</td>\n",
       "      <td>2</td>\n",
       "      <td>1.0</td>\n",
       "      <td>Pacific</td>\n",
       "      <td>43</td>\n",
       "      <td>Yes</td>\n",
       "    </tr>\n",
       "    <tr>\n",
       "      <th>21</th>\n",
       "      <td>11102.0</td>\n",
       "      <td>Single</td>\n",
       "      <td>NaN</td>\n",
       "      <td>80000</td>\n",
       "      <td>5.0</td>\n",
       "      <td>Bachelors</td>\n",
       "      <td>Professional</td>\n",
       "      <td>Yes</td>\n",
       "      <td>4</td>\n",
       "      <td>12.0</td>\n",
       "      <td>Pacific</td>\n",
       "      <td>41</td>\n",
       "      <td>No</td>\n",
       "    </tr>\n",
       "    <tr>\n",
       "      <th>22</th>\n",
       "      <td>11113.0</td>\n",
       "      <td>Married</td>\n",
       "      <td>Male</td>\n",
       "      <td>70000</td>\n",
       "      <td>4.0</td>\n",
       "      <td>Bachelors</td>\n",
       "      <td>Professional</td>\n",
       "      <td>Yes</td>\n",
       "      <td>2</td>\n",
       "      <td>1.0</td>\n",
       "      <td>Pacific</td>\n",
       "      <td>44</td>\n",
       "      <td>No</td>\n",
       "    </tr>\n",
       "    <tr>\n",
       "      <th>23</th>\n",
       "      <td>26529.0</td>\n",
       "      <td>NaN</td>\n",
       "      <td>Female</td>\n",
       "      <td>70000</td>\n",
       "      <td>0.0</td>\n",
       "      <td>Graduate Degree</td>\n",
       "      <td>Professional</td>\n",
       "      <td>Yes</td>\n",
       "      <td>0</td>\n",
       "      <td>NaN</td>\n",
       "      <td>North America</td>\n",
       "      <td>37</td>\n",
       "      <td>Yes</td>\n",
       "    </tr>\n",
       "    <tr>\n",
       "      <th>24</th>\n",
       "      <td>11114.0</td>\n",
       "      <td>Single</td>\n",
       "      <td>Female</td>\n",
       "      <td>70000</td>\n",
       "      <td>4.0</td>\n",
       "      <td>Partial College</td>\n",
       "      <td>Skilled Manual</td>\n",
       "      <td>Yes</td>\n",
       "      <td>2</td>\n",
       "      <td>1.0</td>\n",
       "      <td>Pacific</td>\n",
       "      <td>44</td>\n",
       "      <td>No</td>\n",
       "    </tr>\n",
       "    <tr>\n",
       "      <th>25</th>\n",
       "      <td>23612.0</td>\n",
       "      <td>Single</td>\n",
       "      <td>Female</td>\n",
       "      <td>90000</td>\n",
       "      <td>0.0</td>\n",
       "      <td>Partial College</td>\n",
       "      <td>Professional</td>\n",
       "      <td>No</td>\n",
       "      <td>2</td>\n",
       "      <td>1.0</td>\n",
       "      <td>Europe</td>\n",
       "      <td>62</td>\n",
       "      <td>Yes</td>\n",
       "    </tr>\n",
       "    <tr>\n",
       "      <th>26</th>\n",
       "      <td>11115.0</td>\n",
       "      <td>Married</td>\n",
       "      <td>Male</td>\n",
       "      <td>70000</td>\n",
       "      <td>4.0</td>\n",
       "      <td>Partial College</td>\n",
       "      <td>Skilled Manual</td>\n",
       "      <td>Yes</td>\n",
       "      <td>2</td>\n",
       "      <td>1.0</td>\n",
       "      <td>Pacific</td>\n",
       "      <td>44</td>\n",
       "      <td>No</td>\n",
       "    </tr>\n",
       "    <tr>\n",
       "      <th>27</th>\n",
       "      <td>11116.0</td>\n",
       "      <td>Married</td>\n",
       "      <td>Male</td>\n",
       "      <td>70000</td>\n",
       "      <td>4.0</td>\n",
       "      <td>Partial College</td>\n",
       "      <td>Skilled Manual</td>\n",
       "      <td>Yes</td>\n",
       "      <td>2</td>\n",
       "      <td>9.0</td>\n",
       "      <td>Pacific</td>\n",
       "      <td>44</td>\n",
       "      <td>No</td>\n",
       "    </tr>\n",
       "    <tr>\n",
       "      <th>28</th>\n",
       "      <td>11118.0</td>\n",
       "      <td>Single</td>\n",
       "      <td>Male</td>\n",
       "      <td>80000</td>\n",
       "      <td>NaN</td>\n",
       "      <td>Partial College</td>\n",
       "      <td>Skilled Manual</td>\n",
       "      <td>No</td>\n",
       "      <td>1</td>\n",
       "      <td>5.0</td>\n",
       "      <td>Pacific</td>\n",
       "      <td>49</td>\n",
       "      <td>No</td>\n",
       "    </tr>\n",
       "    <tr>\n",
       "      <th>29</th>\n",
       "      <td>19441.0</td>\n",
       "      <td>Single</td>\n",
       "      <td>Male</td>\n",
       "      <td>40000</td>\n",
       "      <td>0.0</td>\n",
       "      <td>Graduate Degree</td>\n",
       "      <td>Clerical</td>\n",
       "      <td>Yes</td>\n",
       "      <td>0</td>\n",
       "      <td>1.0</td>\n",
       "      <td>Europe</td>\n",
       "      <td>37</td>\n",
       "      <td>Yes</td>\n",
       "    </tr>\n",
       "    <tr>\n",
       "      <th>...</th>\n",
       "      <td>...</td>\n",
       "      <td>...</td>\n",
       "      <td>...</td>\n",
       "      <td>...</td>\n",
       "      <td>...</td>\n",
       "      <td>...</td>\n",
       "      <td>...</td>\n",
       "      <td>...</td>\n",
       "      <td>...</td>\n",
       "      <td>...</td>\n",
       "      <td>...</td>\n",
       "      <td>...</td>\n",
       "      <td>...</td>\n",
       "    </tr>\n",
       "    <tr>\n",
       "      <th>6967</th>\n",
       "      <td>22779.0</td>\n",
       "      <td>Married</td>\n",
       "      <td>Male</td>\n",
       "      <td>60000</td>\n",
       "      <td>1.0</td>\n",
       "      <td>Partial College</td>\n",
       "      <td>Professional</td>\n",
       "      <td>Yes</td>\n",
       "      <td>2</td>\n",
       "      <td>2.0</td>\n",
       "      <td>North America</td>\n",
       "      <td>54</td>\n",
       "      <td>No</td>\n",
       "    </tr>\n",
       "    <tr>\n",
       "      <th>6968</th>\n",
       "      <td>22781.0</td>\n",
       "      <td>Married</td>\n",
       "      <td>Male</td>\n",
       "      <td>70000</td>\n",
       "      <td>2.0</td>\n",
       "      <td>Partial College</td>\n",
       "      <td>Professional</td>\n",
       "      <td>Yes</td>\n",
       "      <td>1</td>\n",
       "      <td>1.0</td>\n",
       "      <td>North America</td>\n",
       "      <td>55</td>\n",
       "      <td>No</td>\n",
       "    </tr>\n",
       "    <tr>\n",
       "      <th>6969</th>\n",
       "      <td>22783.0</td>\n",
       "      <td>Married</td>\n",
       "      <td>Male</td>\n",
       "      <td>70000</td>\n",
       "      <td>1.0</td>\n",
       "      <td>Partial High School</td>\n",
       "      <td>Skilled Manual</td>\n",
       "      <td>Yes</td>\n",
       "      <td>2</td>\n",
       "      <td>1.0</td>\n",
       "      <td>North America</td>\n",
       "      <td>54</td>\n",
       "      <td>No</td>\n",
       "    </tr>\n",
       "    <tr>\n",
       "      <th>6970</th>\n",
       "      <td>22786.0</td>\n",
       "      <td>Married</td>\n",
       "      <td>Male</td>\n",
       "      <td>70000</td>\n",
       "      <td>1.0</td>\n",
       "      <td>Partial High School</td>\n",
       "      <td>Skilled Manual</td>\n",
       "      <td>Yes</td>\n",
       "      <td>3</td>\n",
       "      <td>2.0</td>\n",
       "      <td>North America</td>\n",
       "      <td>54</td>\n",
       "      <td>No</td>\n",
       "    </tr>\n",
       "    <tr>\n",
       "      <th>6971</th>\n",
       "      <td>22792.0</td>\n",
       "      <td>Married</td>\n",
       "      <td>Male</td>\n",
       "      <td>70000</td>\n",
       "      <td>3.0</td>\n",
       "      <td>Partial College</td>\n",
       "      <td>Professional</td>\n",
       "      <td>Yes</td>\n",
       "      <td>1</td>\n",
       "      <td>7.0</td>\n",
       "      <td>North America</td>\n",
       "      <td>53</td>\n",
       "      <td>No</td>\n",
       "    </tr>\n",
       "    <tr>\n",
       "      <th>6972</th>\n",
       "      <td>22793.0</td>\n",
       "      <td>Single</td>\n",
       "      <td>Male</td>\n",
       "      <td>70000</td>\n",
       "      <td>3.0</td>\n",
       "      <td>Partial College</td>\n",
       "      <td>Professional</td>\n",
       "      <td>Yes</td>\n",
       "      <td>1</td>\n",
       "      <td>8.0</td>\n",
       "      <td>North America</td>\n",
       "      <td>53</td>\n",
       "      <td>No</td>\n",
       "    </tr>\n",
       "    <tr>\n",
       "      <th>6973</th>\n",
       "      <td>22794.0</td>\n",
       "      <td>Married</td>\n",
       "      <td>Female</td>\n",
       "      <td>130000</td>\n",
       "      <td>4.0</td>\n",
       "      <td>Partial College</td>\n",
       "      <td>Professional</td>\n",
       "      <td>Yes</td>\n",
       "      <td>1</td>\n",
       "      <td>9.0</td>\n",
       "      <td>Europe</td>\n",
       "      <td>48</td>\n",
       "      <td>No</td>\n",
       "    </tr>\n",
       "    <tr>\n",
       "      <th>6974</th>\n",
       "      <td>22795.0</td>\n",
       "      <td>Married</td>\n",
       "      <td>Female</td>\n",
       "      <td>110000</td>\n",
       "      <td>4.0</td>\n",
       "      <td>Partial College</td>\n",
       "      <td>Professional</td>\n",
       "      <td>Yes</td>\n",
       "      <td>3</td>\n",
       "      <td>2.0</td>\n",
       "      <td>Europe</td>\n",
       "      <td>49</td>\n",
       "      <td>No</td>\n",
       "    </tr>\n",
       "    <tr>\n",
       "      <th>6975</th>\n",
       "      <td>22796.0</td>\n",
       "      <td>Married</td>\n",
       "      <td>Male</td>\n",
       "      <td>110000</td>\n",
       "      <td>4.0</td>\n",
       "      <td>Partial College</td>\n",
       "      <td>Professional</td>\n",
       "      <td>No</td>\n",
       "      <td>3</td>\n",
       "      <td>3.0</td>\n",
       "      <td>Europe</td>\n",
       "      <td>49</td>\n",
       "      <td>No</td>\n",
       "    </tr>\n",
       "    <tr>\n",
       "      <th>6976</th>\n",
       "      <td>22798.0</td>\n",
       "      <td>Married</td>\n",
       "      <td>Female</td>\n",
       "      <td>150000</td>\n",
       "      <td>3.0</td>\n",
       "      <td>High School</td>\n",
       "      <td>Professional</td>\n",
       "      <td>Yes</td>\n",
       "      <td>4</td>\n",
       "      <td>5.0</td>\n",
       "      <td>Europe</td>\n",
       "      <td>49</td>\n",
       "      <td>No</td>\n",
       "    </tr>\n",
       "    <tr>\n",
       "      <th>6977</th>\n",
       "      <td>22799.0</td>\n",
       "      <td>Married</td>\n",
       "      <td>Female</td>\n",
       "      <td>120000</td>\n",
       "      <td>4.0</td>\n",
       "      <td>Partial High School</td>\n",
       "      <td>Professional</td>\n",
       "      <td>No</td>\n",
       "      <td>4</td>\n",
       "      <td>6.0</td>\n",
       "      <td>Europe</td>\n",
       "      <td>50</td>\n",
       "      <td>No</td>\n",
       "    </tr>\n",
       "    <tr>\n",
       "      <th>6978</th>\n",
       "      <td>22801.0</td>\n",
       "      <td>Married</td>\n",
       "      <td>Female</td>\n",
       "      <td>110000</td>\n",
       "      <td>4.0</td>\n",
       "      <td>Partial College</td>\n",
       "      <td>Professional</td>\n",
       "      <td>Yes</td>\n",
       "      <td>4</td>\n",
       "      <td>7.0</td>\n",
       "      <td>Europe</td>\n",
       "      <td>51</td>\n",
       "      <td>No</td>\n",
       "    </tr>\n",
       "    <tr>\n",
       "      <th>6979</th>\n",
       "      <td>22802.0</td>\n",
       "      <td>Single</td>\n",
       "      <td>Female</td>\n",
       "      <td>120000</td>\n",
       "      <td>4.0</td>\n",
       "      <td>Partial High School</td>\n",
       "      <td>Professional</td>\n",
       "      <td>Yes</td>\n",
       "      <td>4</td>\n",
       "      <td>1.0</td>\n",
       "      <td>Europe</td>\n",
       "      <td>51</td>\n",
       "      <td>No</td>\n",
       "    </tr>\n",
       "    <tr>\n",
       "      <th>6980</th>\n",
       "      <td>22804.0</td>\n",
       "      <td>Married</td>\n",
       "      <td>Female</td>\n",
       "      <td>80000</td>\n",
       "      <td>1.0</td>\n",
       "      <td>Partial College</td>\n",
       "      <td>Professional</td>\n",
       "      <td>Yes</td>\n",
       "      <td>2</td>\n",
       "      <td>2.0</td>\n",
       "      <td>Europe</td>\n",
       "      <td>51</td>\n",
       "      <td>No</td>\n",
       "    </tr>\n",
       "    <tr>\n",
       "      <th>6981</th>\n",
       "      <td>22805.0</td>\n",
       "      <td>Married</td>\n",
       "      <td>Female</td>\n",
       "      <td>80000</td>\n",
       "      <td>0.0</td>\n",
       "      <td>Bachelors</td>\n",
       "      <td>Management</td>\n",
       "      <td>Yes</td>\n",
       "      <td>2</td>\n",
       "      <td>1.0</td>\n",
       "      <td>Europe</td>\n",
       "      <td>62</td>\n",
       "      <td>No</td>\n",
       "    </tr>\n",
       "    <tr>\n",
       "      <th>6982</th>\n",
       "      <td>22806.0</td>\n",
       "      <td>Married</td>\n",
       "      <td>Female</td>\n",
       "      <td>90000</td>\n",
       "      <td>0.0</td>\n",
       "      <td>Partial College</td>\n",
       "      <td>Professional</td>\n",
       "      <td>Yes</td>\n",
       "      <td>2</td>\n",
       "      <td>1.0</td>\n",
       "      <td>Europe</td>\n",
       "      <td>62</td>\n",
       "      <td>No</td>\n",
       "    </tr>\n",
       "    <tr>\n",
       "      <th>6983</th>\n",
       "      <td>22807.0</td>\n",
       "      <td>Married</td>\n",
       "      <td>Female</td>\n",
       "      <td>130000</td>\n",
       "      <td>4.0</td>\n",
       "      <td>Bachelors</td>\n",
       "      <td>Management</td>\n",
       "      <td>Yes</td>\n",
       "      <td>4</td>\n",
       "      <td>2.0</td>\n",
       "      <td>Europe</td>\n",
       "      <td>62</td>\n",
       "      <td>No</td>\n",
       "    </tr>\n",
       "    <tr>\n",
       "      <th>6984</th>\n",
       "      <td>22809.0</td>\n",
       "      <td>Married</td>\n",
       "      <td>Male</td>\n",
       "      <td>80000</td>\n",
       "      <td>0.0</td>\n",
       "      <td>Partial College</td>\n",
       "      <td>Professional</td>\n",
       "      <td>Yes</td>\n",
       "      <td>2</td>\n",
       "      <td>7.0</td>\n",
       "      <td>Europe</td>\n",
       "      <td>61</td>\n",
       "      <td>No</td>\n",
       "    </tr>\n",
       "    <tr>\n",
       "      <th>6985</th>\n",
       "      <td>22811.0</td>\n",
       "      <td>Married</td>\n",
       "      <td>Male</td>\n",
       "      <td>110000</td>\n",
       "      <td>4.0</td>\n",
       "      <td>Bachelors</td>\n",
       "      <td>Management</td>\n",
       "      <td>Yes</td>\n",
       "      <td>4</td>\n",
       "      <td>8.0</td>\n",
       "      <td>Europe</td>\n",
       "      <td>61</td>\n",
       "      <td>No</td>\n",
       "    </tr>\n",
       "    <tr>\n",
       "      <th>6986</th>\n",
       "      <td>22812.0</td>\n",
       "      <td>Married</td>\n",
       "      <td>Female</td>\n",
       "      <td>120000</td>\n",
       "      <td>4.0</td>\n",
       "      <td>Bachelors</td>\n",
       "      <td>Management</td>\n",
       "      <td>Yes</td>\n",
       "      <td>4</td>\n",
       "      <td>9.0</td>\n",
       "      <td>Europe</td>\n",
       "      <td>61</td>\n",
       "      <td>No</td>\n",
       "    </tr>\n",
       "    <tr>\n",
       "      <th>6987</th>\n",
       "      <td>22813.0</td>\n",
       "      <td>Married</td>\n",
       "      <td>Male</td>\n",
       "      <td>130000</td>\n",
       "      <td>4.0</td>\n",
       "      <td>Bachelors</td>\n",
       "      <td>Management</td>\n",
       "      <td>Yes</td>\n",
       "      <td>4</td>\n",
       "      <td>2.0</td>\n",
       "      <td>Europe</td>\n",
       "      <td>61</td>\n",
       "      <td>No</td>\n",
       "    </tr>\n",
       "    <tr>\n",
       "      <th>6988</th>\n",
       "      <td>22814.0</td>\n",
       "      <td>Married</td>\n",
       "      <td>Male</td>\n",
       "      <td>100000</td>\n",
       "      <td>3.0</td>\n",
       "      <td>Bachelors</td>\n",
       "      <td>Management</td>\n",
       "      <td>Yes</td>\n",
       "      <td>4</td>\n",
       "      <td>3.0</td>\n",
       "      <td>Europe</td>\n",
       "      <td>60</td>\n",
       "      <td>No</td>\n",
       "    </tr>\n",
       "    <tr>\n",
       "      <th>6989</th>\n",
       "      <td>22815.0</td>\n",
       "      <td>Married</td>\n",
       "      <td>Female</td>\n",
       "      <td>100000</td>\n",
       "      <td>4.0</td>\n",
       "      <td>Bachelors</td>\n",
       "      <td>Management</td>\n",
       "      <td>Yes</td>\n",
       "      <td>1</td>\n",
       "      <td>5.0</td>\n",
       "      <td>Europe</td>\n",
       "      <td>60</td>\n",
       "      <td>No</td>\n",
       "    </tr>\n",
       "    <tr>\n",
       "      <th>6990</th>\n",
       "      <td>22818.0</td>\n",
       "      <td>Married</td>\n",
       "      <td>Female</td>\n",
       "      <td>150000</td>\n",
       "      <td>4.0</td>\n",
       "      <td>Graduate Degree</td>\n",
       "      <td>Management</td>\n",
       "      <td>Yes</td>\n",
       "      <td>4</td>\n",
       "      <td>6.0</td>\n",
       "      <td>Europe</td>\n",
       "      <td>60</td>\n",
       "      <td>No</td>\n",
       "    </tr>\n",
       "    <tr>\n",
       "      <th>6991</th>\n",
       "      <td>22819.0</td>\n",
       "      <td>Married</td>\n",
       "      <td>Female</td>\n",
       "      <td>80000</td>\n",
       "      <td>2.0</td>\n",
       "      <td>Partial College</td>\n",
       "      <td>Professional</td>\n",
       "      <td>Yes</td>\n",
       "      <td>2</td>\n",
       "      <td>7.0</td>\n",
       "      <td>Europe</td>\n",
       "      <td>53</td>\n",
       "      <td>No</td>\n",
       "    </tr>\n",
       "    <tr>\n",
       "      <th>6992</th>\n",
       "      <td>22820.0</td>\n",
       "      <td>Married</td>\n",
       "      <td>Male</td>\n",
       "      <td>100000</td>\n",
       "      <td>4.0</td>\n",
       "      <td>High School</td>\n",
       "      <td>Professional</td>\n",
       "      <td>Yes</td>\n",
       "      <td>3</td>\n",
       "      <td>1.0</td>\n",
       "      <td>Europe</td>\n",
       "      <td>52</td>\n",
       "      <td>No</td>\n",
       "    </tr>\n",
       "    <tr>\n",
       "      <th>6993</th>\n",
       "      <td>22821.0</td>\n",
       "      <td>Married</td>\n",
       "      <td>Female</td>\n",
       "      <td>130000</td>\n",
       "      <td>4.0</td>\n",
       "      <td>Partial College</td>\n",
       "      <td>Professional</td>\n",
       "      <td>Yes</td>\n",
       "      <td>4</td>\n",
       "      <td>2.0</td>\n",
       "      <td>Europe</td>\n",
       "      <td>52</td>\n",
       "      <td>No</td>\n",
       "    </tr>\n",
       "    <tr>\n",
       "      <th>6994</th>\n",
       "      <td>22823.0</td>\n",
       "      <td>Married</td>\n",
       "      <td>Female</td>\n",
       "      <td>160000</td>\n",
       "      <td>5.0</td>\n",
       "      <td>Bachelors</td>\n",
       "      <td>Management</td>\n",
       "      <td>Yes</td>\n",
       "      <td>2</td>\n",
       "      <td>1.0</td>\n",
       "      <td>Europe</td>\n",
       "      <td>53</td>\n",
       "      <td>No</td>\n",
       "    </tr>\n",
       "    <tr>\n",
       "      <th>6995</th>\n",
       "      <td>22825.0</td>\n",
       "      <td>Single</td>\n",
       "      <td>Female</td>\n",
       "      <td>120000</td>\n",
       "      <td>5.0</td>\n",
       "      <td>Partial College</td>\n",
       "      <td>Professional</td>\n",
       "      <td>Yes</td>\n",
       "      <td>3</td>\n",
       "      <td>1.0</td>\n",
       "      <td>Europe</td>\n",
       "      <td>54</td>\n",
       "      <td>No</td>\n",
       "    </tr>\n",
       "    <tr>\n",
       "      <th>6996</th>\n",
       "      <td>22826.0</td>\n",
       "      <td>Married</td>\n",
       "      <td>Male</td>\n",
       "      <td>130000</td>\n",
       "      <td>5.0</td>\n",
       "      <td>High School</td>\n",
       "      <td>Professional</td>\n",
       "      <td>Yes</td>\n",
       "      <td>3</td>\n",
       "      <td>2.0</td>\n",
       "      <td>Europe</td>\n",
       "      <td>54</td>\n",
       "      <td>No</td>\n",
       "    </tr>\n",
       "  </tbody>\n",
       "</table>\n",
       "<p>6997 rows × 13 columns</p>\n",
       "</div>"
      ],
      "text/plain": [
       "           ID Marital Status  Gender  Yearly Income  Children  \\\n",
       "0     22711.0         Single    Male          30000       0.0   \n",
       "1     13555.0        Married  Female          40000       0.0   \n",
       "2         NaN        Married    Male         160000       5.0   \n",
       "3         2.0         Single    Male         160000       0.0   \n",
       "4     25410.0            NaN  Female          70000       2.0   \n",
       "5         4.0        Married     NaN         120000       2.0   \n",
       "6     15756.0         Single  Female          70000       0.0   \n",
       "7     11085.0         Single  Female          60000       0.0   \n",
       "8     17974.0            NaN  Female              0       NaN   \n",
       "9     21008.0         Single  Female          20000       1.0   \n",
       "10    28985.0         Single    Male          50000       0.0   \n",
       "11    11087.0        Married  Female          70000       2.0   \n",
       "12    20434.0         Single     NaN          60000       0.0   \n",
       "13    14902.0            NaN  Female          40000       0.0   \n",
       "14    11091.0        Married    Male          90000       0.0   \n",
       "15    11094.0         Single    Male          70000       0.0   \n",
       "16    18568.0         Single  Female          50000       2.0   \n",
       "17    16366.0        Married  Female          40000       0.0   \n",
       "18    20768.0         Single    Male              0       0.0   \n",
       "19    11098.0            NaN  Female          60000       0.0   \n",
       "20    18269.0         Single  Female          60000       2.0   \n",
       "21    11102.0         Single     NaN          80000       5.0   \n",
       "22    11113.0        Married    Male          70000       4.0   \n",
       "23    26529.0            NaN  Female          70000       0.0   \n",
       "24    11114.0         Single  Female          70000       4.0   \n",
       "25    23612.0         Single  Female          90000       0.0   \n",
       "26    11115.0        Married    Male          70000       4.0   \n",
       "27    11116.0        Married    Male          70000       4.0   \n",
       "28    11118.0         Single    Male          80000       NaN   \n",
       "29    19441.0         Single    Male          40000       0.0   \n",
       "...       ...            ...     ...            ...       ...   \n",
       "6967  22779.0        Married    Male          60000       1.0   \n",
       "6968  22781.0        Married    Male          70000       2.0   \n",
       "6969  22783.0        Married    Male          70000       1.0   \n",
       "6970  22786.0        Married    Male          70000       1.0   \n",
       "6971  22792.0        Married    Male          70000       3.0   \n",
       "6972  22793.0         Single    Male          70000       3.0   \n",
       "6973  22794.0        Married  Female         130000       4.0   \n",
       "6974  22795.0        Married  Female         110000       4.0   \n",
       "6975  22796.0        Married    Male         110000       4.0   \n",
       "6976  22798.0        Married  Female         150000       3.0   \n",
       "6977  22799.0        Married  Female         120000       4.0   \n",
       "6978  22801.0        Married  Female         110000       4.0   \n",
       "6979  22802.0         Single  Female         120000       4.0   \n",
       "6980  22804.0        Married  Female          80000       1.0   \n",
       "6981  22805.0        Married  Female          80000       0.0   \n",
       "6982  22806.0        Married  Female          90000       0.0   \n",
       "6983  22807.0        Married  Female         130000       4.0   \n",
       "6984  22809.0        Married    Male          80000       0.0   \n",
       "6985  22811.0        Married    Male         110000       4.0   \n",
       "6986  22812.0        Married  Female         120000       4.0   \n",
       "6987  22813.0        Married    Male         130000       4.0   \n",
       "6988  22814.0        Married    Male         100000       3.0   \n",
       "6989  22815.0        Married  Female         100000       4.0   \n",
       "6990  22818.0        Married  Female         150000       4.0   \n",
       "6991  22819.0        Married  Female          80000       2.0   \n",
       "6992  22820.0        Married    Male         100000       4.0   \n",
       "6993  22821.0        Married  Female         130000       4.0   \n",
       "6994  22823.0        Married  Female         160000       5.0   \n",
       "6995  22825.0         Single  Female         120000       5.0   \n",
       "6996  22826.0        Married    Male         130000       5.0   \n",
       "\n",
       "                Education      Occupation Home Owner  Cars  Commute Distance  \\\n",
       "0         Partial College        Clerical         No     1               1.0   \n",
       "1         Graduate Degree        Clerical        Yes     0               1.0   \n",
       "2         Partial College    Professional         No     3               2.0   \n",
       "3         Graduate Degree      Management        Yes     2               5.0   \n",
       "4               Bachelors  Skilled Manual         No     1               1.0   \n",
       "5               Bachelors      Management        Yes     3               1.0   \n",
       "6             High School    Professional        Yes     2               NaN   \n",
       "7             High School    Professional         No     2               1.0   \n",
       "8               Bachelors        Clerical        Yes     0              10.0   \n",
       "9         Partial College          Manual         No     0               1.0   \n",
       "10              Bachelors      Management         No     2               2.0   \n",
       "11        Partial College    Professional         No     0              11.0   \n",
       "12        Partial College  Skilled Manual         No     2               1.0   \n",
       "13        Partial College        Clerical        Yes     1               1.0   \n",
       "14        Partial College    Professional        Yes     1               1.0   \n",
       "15        Partial College  Skilled Manual         No     1               1.0   \n",
       "16              Bachelors  Skilled Manual        Yes     1               2.0   \n",
       "17        Partial College        Clerical        Yes     1               1.0   \n",
       "18        Partial College        Clerical        Yes     1               2.0   \n",
       "19        Partial College  Skilled Manual         No     1               6.0   \n",
       "20              Bachelors    Professional        Yes     2               1.0   \n",
       "21              Bachelors    Professional        Yes     4              12.0   \n",
       "22              Bachelors    Professional        Yes     2               1.0   \n",
       "23        Graduate Degree    Professional        Yes     0               NaN   \n",
       "24        Partial College  Skilled Manual        Yes     2               1.0   \n",
       "25        Partial College    Professional         No     2               1.0   \n",
       "26        Partial College  Skilled Manual        Yes     2               1.0   \n",
       "27        Partial College  Skilled Manual        Yes     2               9.0   \n",
       "28        Partial College  Skilled Manual         No     1               5.0   \n",
       "29        Graduate Degree        Clerical        Yes     0               1.0   \n",
       "...                   ...             ...        ...   ...               ...   \n",
       "6967      Partial College    Professional        Yes     2               2.0   \n",
       "6968      Partial College    Professional        Yes     1               1.0   \n",
       "6969  Partial High School  Skilled Manual        Yes     2               1.0   \n",
       "6970  Partial High School  Skilled Manual        Yes     3               2.0   \n",
       "6971      Partial College    Professional        Yes     1               7.0   \n",
       "6972      Partial College    Professional        Yes     1               8.0   \n",
       "6973      Partial College    Professional        Yes     1               9.0   \n",
       "6974      Partial College    Professional        Yes     3               2.0   \n",
       "6975      Partial College    Professional         No     3               3.0   \n",
       "6976          High School    Professional        Yes     4               5.0   \n",
       "6977  Partial High School    Professional         No     4               6.0   \n",
       "6978      Partial College    Professional        Yes     4               7.0   \n",
       "6979  Partial High School    Professional        Yes     4               1.0   \n",
       "6980      Partial College    Professional        Yes     2               2.0   \n",
       "6981            Bachelors      Management        Yes     2               1.0   \n",
       "6982      Partial College    Professional        Yes     2               1.0   \n",
       "6983            Bachelors      Management        Yes     4               2.0   \n",
       "6984      Partial College    Professional        Yes     2               7.0   \n",
       "6985            Bachelors      Management        Yes     4               8.0   \n",
       "6986            Bachelors      Management        Yes     4               9.0   \n",
       "6987            Bachelors      Management        Yes     4               2.0   \n",
       "6988            Bachelors      Management        Yes     4               3.0   \n",
       "6989            Bachelors      Management        Yes     1               5.0   \n",
       "6990      Graduate Degree      Management        Yes     4               6.0   \n",
       "6991      Partial College    Professional        Yes     2               7.0   \n",
       "6992          High School    Professional        Yes     3               1.0   \n",
       "6993      Partial College    Professional        Yes     4               2.0   \n",
       "6994            Bachelors      Management        Yes     2               1.0   \n",
       "6995      Partial College    Professional        Yes     3               1.0   \n",
       "6996          High School    Professional        Yes     3               2.0   \n",
       "\n",
       "             Region  Age Bike Buyer  \n",
       "0            Europe   33        Yes  \n",
       "1            Europe   37        Yes  \n",
       "2            Europe   55         No  \n",
       "3           Pacific   47         No  \n",
       "4     North America   38        Yes  \n",
       "5     North America   40         No  \n",
       "6           Pacific   49        Yes  \n",
       "7     North America   49         No  \n",
       "8            Europe   38        Yes  \n",
       "9            Europe   46        Yes  \n",
       "10    North America   64         No  \n",
       "11    North America   49         No  \n",
       "12    North America   31        Yes  \n",
       "13    North America   50        Yes  \n",
       "14    North America   49         No  \n",
       "15          Pacific   44         No  \n",
       "16    North America   39        Yes  \n",
       "17    North America   51        Yes  \n",
       "18    North America   48        Yes  \n",
       "19          Pacific   45         No  \n",
       "20          Pacific   43        Yes  \n",
       "21          Pacific   41         No  \n",
       "22          Pacific   44         No  \n",
       "23    North America   37        Yes  \n",
       "24          Pacific   44         No  \n",
       "25           Europe   62        Yes  \n",
       "26          Pacific   44         No  \n",
       "27          Pacific   44         No  \n",
       "28          Pacific   49         No  \n",
       "29           Europe   37        Yes  \n",
       "...             ...  ...        ...  \n",
       "6967  North America   54         No  \n",
       "6968  North America   55         No  \n",
       "6969  North America   54         No  \n",
       "6970  North America   54         No  \n",
       "6971  North America   53         No  \n",
       "6972  North America   53         No  \n",
       "6973         Europe   48         No  \n",
       "6974         Europe   49         No  \n",
       "6975         Europe   49         No  \n",
       "6976         Europe   49         No  \n",
       "6977         Europe   50         No  \n",
       "6978         Europe   51         No  \n",
       "6979         Europe   51         No  \n",
       "6980         Europe   51         No  \n",
       "6981         Europe   62         No  \n",
       "6982         Europe   62         No  \n",
       "6983         Europe   62         No  \n",
       "6984         Europe   61         No  \n",
       "6985         Europe   61         No  \n",
       "6986         Europe   61         No  \n",
       "6987         Europe   61         No  \n",
       "6988         Europe   60         No  \n",
       "6989         Europe   60         No  \n",
       "6990         Europe   60         No  \n",
       "6991         Europe   53         No  \n",
       "6992         Europe   52         No  \n",
       "6993         Europe   52         No  \n",
       "6994         Europe   53         No  \n",
       "6995         Europe   54         No  \n",
       "6996         Europe   54         No  \n",
       "\n",
       "[6997 rows x 13 columns]"
      ]
     },
     "execution_count": 256,
     "metadata": {},
     "output_type": "execute_result"
    }
   ],
   "source": [
    "#displaying dataset\n",
    "bb"
   ]
  },
  {
   "cell_type": "code",
   "execution_count": 257,
   "metadata": {
    "scrolled": true
   },
   "outputs": [
    {
     "data": {
      "text/html": [
       "<div>\n",
       "<style>\n",
       "    .dataframe thead tr:only-child th {\n",
       "        text-align: right;\n",
       "    }\n",
       "\n",
       "    .dataframe thead th {\n",
       "        text-align: left;\n",
       "    }\n",
       "\n",
       "    .dataframe tbody tr th {\n",
       "        vertical-align: top;\n",
       "    }\n",
       "</style>\n",
       "<table border=\"1\" class=\"dataframe\">\n",
       "  <thead>\n",
       "    <tr style=\"text-align: right;\">\n",
       "      <th></th>\n",
       "      <th>Marital Status</th>\n",
       "      <th>Gender</th>\n",
       "      <th>Yearly Income</th>\n",
       "      <th>Children</th>\n",
       "      <th>Education</th>\n",
       "      <th>Occupation</th>\n",
       "      <th>Home Owner</th>\n",
       "      <th>Cars</th>\n",
       "      <th>Commute Distance</th>\n",
       "      <th>Region</th>\n",
       "      <th>Age</th>\n",
       "      <th>Bike Buyer</th>\n",
       "    </tr>\n",
       "  </thead>\n",
       "  <tbody>\n",
       "    <tr>\n",
       "      <th>0</th>\n",
       "      <td>Single</td>\n",
       "      <td>Male</td>\n",
       "      <td>30000</td>\n",
       "      <td>0.0</td>\n",
       "      <td>Partial College</td>\n",
       "      <td>Clerical</td>\n",
       "      <td>No</td>\n",
       "      <td>1</td>\n",
       "      <td>1.0</td>\n",
       "      <td>Europe</td>\n",
       "      <td>33</td>\n",
       "      <td>Yes</td>\n",
       "    </tr>\n",
       "    <tr>\n",
       "      <th>1</th>\n",
       "      <td>Married</td>\n",
       "      <td>Female</td>\n",
       "      <td>40000</td>\n",
       "      <td>0.0</td>\n",
       "      <td>Graduate Degree</td>\n",
       "      <td>Clerical</td>\n",
       "      <td>Yes</td>\n",
       "      <td>0</td>\n",
       "      <td>1.0</td>\n",
       "      <td>Europe</td>\n",
       "      <td>37</td>\n",
       "      <td>Yes</td>\n",
       "    </tr>\n",
       "    <tr>\n",
       "      <th>2</th>\n",
       "      <td>Married</td>\n",
       "      <td>Male</td>\n",
       "      <td>160000</td>\n",
       "      <td>5.0</td>\n",
       "      <td>Partial College</td>\n",
       "      <td>Professional</td>\n",
       "      <td>No</td>\n",
       "      <td>3</td>\n",
       "      <td>2.0</td>\n",
       "      <td>Europe</td>\n",
       "      <td>55</td>\n",
       "      <td>No</td>\n",
       "    </tr>\n",
       "    <tr>\n",
       "      <th>3</th>\n",
       "      <td>Single</td>\n",
       "      <td>Male</td>\n",
       "      <td>160000</td>\n",
       "      <td>0.0</td>\n",
       "      <td>Graduate Degree</td>\n",
       "      <td>Management</td>\n",
       "      <td>Yes</td>\n",
       "      <td>2</td>\n",
       "      <td>5.0</td>\n",
       "      <td>Pacific</td>\n",
       "      <td>47</td>\n",
       "      <td>No</td>\n",
       "    </tr>\n",
       "    <tr>\n",
       "      <th>4</th>\n",
       "      <td>NaN</td>\n",
       "      <td>Female</td>\n",
       "      <td>70000</td>\n",
       "      <td>2.0</td>\n",
       "      <td>Bachelors</td>\n",
       "      <td>Skilled Manual</td>\n",
       "      <td>No</td>\n",
       "      <td>1</td>\n",
       "      <td>1.0</td>\n",
       "      <td>North America</td>\n",
       "      <td>38</td>\n",
       "      <td>Yes</td>\n",
       "    </tr>\n",
       "    <tr>\n",
       "      <th>5</th>\n",
       "      <td>Married</td>\n",
       "      <td>NaN</td>\n",
       "      <td>120000</td>\n",
       "      <td>2.0</td>\n",
       "      <td>Bachelors</td>\n",
       "      <td>Management</td>\n",
       "      <td>Yes</td>\n",
       "      <td>3</td>\n",
       "      <td>1.0</td>\n",
       "      <td>North America</td>\n",
       "      <td>40</td>\n",
       "      <td>No</td>\n",
       "    </tr>\n",
       "    <tr>\n",
       "      <th>6</th>\n",
       "      <td>Single</td>\n",
       "      <td>Female</td>\n",
       "      <td>70000</td>\n",
       "      <td>0.0</td>\n",
       "      <td>High School</td>\n",
       "      <td>Professional</td>\n",
       "      <td>Yes</td>\n",
       "      <td>2</td>\n",
       "      <td>NaN</td>\n",
       "      <td>Pacific</td>\n",
       "      <td>49</td>\n",
       "      <td>Yes</td>\n",
       "    </tr>\n",
       "    <tr>\n",
       "      <th>7</th>\n",
       "      <td>Single</td>\n",
       "      <td>Female</td>\n",
       "      <td>60000</td>\n",
       "      <td>0.0</td>\n",
       "      <td>High School</td>\n",
       "      <td>Professional</td>\n",
       "      <td>No</td>\n",
       "      <td>2</td>\n",
       "      <td>1.0</td>\n",
       "      <td>North America</td>\n",
       "      <td>49</td>\n",
       "      <td>No</td>\n",
       "    </tr>\n",
       "    <tr>\n",
       "      <th>8</th>\n",
       "      <td>NaN</td>\n",
       "      <td>Female</td>\n",
       "      <td>0</td>\n",
       "      <td>NaN</td>\n",
       "      <td>Bachelors</td>\n",
       "      <td>Clerical</td>\n",
       "      <td>Yes</td>\n",
       "      <td>0</td>\n",
       "      <td>10.0</td>\n",
       "      <td>Europe</td>\n",
       "      <td>38</td>\n",
       "      <td>Yes</td>\n",
       "    </tr>\n",
       "    <tr>\n",
       "      <th>9</th>\n",
       "      <td>Single</td>\n",
       "      <td>Female</td>\n",
       "      <td>20000</td>\n",
       "      <td>1.0</td>\n",
       "      <td>Partial College</td>\n",
       "      <td>Manual</td>\n",
       "      <td>No</td>\n",
       "      <td>0</td>\n",
       "      <td>1.0</td>\n",
       "      <td>Europe</td>\n",
       "      <td>46</td>\n",
       "      <td>Yes</td>\n",
       "    </tr>\n",
       "    <tr>\n",
       "      <th>10</th>\n",
       "      <td>Single</td>\n",
       "      <td>Male</td>\n",
       "      <td>50000</td>\n",
       "      <td>0.0</td>\n",
       "      <td>Bachelors</td>\n",
       "      <td>Management</td>\n",
       "      <td>No</td>\n",
       "      <td>2</td>\n",
       "      <td>2.0</td>\n",
       "      <td>North America</td>\n",
       "      <td>64</td>\n",
       "      <td>No</td>\n",
       "    </tr>\n",
       "    <tr>\n",
       "      <th>11</th>\n",
       "      <td>Married</td>\n",
       "      <td>Female</td>\n",
       "      <td>70000</td>\n",
       "      <td>2.0</td>\n",
       "      <td>Partial College</td>\n",
       "      <td>Professional</td>\n",
       "      <td>No</td>\n",
       "      <td>0</td>\n",
       "      <td>11.0</td>\n",
       "      <td>North America</td>\n",
       "      <td>49</td>\n",
       "      <td>No</td>\n",
       "    </tr>\n",
       "    <tr>\n",
       "      <th>12</th>\n",
       "      <td>Single</td>\n",
       "      <td>NaN</td>\n",
       "      <td>60000</td>\n",
       "      <td>0.0</td>\n",
       "      <td>Partial College</td>\n",
       "      <td>Skilled Manual</td>\n",
       "      <td>No</td>\n",
       "      <td>2</td>\n",
       "      <td>1.0</td>\n",
       "      <td>North America</td>\n",
       "      <td>31</td>\n",
       "      <td>Yes</td>\n",
       "    </tr>\n",
       "    <tr>\n",
       "      <th>13</th>\n",
       "      <td>NaN</td>\n",
       "      <td>Female</td>\n",
       "      <td>40000</td>\n",
       "      <td>0.0</td>\n",
       "      <td>Partial College</td>\n",
       "      <td>Clerical</td>\n",
       "      <td>Yes</td>\n",
       "      <td>1</td>\n",
       "      <td>1.0</td>\n",
       "      <td>North America</td>\n",
       "      <td>50</td>\n",
       "      <td>Yes</td>\n",
       "    </tr>\n",
       "    <tr>\n",
       "      <th>14</th>\n",
       "      <td>Married</td>\n",
       "      <td>Male</td>\n",
       "      <td>90000</td>\n",
       "      <td>0.0</td>\n",
       "      <td>Partial College</td>\n",
       "      <td>Professional</td>\n",
       "      <td>Yes</td>\n",
       "      <td>1</td>\n",
       "      <td>1.0</td>\n",
       "      <td>North America</td>\n",
       "      <td>49</td>\n",
       "      <td>No</td>\n",
       "    </tr>\n",
       "    <tr>\n",
       "      <th>15</th>\n",
       "      <td>Single</td>\n",
       "      <td>Male</td>\n",
       "      <td>70000</td>\n",
       "      <td>0.0</td>\n",
       "      <td>Partial College</td>\n",
       "      <td>Skilled Manual</td>\n",
       "      <td>No</td>\n",
       "      <td>1</td>\n",
       "      <td>1.0</td>\n",
       "      <td>Pacific</td>\n",
       "      <td>44</td>\n",
       "      <td>No</td>\n",
       "    </tr>\n",
       "    <tr>\n",
       "      <th>16</th>\n",
       "      <td>Single</td>\n",
       "      <td>Female</td>\n",
       "      <td>50000</td>\n",
       "      <td>2.0</td>\n",
       "      <td>Bachelors</td>\n",
       "      <td>Skilled Manual</td>\n",
       "      <td>Yes</td>\n",
       "      <td>1</td>\n",
       "      <td>2.0</td>\n",
       "      <td>North America</td>\n",
       "      <td>39</td>\n",
       "      <td>Yes</td>\n",
       "    </tr>\n",
       "    <tr>\n",
       "      <th>17</th>\n",
       "      <td>Married</td>\n",
       "      <td>Female</td>\n",
       "      <td>40000</td>\n",
       "      <td>0.0</td>\n",
       "      <td>Partial College</td>\n",
       "      <td>Clerical</td>\n",
       "      <td>Yes</td>\n",
       "      <td>1</td>\n",
       "      <td>1.0</td>\n",
       "      <td>North America</td>\n",
       "      <td>51</td>\n",
       "      <td>Yes</td>\n",
       "    </tr>\n",
       "    <tr>\n",
       "      <th>18</th>\n",
       "      <td>Single</td>\n",
       "      <td>Male</td>\n",
       "      <td>0</td>\n",
       "      <td>0.0</td>\n",
       "      <td>Partial College</td>\n",
       "      <td>Clerical</td>\n",
       "      <td>Yes</td>\n",
       "      <td>1</td>\n",
       "      <td>2.0</td>\n",
       "      <td>North America</td>\n",
       "      <td>48</td>\n",
       "      <td>Yes</td>\n",
       "    </tr>\n",
       "    <tr>\n",
       "      <th>19</th>\n",
       "      <td>NaN</td>\n",
       "      <td>Female</td>\n",
       "      <td>60000</td>\n",
       "      <td>0.0</td>\n",
       "      <td>Partial College</td>\n",
       "      <td>Skilled Manual</td>\n",
       "      <td>No</td>\n",
       "      <td>1</td>\n",
       "      <td>6.0</td>\n",
       "      <td>Pacific</td>\n",
       "      <td>45</td>\n",
       "      <td>No</td>\n",
       "    </tr>\n",
       "    <tr>\n",
       "      <th>20</th>\n",
       "      <td>Single</td>\n",
       "      <td>Female</td>\n",
       "      <td>60000</td>\n",
       "      <td>2.0</td>\n",
       "      <td>Bachelors</td>\n",
       "      <td>Professional</td>\n",
       "      <td>Yes</td>\n",
       "      <td>2</td>\n",
       "      <td>1.0</td>\n",
       "      <td>Pacific</td>\n",
       "      <td>43</td>\n",
       "      <td>Yes</td>\n",
       "    </tr>\n",
       "    <tr>\n",
       "      <th>21</th>\n",
       "      <td>Single</td>\n",
       "      <td>NaN</td>\n",
       "      <td>80000</td>\n",
       "      <td>5.0</td>\n",
       "      <td>Bachelors</td>\n",
       "      <td>Professional</td>\n",
       "      <td>Yes</td>\n",
       "      <td>4</td>\n",
       "      <td>12.0</td>\n",
       "      <td>Pacific</td>\n",
       "      <td>41</td>\n",
       "      <td>No</td>\n",
       "    </tr>\n",
       "    <tr>\n",
       "      <th>22</th>\n",
       "      <td>Married</td>\n",
       "      <td>Male</td>\n",
       "      <td>70000</td>\n",
       "      <td>4.0</td>\n",
       "      <td>Bachelors</td>\n",
       "      <td>Professional</td>\n",
       "      <td>Yes</td>\n",
       "      <td>2</td>\n",
       "      <td>1.0</td>\n",
       "      <td>Pacific</td>\n",
       "      <td>44</td>\n",
       "      <td>No</td>\n",
       "    </tr>\n",
       "    <tr>\n",
       "      <th>23</th>\n",
       "      <td>NaN</td>\n",
       "      <td>Female</td>\n",
       "      <td>70000</td>\n",
       "      <td>0.0</td>\n",
       "      <td>Graduate Degree</td>\n",
       "      <td>Professional</td>\n",
       "      <td>Yes</td>\n",
       "      <td>0</td>\n",
       "      <td>NaN</td>\n",
       "      <td>North America</td>\n",
       "      <td>37</td>\n",
       "      <td>Yes</td>\n",
       "    </tr>\n",
       "    <tr>\n",
       "      <th>24</th>\n",
       "      <td>Single</td>\n",
       "      <td>Female</td>\n",
       "      <td>70000</td>\n",
       "      <td>4.0</td>\n",
       "      <td>Partial College</td>\n",
       "      <td>Skilled Manual</td>\n",
       "      <td>Yes</td>\n",
       "      <td>2</td>\n",
       "      <td>1.0</td>\n",
       "      <td>Pacific</td>\n",
       "      <td>44</td>\n",
       "      <td>No</td>\n",
       "    </tr>\n",
       "    <tr>\n",
       "      <th>25</th>\n",
       "      <td>Single</td>\n",
       "      <td>Female</td>\n",
       "      <td>90000</td>\n",
       "      <td>0.0</td>\n",
       "      <td>Partial College</td>\n",
       "      <td>Professional</td>\n",
       "      <td>No</td>\n",
       "      <td>2</td>\n",
       "      <td>1.0</td>\n",
       "      <td>Europe</td>\n",
       "      <td>62</td>\n",
       "      <td>Yes</td>\n",
       "    </tr>\n",
       "    <tr>\n",
       "      <th>26</th>\n",
       "      <td>Married</td>\n",
       "      <td>Male</td>\n",
       "      <td>70000</td>\n",
       "      <td>4.0</td>\n",
       "      <td>Partial College</td>\n",
       "      <td>Skilled Manual</td>\n",
       "      <td>Yes</td>\n",
       "      <td>2</td>\n",
       "      <td>1.0</td>\n",
       "      <td>Pacific</td>\n",
       "      <td>44</td>\n",
       "      <td>No</td>\n",
       "    </tr>\n",
       "    <tr>\n",
       "      <th>27</th>\n",
       "      <td>Married</td>\n",
       "      <td>Male</td>\n",
       "      <td>70000</td>\n",
       "      <td>4.0</td>\n",
       "      <td>Partial College</td>\n",
       "      <td>Skilled Manual</td>\n",
       "      <td>Yes</td>\n",
       "      <td>2</td>\n",
       "      <td>9.0</td>\n",
       "      <td>Pacific</td>\n",
       "      <td>44</td>\n",
       "      <td>No</td>\n",
       "    </tr>\n",
       "    <tr>\n",
       "      <th>28</th>\n",
       "      <td>Single</td>\n",
       "      <td>Male</td>\n",
       "      <td>80000</td>\n",
       "      <td>NaN</td>\n",
       "      <td>Partial College</td>\n",
       "      <td>Skilled Manual</td>\n",
       "      <td>No</td>\n",
       "      <td>1</td>\n",
       "      <td>5.0</td>\n",
       "      <td>Pacific</td>\n",
       "      <td>49</td>\n",
       "      <td>No</td>\n",
       "    </tr>\n",
       "    <tr>\n",
       "      <th>29</th>\n",
       "      <td>Single</td>\n",
       "      <td>Male</td>\n",
       "      <td>40000</td>\n",
       "      <td>0.0</td>\n",
       "      <td>Graduate Degree</td>\n",
       "      <td>Clerical</td>\n",
       "      <td>Yes</td>\n",
       "      <td>0</td>\n",
       "      <td>1.0</td>\n",
       "      <td>Europe</td>\n",
       "      <td>37</td>\n",
       "      <td>Yes</td>\n",
       "    </tr>\n",
       "    <tr>\n",
       "      <th>...</th>\n",
       "      <td>...</td>\n",
       "      <td>...</td>\n",
       "      <td>...</td>\n",
       "      <td>...</td>\n",
       "      <td>...</td>\n",
       "      <td>...</td>\n",
       "      <td>...</td>\n",
       "      <td>...</td>\n",
       "      <td>...</td>\n",
       "      <td>...</td>\n",
       "      <td>...</td>\n",
       "      <td>...</td>\n",
       "    </tr>\n",
       "    <tr>\n",
       "      <th>6967</th>\n",
       "      <td>Married</td>\n",
       "      <td>Male</td>\n",
       "      <td>60000</td>\n",
       "      <td>1.0</td>\n",
       "      <td>Partial College</td>\n",
       "      <td>Professional</td>\n",
       "      <td>Yes</td>\n",
       "      <td>2</td>\n",
       "      <td>2.0</td>\n",
       "      <td>North America</td>\n",
       "      <td>54</td>\n",
       "      <td>No</td>\n",
       "    </tr>\n",
       "    <tr>\n",
       "      <th>6968</th>\n",
       "      <td>Married</td>\n",
       "      <td>Male</td>\n",
       "      <td>70000</td>\n",
       "      <td>2.0</td>\n",
       "      <td>Partial College</td>\n",
       "      <td>Professional</td>\n",
       "      <td>Yes</td>\n",
       "      <td>1</td>\n",
       "      <td>1.0</td>\n",
       "      <td>North America</td>\n",
       "      <td>55</td>\n",
       "      <td>No</td>\n",
       "    </tr>\n",
       "    <tr>\n",
       "      <th>6969</th>\n",
       "      <td>Married</td>\n",
       "      <td>Male</td>\n",
       "      <td>70000</td>\n",
       "      <td>1.0</td>\n",
       "      <td>Partial High School</td>\n",
       "      <td>Skilled Manual</td>\n",
       "      <td>Yes</td>\n",
       "      <td>2</td>\n",
       "      <td>1.0</td>\n",
       "      <td>North America</td>\n",
       "      <td>54</td>\n",
       "      <td>No</td>\n",
       "    </tr>\n",
       "    <tr>\n",
       "      <th>6970</th>\n",
       "      <td>Married</td>\n",
       "      <td>Male</td>\n",
       "      <td>70000</td>\n",
       "      <td>1.0</td>\n",
       "      <td>Partial High School</td>\n",
       "      <td>Skilled Manual</td>\n",
       "      <td>Yes</td>\n",
       "      <td>3</td>\n",
       "      <td>2.0</td>\n",
       "      <td>North America</td>\n",
       "      <td>54</td>\n",
       "      <td>No</td>\n",
       "    </tr>\n",
       "    <tr>\n",
       "      <th>6971</th>\n",
       "      <td>Married</td>\n",
       "      <td>Male</td>\n",
       "      <td>70000</td>\n",
       "      <td>3.0</td>\n",
       "      <td>Partial College</td>\n",
       "      <td>Professional</td>\n",
       "      <td>Yes</td>\n",
       "      <td>1</td>\n",
       "      <td>7.0</td>\n",
       "      <td>North America</td>\n",
       "      <td>53</td>\n",
       "      <td>No</td>\n",
       "    </tr>\n",
       "    <tr>\n",
       "      <th>6972</th>\n",
       "      <td>Single</td>\n",
       "      <td>Male</td>\n",
       "      <td>70000</td>\n",
       "      <td>3.0</td>\n",
       "      <td>Partial College</td>\n",
       "      <td>Professional</td>\n",
       "      <td>Yes</td>\n",
       "      <td>1</td>\n",
       "      <td>8.0</td>\n",
       "      <td>North America</td>\n",
       "      <td>53</td>\n",
       "      <td>No</td>\n",
       "    </tr>\n",
       "    <tr>\n",
       "      <th>6973</th>\n",
       "      <td>Married</td>\n",
       "      <td>Female</td>\n",
       "      <td>130000</td>\n",
       "      <td>4.0</td>\n",
       "      <td>Partial College</td>\n",
       "      <td>Professional</td>\n",
       "      <td>Yes</td>\n",
       "      <td>1</td>\n",
       "      <td>9.0</td>\n",
       "      <td>Europe</td>\n",
       "      <td>48</td>\n",
       "      <td>No</td>\n",
       "    </tr>\n",
       "    <tr>\n",
       "      <th>6974</th>\n",
       "      <td>Married</td>\n",
       "      <td>Female</td>\n",
       "      <td>110000</td>\n",
       "      <td>4.0</td>\n",
       "      <td>Partial College</td>\n",
       "      <td>Professional</td>\n",
       "      <td>Yes</td>\n",
       "      <td>3</td>\n",
       "      <td>2.0</td>\n",
       "      <td>Europe</td>\n",
       "      <td>49</td>\n",
       "      <td>No</td>\n",
       "    </tr>\n",
       "    <tr>\n",
       "      <th>6975</th>\n",
       "      <td>Married</td>\n",
       "      <td>Male</td>\n",
       "      <td>110000</td>\n",
       "      <td>4.0</td>\n",
       "      <td>Partial College</td>\n",
       "      <td>Professional</td>\n",
       "      <td>No</td>\n",
       "      <td>3</td>\n",
       "      <td>3.0</td>\n",
       "      <td>Europe</td>\n",
       "      <td>49</td>\n",
       "      <td>No</td>\n",
       "    </tr>\n",
       "    <tr>\n",
       "      <th>6976</th>\n",
       "      <td>Married</td>\n",
       "      <td>Female</td>\n",
       "      <td>150000</td>\n",
       "      <td>3.0</td>\n",
       "      <td>High School</td>\n",
       "      <td>Professional</td>\n",
       "      <td>Yes</td>\n",
       "      <td>4</td>\n",
       "      <td>5.0</td>\n",
       "      <td>Europe</td>\n",
       "      <td>49</td>\n",
       "      <td>No</td>\n",
       "    </tr>\n",
       "    <tr>\n",
       "      <th>6977</th>\n",
       "      <td>Married</td>\n",
       "      <td>Female</td>\n",
       "      <td>120000</td>\n",
       "      <td>4.0</td>\n",
       "      <td>Partial High School</td>\n",
       "      <td>Professional</td>\n",
       "      <td>No</td>\n",
       "      <td>4</td>\n",
       "      <td>6.0</td>\n",
       "      <td>Europe</td>\n",
       "      <td>50</td>\n",
       "      <td>No</td>\n",
       "    </tr>\n",
       "    <tr>\n",
       "      <th>6978</th>\n",
       "      <td>Married</td>\n",
       "      <td>Female</td>\n",
       "      <td>110000</td>\n",
       "      <td>4.0</td>\n",
       "      <td>Partial College</td>\n",
       "      <td>Professional</td>\n",
       "      <td>Yes</td>\n",
       "      <td>4</td>\n",
       "      <td>7.0</td>\n",
       "      <td>Europe</td>\n",
       "      <td>51</td>\n",
       "      <td>No</td>\n",
       "    </tr>\n",
       "    <tr>\n",
       "      <th>6979</th>\n",
       "      <td>Single</td>\n",
       "      <td>Female</td>\n",
       "      <td>120000</td>\n",
       "      <td>4.0</td>\n",
       "      <td>Partial High School</td>\n",
       "      <td>Professional</td>\n",
       "      <td>Yes</td>\n",
       "      <td>4</td>\n",
       "      <td>1.0</td>\n",
       "      <td>Europe</td>\n",
       "      <td>51</td>\n",
       "      <td>No</td>\n",
       "    </tr>\n",
       "    <tr>\n",
       "      <th>6980</th>\n",
       "      <td>Married</td>\n",
       "      <td>Female</td>\n",
       "      <td>80000</td>\n",
       "      <td>1.0</td>\n",
       "      <td>Partial College</td>\n",
       "      <td>Professional</td>\n",
       "      <td>Yes</td>\n",
       "      <td>2</td>\n",
       "      <td>2.0</td>\n",
       "      <td>Europe</td>\n",
       "      <td>51</td>\n",
       "      <td>No</td>\n",
       "    </tr>\n",
       "    <tr>\n",
       "      <th>6981</th>\n",
       "      <td>Married</td>\n",
       "      <td>Female</td>\n",
       "      <td>80000</td>\n",
       "      <td>0.0</td>\n",
       "      <td>Bachelors</td>\n",
       "      <td>Management</td>\n",
       "      <td>Yes</td>\n",
       "      <td>2</td>\n",
       "      <td>1.0</td>\n",
       "      <td>Europe</td>\n",
       "      <td>62</td>\n",
       "      <td>No</td>\n",
       "    </tr>\n",
       "    <tr>\n",
       "      <th>6982</th>\n",
       "      <td>Married</td>\n",
       "      <td>Female</td>\n",
       "      <td>90000</td>\n",
       "      <td>0.0</td>\n",
       "      <td>Partial College</td>\n",
       "      <td>Professional</td>\n",
       "      <td>Yes</td>\n",
       "      <td>2</td>\n",
       "      <td>1.0</td>\n",
       "      <td>Europe</td>\n",
       "      <td>62</td>\n",
       "      <td>No</td>\n",
       "    </tr>\n",
       "    <tr>\n",
       "      <th>6983</th>\n",
       "      <td>Married</td>\n",
       "      <td>Female</td>\n",
       "      <td>130000</td>\n",
       "      <td>4.0</td>\n",
       "      <td>Bachelors</td>\n",
       "      <td>Management</td>\n",
       "      <td>Yes</td>\n",
       "      <td>4</td>\n",
       "      <td>2.0</td>\n",
       "      <td>Europe</td>\n",
       "      <td>62</td>\n",
       "      <td>No</td>\n",
       "    </tr>\n",
       "    <tr>\n",
       "      <th>6984</th>\n",
       "      <td>Married</td>\n",
       "      <td>Male</td>\n",
       "      <td>80000</td>\n",
       "      <td>0.0</td>\n",
       "      <td>Partial College</td>\n",
       "      <td>Professional</td>\n",
       "      <td>Yes</td>\n",
       "      <td>2</td>\n",
       "      <td>7.0</td>\n",
       "      <td>Europe</td>\n",
       "      <td>61</td>\n",
       "      <td>No</td>\n",
       "    </tr>\n",
       "    <tr>\n",
       "      <th>6985</th>\n",
       "      <td>Married</td>\n",
       "      <td>Male</td>\n",
       "      <td>110000</td>\n",
       "      <td>4.0</td>\n",
       "      <td>Bachelors</td>\n",
       "      <td>Management</td>\n",
       "      <td>Yes</td>\n",
       "      <td>4</td>\n",
       "      <td>8.0</td>\n",
       "      <td>Europe</td>\n",
       "      <td>61</td>\n",
       "      <td>No</td>\n",
       "    </tr>\n",
       "    <tr>\n",
       "      <th>6986</th>\n",
       "      <td>Married</td>\n",
       "      <td>Female</td>\n",
       "      <td>120000</td>\n",
       "      <td>4.0</td>\n",
       "      <td>Bachelors</td>\n",
       "      <td>Management</td>\n",
       "      <td>Yes</td>\n",
       "      <td>4</td>\n",
       "      <td>9.0</td>\n",
       "      <td>Europe</td>\n",
       "      <td>61</td>\n",
       "      <td>No</td>\n",
       "    </tr>\n",
       "    <tr>\n",
       "      <th>6987</th>\n",
       "      <td>Married</td>\n",
       "      <td>Male</td>\n",
       "      <td>130000</td>\n",
       "      <td>4.0</td>\n",
       "      <td>Bachelors</td>\n",
       "      <td>Management</td>\n",
       "      <td>Yes</td>\n",
       "      <td>4</td>\n",
       "      <td>2.0</td>\n",
       "      <td>Europe</td>\n",
       "      <td>61</td>\n",
       "      <td>No</td>\n",
       "    </tr>\n",
       "    <tr>\n",
       "      <th>6988</th>\n",
       "      <td>Married</td>\n",
       "      <td>Male</td>\n",
       "      <td>100000</td>\n",
       "      <td>3.0</td>\n",
       "      <td>Bachelors</td>\n",
       "      <td>Management</td>\n",
       "      <td>Yes</td>\n",
       "      <td>4</td>\n",
       "      <td>3.0</td>\n",
       "      <td>Europe</td>\n",
       "      <td>60</td>\n",
       "      <td>No</td>\n",
       "    </tr>\n",
       "    <tr>\n",
       "      <th>6989</th>\n",
       "      <td>Married</td>\n",
       "      <td>Female</td>\n",
       "      <td>100000</td>\n",
       "      <td>4.0</td>\n",
       "      <td>Bachelors</td>\n",
       "      <td>Management</td>\n",
       "      <td>Yes</td>\n",
       "      <td>1</td>\n",
       "      <td>5.0</td>\n",
       "      <td>Europe</td>\n",
       "      <td>60</td>\n",
       "      <td>No</td>\n",
       "    </tr>\n",
       "    <tr>\n",
       "      <th>6990</th>\n",
       "      <td>Married</td>\n",
       "      <td>Female</td>\n",
       "      <td>150000</td>\n",
       "      <td>4.0</td>\n",
       "      <td>Graduate Degree</td>\n",
       "      <td>Management</td>\n",
       "      <td>Yes</td>\n",
       "      <td>4</td>\n",
       "      <td>6.0</td>\n",
       "      <td>Europe</td>\n",
       "      <td>60</td>\n",
       "      <td>No</td>\n",
       "    </tr>\n",
       "    <tr>\n",
       "      <th>6991</th>\n",
       "      <td>Married</td>\n",
       "      <td>Female</td>\n",
       "      <td>80000</td>\n",
       "      <td>2.0</td>\n",
       "      <td>Partial College</td>\n",
       "      <td>Professional</td>\n",
       "      <td>Yes</td>\n",
       "      <td>2</td>\n",
       "      <td>7.0</td>\n",
       "      <td>Europe</td>\n",
       "      <td>53</td>\n",
       "      <td>No</td>\n",
       "    </tr>\n",
       "    <tr>\n",
       "      <th>6992</th>\n",
       "      <td>Married</td>\n",
       "      <td>Male</td>\n",
       "      <td>100000</td>\n",
       "      <td>4.0</td>\n",
       "      <td>High School</td>\n",
       "      <td>Professional</td>\n",
       "      <td>Yes</td>\n",
       "      <td>3</td>\n",
       "      <td>1.0</td>\n",
       "      <td>Europe</td>\n",
       "      <td>52</td>\n",
       "      <td>No</td>\n",
       "    </tr>\n",
       "    <tr>\n",
       "      <th>6993</th>\n",
       "      <td>Married</td>\n",
       "      <td>Female</td>\n",
       "      <td>130000</td>\n",
       "      <td>4.0</td>\n",
       "      <td>Partial College</td>\n",
       "      <td>Professional</td>\n",
       "      <td>Yes</td>\n",
       "      <td>4</td>\n",
       "      <td>2.0</td>\n",
       "      <td>Europe</td>\n",
       "      <td>52</td>\n",
       "      <td>No</td>\n",
       "    </tr>\n",
       "    <tr>\n",
       "      <th>6994</th>\n",
       "      <td>Married</td>\n",
       "      <td>Female</td>\n",
       "      <td>160000</td>\n",
       "      <td>5.0</td>\n",
       "      <td>Bachelors</td>\n",
       "      <td>Management</td>\n",
       "      <td>Yes</td>\n",
       "      <td>2</td>\n",
       "      <td>1.0</td>\n",
       "      <td>Europe</td>\n",
       "      <td>53</td>\n",
       "      <td>No</td>\n",
       "    </tr>\n",
       "    <tr>\n",
       "      <th>6995</th>\n",
       "      <td>Single</td>\n",
       "      <td>Female</td>\n",
       "      <td>120000</td>\n",
       "      <td>5.0</td>\n",
       "      <td>Partial College</td>\n",
       "      <td>Professional</td>\n",
       "      <td>Yes</td>\n",
       "      <td>3</td>\n",
       "      <td>1.0</td>\n",
       "      <td>Europe</td>\n",
       "      <td>54</td>\n",
       "      <td>No</td>\n",
       "    </tr>\n",
       "    <tr>\n",
       "      <th>6996</th>\n",
       "      <td>Married</td>\n",
       "      <td>Male</td>\n",
       "      <td>130000</td>\n",
       "      <td>5.0</td>\n",
       "      <td>High School</td>\n",
       "      <td>Professional</td>\n",
       "      <td>Yes</td>\n",
       "      <td>3</td>\n",
       "      <td>2.0</td>\n",
       "      <td>Europe</td>\n",
       "      <td>54</td>\n",
       "      <td>No</td>\n",
       "    </tr>\n",
       "  </tbody>\n",
       "</table>\n",
       "<p>6997 rows × 12 columns</p>\n",
       "</div>"
      ],
      "text/plain": [
       "     Marital Status  Gender  Yearly Income  Children            Education  \\\n",
       "0            Single    Male          30000       0.0      Partial College   \n",
       "1           Married  Female          40000       0.0      Graduate Degree   \n",
       "2           Married    Male         160000       5.0      Partial College   \n",
       "3            Single    Male         160000       0.0      Graduate Degree   \n",
       "4               NaN  Female          70000       2.0            Bachelors   \n",
       "5           Married     NaN         120000       2.0            Bachelors   \n",
       "6            Single  Female          70000       0.0          High School   \n",
       "7            Single  Female          60000       0.0          High School   \n",
       "8               NaN  Female              0       NaN            Bachelors   \n",
       "9            Single  Female          20000       1.0      Partial College   \n",
       "10           Single    Male          50000       0.0            Bachelors   \n",
       "11          Married  Female          70000       2.0      Partial College   \n",
       "12           Single     NaN          60000       0.0      Partial College   \n",
       "13              NaN  Female          40000       0.0      Partial College   \n",
       "14          Married    Male          90000       0.0      Partial College   \n",
       "15           Single    Male          70000       0.0      Partial College   \n",
       "16           Single  Female          50000       2.0            Bachelors   \n",
       "17          Married  Female          40000       0.0      Partial College   \n",
       "18           Single    Male              0       0.0      Partial College   \n",
       "19              NaN  Female          60000       0.0      Partial College   \n",
       "20           Single  Female          60000       2.0            Bachelors   \n",
       "21           Single     NaN          80000       5.0            Bachelors   \n",
       "22          Married    Male          70000       4.0            Bachelors   \n",
       "23              NaN  Female          70000       0.0      Graduate Degree   \n",
       "24           Single  Female          70000       4.0      Partial College   \n",
       "25           Single  Female          90000       0.0      Partial College   \n",
       "26          Married    Male          70000       4.0      Partial College   \n",
       "27          Married    Male          70000       4.0      Partial College   \n",
       "28           Single    Male          80000       NaN      Partial College   \n",
       "29           Single    Male          40000       0.0      Graduate Degree   \n",
       "...             ...     ...            ...       ...                  ...   \n",
       "6967        Married    Male          60000       1.0      Partial College   \n",
       "6968        Married    Male          70000       2.0      Partial College   \n",
       "6969        Married    Male          70000       1.0  Partial High School   \n",
       "6970        Married    Male          70000       1.0  Partial High School   \n",
       "6971        Married    Male          70000       3.0      Partial College   \n",
       "6972         Single    Male          70000       3.0      Partial College   \n",
       "6973        Married  Female         130000       4.0      Partial College   \n",
       "6974        Married  Female         110000       4.0      Partial College   \n",
       "6975        Married    Male         110000       4.0      Partial College   \n",
       "6976        Married  Female         150000       3.0          High School   \n",
       "6977        Married  Female         120000       4.0  Partial High School   \n",
       "6978        Married  Female         110000       4.0      Partial College   \n",
       "6979         Single  Female         120000       4.0  Partial High School   \n",
       "6980        Married  Female          80000       1.0      Partial College   \n",
       "6981        Married  Female          80000       0.0            Bachelors   \n",
       "6982        Married  Female          90000       0.0      Partial College   \n",
       "6983        Married  Female         130000       4.0            Bachelors   \n",
       "6984        Married    Male          80000       0.0      Partial College   \n",
       "6985        Married    Male         110000       4.0            Bachelors   \n",
       "6986        Married  Female         120000       4.0            Bachelors   \n",
       "6987        Married    Male         130000       4.0            Bachelors   \n",
       "6988        Married    Male         100000       3.0            Bachelors   \n",
       "6989        Married  Female         100000       4.0            Bachelors   \n",
       "6990        Married  Female         150000       4.0      Graduate Degree   \n",
       "6991        Married  Female          80000       2.0      Partial College   \n",
       "6992        Married    Male         100000       4.0          High School   \n",
       "6993        Married  Female         130000       4.0      Partial College   \n",
       "6994        Married  Female         160000       5.0            Bachelors   \n",
       "6995         Single  Female         120000       5.0      Partial College   \n",
       "6996        Married    Male         130000       5.0          High School   \n",
       "\n",
       "          Occupation Home Owner  Cars  Commute Distance         Region  Age  \\\n",
       "0           Clerical         No     1               1.0         Europe   33   \n",
       "1           Clerical        Yes     0               1.0         Europe   37   \n",
       "2       Professional         No     3               2.0         Europe   55   \n",
       "3         Management        Yes     2               5.0        Pacific   47   \n",
       "4     Skilled Manual         No     1               1.0  North America   38   \n",
       "5         Management        Yes     3               1.0  North America   40   \n",
       "6       Professional        Yes     2               NaN        Pacific   49   \n",
       "7       Professional         No     2               1.0  North America   49   \n",
       "8           Clerical        Yes     0              10.0         Europe   38   \n",
       "9             Manual         No     0               1.0         Europe   46   \n",
       "10        Management         No     2               2.0  North America   64   \n",
       "11      Professional         No     0              11.0  North America   49   \n",
       "12    Skilled Manual         No     2               1.0  North America   31   \n",
       "13          Clerical        Yes     1               1.0  North America   50   \n",
       "14      Professional        Yes     1               1.0  North America   49   \n",
       "15    Skilled Manual         No     1               1.0        Pacific   44   \n",
       "16    Skilled Manual        Yes     1               2.0  North America   39   \n",
       "17          Clerical        Yes     1               1.0  North America   51   \n",
       "18          Clerical        Yes     1               2.0  North America   48   \n",
       "19    Skilled Manual         No     1               6.0        Pacific   45   \n",
       "20      Professional        Yes     2               1.0        Pacific   43   \n",
       "21      Professional        Yes     4              12.0        Pacific   41   \n",
       "22      Professional        Yes     2               1.0        Pacific   44   \n",
       "23      Professional        Yes     0               NaN  North America   37   \n",
       "24    Skilled Manual        Yes     2               1.0        Pacific   44   \n",
       "25      Professional         No     2               1.0         Europe   62   \n",
       "26    Skilled Manual        Yes     2               1.0        Pacific   44   \n",
       "27    Skilled Manual        Yes     2               9.0        Pacific   44   \n",
       "28    Skilled Manual         No     1               5.0        Pacific   49   \n",
       "29          Clerical        Yes     0               1.0         Europe   37   \n",
       "...              ...        ...   ...               ...            ...  ...   \n",
       "6967    Professional        Yes     2               2.0  North America   54   \n",
       "6968    Professional        Yes     1               1.0  North America   55   \n",
       "6969  Skilled Manual        Yes     2               1.0  North America   54   \n",
       "6970  Skilled Manual        Yes     3               2.0  North America   54   \n",
       "6971    Professional        Yes     1               7.0  North America   53   \n",
       "6972    Professional        Yes     1               8.0  North America   53   \n",
       "6973    Professional        Yes     1               9.0         Europe   48   \n",
       "6974    Professional        Yes     3               2.0         Europe   49   \n",
       "6975    Professional         No     3               3.0         Europe   49   \n",
       "6976    Professional        Yes     4               5.0         Europe   49   \n",
       "6977    Professional         No     4               6.0         Europe   50   \n",
       "6978    Professional        Yes     4               7.0         Europe   51   \n",
       "6979    Professional        Yes     4               1.0         Europe   51   \n",
       "6980    Professional        Yes     2               2.0         Europe   51   \n",
       "6981      Management        Yes     2               1.0         Europe   62   \n",
       "6982    Professional        Yes     2               1.0         Europe   62   \n",
       "6983      Management        Yes     4               2.0         Europe   62   \n",
       "6984    Professional        Yes     2               7.0         Europe   61   \n",
       "6985      Management        Yes     4               8.0         Europe   61   \n",
       "6986      Management        Yes     4               9.0         Europe   61   \n",
       "6987      Management        Yes     4               2.0         Europe   61   \n",
       "6988      Management        Yes     4               3.0         Europe   60   \n",
       "6989      Management        Yes     1               5.0         Europe   60   \n",
       "6990      Management        Yes     4               6.0         Europe   60   \n",
       "6991    Professional        Yes     2               7.0         Europe   53   \n",
       "6992    Professional        Yes     3               1.0         Europe   52   \n",
       "6993    Professional        Yes     4               2.0         Europe   52   \n",
       "6994      Management        Yes     2               1.0         Europe   53   \n",
       "6995    Professional        Yes     3               1.0         Europe   54   \n",
       "6996    Professional        Yes     3               2.0         Europe   54   \n",
       "\n",
       "     Bike Buyer  \n",
       "0           Yes  \n",
       "1           Yes  \n",
       "2            No  \n",
       "3            No  \n",
       "4           Yes  \n",
       "5            No  \n",
       "6           Yes  \n",
       "7            No  \n",
       "8           Yes  \n",
       "9           Yes  \n",
       "10           No  \n",
       "11           No  \n",
       "12          Yes  \n",
       "13          Yes  \n",
       "14           No  \n",
       "15           No  \n",
       "16          Yes  \n",
       "17          Yes  \n",
       "18          Yes  \n",
       "19           No  \n",
       "20          Yes  \n",
       "21           No  \n",
       "22           No  \n",
       "23          Yes  \n",
       "24           No  \n",
       "25          Yes  \n",
       "26           No  \n",
       "27           No  \n",
       "28           No  \n",
       "29          Yes  \n",
       "...         ...  \n",
       "6967         No  \n",
       "6968         No  \n",
       "6969         No  \n",
       "6970         No  \n",
       "6971         No  \n",
       "6972         No  \n",
       "6973         No  \n",
       "6974         No  \n",
       "6975         No  \n",
       "6976         No  \n",
       "6977         No  \n",
       "6978         No  \n",
       "6979         No  \n",
       "6980         No  \n",
       "6981         No  \n",
       "6982         No  \n",
       "6983         No  \n",
       "6984         No  \n",
       "6985         No  \n",
       "6986         No  \n",
       "6987         No  \n",
       "6988         No  \n",
       "6989         No  \n",
       "6990         No  \n",
       "6991         No  \n",
       "6992         No  \n",
       "6993         No  \n",
       "6994         No  \n",
       "6995         No  \n",
       "6996         No  \n",
       "\n",
       "[6997 rows x 12 columns]"
      ]
     },
     "execution_count": 257,
     "metadata": {},
     "output_type": "execute_result"
    }
   ],
   "source": [
    "#Drop the first column as it is only an identifier\n",
    "bb1=bb.drop(['ID'],axis=1)\n",
    "bb1"
   ]
  },
  {
   "cell_type": "markdown",
   "metadata": {},
   "source": [
    "# EXPLORATORY DATA ANALYSIS"
   ]
  },
  {
   "cell_type": "code",
   "execution_count": 258,
   "metadata": {
    "scrolled": false
   },
   "outputs": [
    {
     "data": {
      "text/html": [
       "<div>\n",
       "<style>\n",
       "    .dataframe thead tr:only-child th {\n",
       "        text-align: right;\n",
       "    }\n",
       "\n",
       "    .dataframe thead th {\n",
       "        text-align: left;\n",
       "    }\n",
       "\n",
       "    .dataframe tbody tr th {\n",
       "        vertical-align: top;\n",
       "    }\n",
       "</style>\n",
       "<table border=\"1\" class=\"dataframe\">\n",
       "  <thead>\n",
       "    <tr style=\"text-align: right;\">\n",
       "      <th></th>\n",
       "      <th>Yearly Income</th>\n",
       "      <th>Children</th>\n",
       "      <th>Cars</th>\n",
       "      <th>Commute Distance</th>\n",
       "      <th>Age</th>\n",
       "    </tr>\n",
       "  </thead>\n",
       "  <tbody>\n",
       "    <tr>\n",
       "      <th>count</th>\n",
       "      <td>6997.000000</td>\n",
       "      <td>6979.000000</td>\n",
       "      <td>6997.000000</td>\n",
       "      <td>6968.000000</td>\n",
       "      <td>6997.000000</td>\n",
       "    </tr>\n",
       "    <tr>\n",
       "      <th>mean</th>\n",
       "      <td>57020.151493</td>\n",
       "      <td>1.111621</td>\n",
       "      <td>1.586823</td>\n",
       "      <td>4.210103</td>\n",
       "      <td>45.107332</td>\n",
       "    </tr>\n",
       "    <tr>\n",
       "      <th>std</th>\n",
       "      <td>32080.449720</td>\n",
       "      <td>1.600912</td>\n",
       "      <td>1.146782</td>\n",
       "      <td>2.926211</td>\n",
       "      <td>11.916654</td>\n",
       "    </tr>\n",
       "    <tr>\n",
       "      <th>min</th>\n",
       "      <td>0.000000</td>\n",
       "      <td>0.000000</td>\n",
       "      <td>0.000000</td>\n",
       "      <td>1.000000</td>\n",
       "      <td>25.000000</td>\n",
       "    </tr>\n",
       "    <tr>\n",
       "      <th>25%</th>\n",
       "      <td>30000.000000</td>\n",
       "      <td>0.000000</td>\n",
       "      <td>1.000000</td>\n",
       "      <td>1.000000</td>\n",
       "      <td>36.000000</td>\n",
       "    </tr>\n",
       "    <tr>\n",
       "      <th>50%</th>\n",
       "      <td>60000.000000</td>\n",
       "      <td>0.000000</td>\n",
       "      <td>2.000000</td>\n",
       "      <td>4.000000</td>\n",
       "      <td>44.000000</td>\n",
       "    </tr>\n",
       "    <tr>\n",
       "      <th>75%</th>\n",
       "      <td>70000.000000</td>\n",
       "      <td>2.000000</td>\n",
       "      <td>2.000000</td>\n",
       "      <td>6.000000</td>\n",
       "      <td>53.000000</td>\n",
       "    </tr>\n",
       "    <tr>\n",
       "      <th>max</th>\n",
       "      <td>170000.000000</td>\n",
       "      <td>5.000000</td>\n",
       "      <td>4.000000</td>\n",
       "      <td>13.000000</td>\n",
       "      <td>96.000000</td>\n",
       "    </tr>\n",
       "  </tbody>\n",
       "</table>\n",
       "</div>"
      ],
      "text/plain": [
       "       Yearly Income     Children         Cars  Commute Distance          Age\n",
       "count    6997.000000  6979.000000  6997.000000       6968.000000  6997.000000\n",
       "mean    57020.151493     1.111621     1.586823          4.210103    45.107332\n",
       "std     32080.449720     1.600912     1.146782          2.926211    11.916654\n",
       "min         0.000000     0.000000     0.000000          1.000000    25.000000\n",
       "25%     30000.000000     0.000000     1.000000          1.000000    36.000000\n",
       "50%     60000.000000     0.000000     2.000000          4.000000    44.000000\n",
       "75%     70000.000000     2.000000     2.000000          6.000000    53.000000\n",
       "max    170000.000000     5.000000     4.000000         13.000000    96.000000"
      ]
     },
     "execution_count": 258,
     "metadata": {},
     "output_type": "execute_result"
    }
   ],
   "source": [
    "#max and min \n",
    "bb1.describe()"
   ]
  },
  {
   "cell_type": "code",
   "execution_count": 259,
   "metadata": {
    "scrolled": true
   },
   "outputs": [
    {
     "data": {
      "text/html": [
       "<div>\n",
       "<style>\n",
       "    .dataframe thead tr:only-child th {\n",
       "        text-align: right;\n",
       "    }\n",
       "\n",
       "    .dataframe thead th {\n",
       "        text-align: left;\n",
       "    }\n",
       "\n",
       "    .dataframe tbody tr th {\n",
       "        vertical-align: top;\n",
       "    }\n",
       "</style>\n",
       "<table border=\"1\" class=\"dataframe\">\n",
       "  <thead>\n",
       "    <tr style=\"text-align: right;\">\n",
       "      <th></th>\n",
       "      <th>Yearly Income</th>\n",
       "      <th>Children</th>\n",
       "      <th>Cars</th>\n",
       "      <th>Commute Distance</th>\n",
       "      <th>Age</th>\n",
       "    </tr>\n",
       "  </thead>\n",
       "  <tbody>\n",
       "    <tr>\n",
       "      <th>Yearly Income</th>\n",
       "      <td>1.029155e+09</td>\n",
       "      <td>24380.349828</td>\n",
       "      <td>17367.818463</td>\n",
       "      <td>888.942245</td>\n",
       "      <td>74680.941428</td>\n",
       "    </tr>\n",
       "    <tr>\n",
       "      <th>Children</th>\n",
       "      <td>2.438035e+04</td>\n",
       "      <td>2.562919</td>\n",
       "      <td>0.823193</td>\n",
       "      <td>0.123484</td>\n",
       "      <td>-0.009929</td>\n",
       "    </tr>\n",
       "    <tr>\n",
       "      <th>Cars</th>\n",
       "      <td>1.736782e+04</td>\n",
       "      <td>0.823193</td>\n",
       "      <td>1.315109</td>\n",
       "      <td>0.061749</td>\n",
       "      <td>1.928144</td>\n",
       "    </tr>\n",
       "    <tr>\n",
       "      <th>Commute Distance</th>\n",
       "      <td>8.889422e+02</td>\n",
       "      <td>0.123484</td>\n",
       "      <td>0.061749</td>\n",
       "      <td>8.562711</td>\n",
       "      <td>-0.910780</td>\n",
       "    </tr>\n",
       "    <tr>\n",
       "      <th>Age</th>\n",
       "      <td>7.468094e+04</td>\n",
       "      <td>-0.009929</td>\n",
       "      <td>1.928144</td>\n",
       "      <td>-0.910780</td>\n",
       "      <td>142.006631</td>\n",
       "    </tr>\n",
       "  </tbody>\n",
       "</table>\n",
       "</div>"
      ],
      "text/plain": [
       "                  Yearly Income      Children          Cars  Commute Distance  \\\n",
       "Yearly Income      1.029155e+09  24380.349828  17367.818463        888.942245   \n",
       "Children           2.438035e+04      2.562919      0.823193          0.123484   \n",
       "Cars               1.736782e+04      0.823193      1.315109          0.061749   \n",
       "Commute Distance   8.889422e+02      0.123484      0.061749          8.562711   \n",
       "Age                7.468094e+04     -0.009929      1.928144         -0.910780   \n",
       "\n",
       "                           Age  \n",
       "Yearly Income     74680.941428  \n",
       "Children             -0.009929  \n",
       "Cars                  1.928144  \n",
       "Commute Distance     -0.910780  \n",
       "Age                 142.006631  "
      ]
     },
     "execution_count": 259,
     "metadata": {},
     "output_type": "execute_result"
    }
   ],
   "source": [
    "#Covariance of the given datasets\n",
    "bb1.cov()"
   ]
  },
  {
   "cell_type": "code",
   "execution_count": 260,
   "metadata": {
    "scrolled": true
   },
   "outputs": [
    {
     "data": {
      "text/html": [
       "<div>\n",
       "<style>\n",
       "    .dataframe thead tr:only-child th {\n",
       "        text-align: right;\n",
       "    }\n",
       "\n",
       "    .dataframe thead th {\n",
       "        text-align: left;\n",
       "    }\n",
       "\n",
       "    .dataframe tbody tr th {\n",
       "        vertical-align: top;\n",
       "    }\n",
       "</style>\n",
       "<table border=\"1\" class=\"dataframe\">\n",
       "  <thead>\n",
       "    <tr style=\"text-align: right;\">\n",
       "      <th></th>\n",
       "      <th>Yearly Income</th>\n",
       "      <th>Children</th>\n",
       "      <th>Cars</th>\n",
       "      <th>Commute Distance</th>\n",
       "      <th>Age</th>\n",
       "    </tr>\n",
       "  </thead>\n",
       "  <tbody>\n",
       "    <tr>\n",
       "      <th>Yearly Income</th>\n",
       "      <td>1.000000</td>\n",
       "      <td>0.474575</td>\n",
       "      <td>0.472089</td>\n",
       "      <td>0.009467</td>\n",
       "      <td>0.195351</td>\n",
       "    </tr>\n",
       "    <tr>\n",
       "      <th>Children</th>\n",
       "      <td>0.474575</td>\n",
       "      <td>1.000000</td>\n",
       "      <td>0.448379</td>\n",
       "      <td>0.026377</td>\n",
       "      <td>-0.000520</td>\n",
       "    </tr>\n",
       "    <tr>\n",
       "      <th>Cars</th>\n",
       "      <td>0.472089</td>\n",
       "      <td>0.448379</td>\n",
       "      <td>1.000000</td>\n",
       "      <td>0.018397</td>\n",
       "      <td>0.141093</td>\n",
       "    </tr>\n",
       "    <tr>\n",
       "      <th>Commute Distance</th>\n",
       "      <td>0.009467</td>\n",
       "      <td>0.026377</td>\n",
       "      <td>0.018397</td>\n",
       "      <td>1.000000</td>\n",
       "      <td>-0.026119</td>\n",
       "    </tr>\n",
       "    <tr>\n",
       "      <th>Age</th>\n",
       "      <td>0.195351</td>\n",
       "      <td>-0.000520</td>\n",
       "      <td>0.141093</td>\n",
       "      <td>-0.026119</td>\n",
       "      <td>1.000000</td>\n",
       "    </tr>\n",
       "  </tbody>\n",
       "</table>\n",
       "</div>"
      ],
      "text/plain": [
       "                  Yearly Income  Children      Cars  Commute Distance  \\\n",
       "Yearly Income          1.000000  0.474575  0.472089          0.009467   \n",
       "Children               0.474575  1.000000  0.448379          0.026377   \n",
       "Cars                   0.472089  0.448379  1.000000          0.018397   \n",
       "Commute Distance       0.009467  0.026377  0.018397          1.000000   \n",
       "Age                    0.195351 -0.000520  0.141093         -0.026119   \n",
       "\n",
       "                       Age  \n",
       "Yearly Income     0.195351  \n",
       "Children         -0.000520  \n",
       "Cars              0.141093  \n",
       "Commute Distance -0.026119  \n",
       "Age               1.000000  "
      ]
     },
     "execution_count": 260,
     "metadata": {},
     "output_type": "execute_result"
    }
   ],
   "source": [
    "#correlation of the given datasets\n",
    "bb1.corr()"
   ]
  },
  {
   "cell_type": "code",
   "execution_count": 261,
   "metadata": {
    "scrolled": true
   },
   "outputs": [
    {
     "data": {
      "text/html": [
       "<div>\n",
       "<style>\n",
       "    .dataframe thead tr:only-child th {\n",
       "        text-align: right;\n",
       "    }\n",
       "\n",
       "    .dataframe thead th {\n",
       "        text-align: left;\n",
       "    }\n",
       "\n",
       "    .dataframe tbody tr th {\n",
       "        vertical-align: top;\n",
       "    }\n",
       "</style>\n",
       "<table border=\"1\" class=\"dataframe\">\n",
       "  <thead>\n",
       "    <tr style=\"text-align: right;\">\n",
       "      <th></th>\n",
       "      <th>Marital Status</th>\n",
       "      <th>Gender</th>\n",
       "      <th>Yearly Income</th>\n",
       "      <th>Children</th>\n",
       "      <th>Education</th>\n",
       "      <th>Occupation</th>\n",
       "      <th>Home Owner</th>\n",
       "      <th>Cars</th>\n",
       "      <th>Commute Distance</th>\n",
       "      <th>Region</th>\n",
       "      <th>Age</th>\n",
       "      <th>Bike Buyer</th>\n",
       "    </tr>\n",
       "  </thead>\n",
       "  <tbody>\n",
       "    <tr>\n",
       "      <th>0</th>\n",
       "      <td>Single</td>\n",
       "      <td>Male</td>\n",
       "      <td>30000</td>\n",
       "      <td>0.0</td>\n",
       "      <td>Partial College</td>\n",
       "      <td>Clerical</td>\n",
       "      <td>No</td>\n",
       "      <td>1</td>\n",
       "      <td>1.0</td>\n",
       "      <td>Europe</td>\n",
       "      <td>33</td>\n",
       "      <td>Yes</td>\n",
       "    </tr>\n",
       "    <tr>\n",
       "      <th>1</th>\n",
       "      <td>Married</td>\n",
       "      <td>Female</td>\n",
       "      <td>40000</td>\n",
       "      <td>0.0</td>\n",
       "      <td>Graduate Degree</td>\n",
       "      <td>Clerical</td>\n",
       "      <td>Yes</td>\n",
       "      <td>0</td>\n",
       "      <td>1.0</td>\n",
       "      <td>Europe</td>\n",
       "      <td>37</td>\n",
       "      <td>Yes</td>\n",
       "    </tr>\n",
       "    <tr>\n",
       "      <th>2</th>\n",
       "      <td>Married</td>\n",
       "      <td>Male</td>\n",
       "      <td>160000</td>\n",
       "      <td>5.0</td>\n",
       "      <td>Partial College</td>\n",
       "      <td>Professional</td>\n",
       "      <td>No</td>\n",
       "      <td>3</td>\n",
       "      <td>2.0</td>\n",
       "      <td>Europe</td>\n",
       "      <td>55</td>\n",
       "      <td>No</td>\n",
       "    </tr>\n",
       "    <tr>\n",
       "      <th>3</th>\n",
       "      <td>Single</td>\n",
       "      <td>Male</td>\n",
       "      <td>160000</td>\n",
       "      <td>0.0</td>\n",
       "      <td>Graduate Degree</td>\n",
       "      <td>Management</td>\n",
       "      <td>Yes</td>\n",
       "      <td>2</td>\n",
       "      <td>5.0</td>\n",
       "      <td>Pacific</td>\n",
       "      <td>47</td>\n",
       "      <td>No</td>\n",
       "    </tr>\n",
       "    <tr>\n",
       "      <th>4</th>\n",
       "      <td>NaN</td>\n",
       "      <td>Female</td>\n",
       "      <td>70000</td>\n",
       "      <td>2.0</td>\n",
       "      <td>Bachelors</td>\n",
       "      <td>Skilled Manual</td>\n",
       "      <td>No</td>\n",
       "      <td>1</td>\n",
       "      <td>1.0</td>\n",
       "      <td>North America</td>\n",
       "      <td>38</td>\n",
       "      <td>Yes</td>\n",
       "    </tr>\n",
       "  </tbody>\n",
       "</table>\n",
       "</div>"
      ],
      "text/plain": [
       "  Marital Status  Gender  Yearly Income  Children        Education  \\\n",
       "0         Single    Male          30000       0.0  Partial College   \n",
       "1        Married  Female          40000       0.0  Graduate Degree   \n",
       "2        Married    Male         160000       5.0  Partial College   \n",
       "3         Single    Male         160000       0.0  Graduate Degree   \n",
       "4            NaN  Female          70000       2.0        Bachelors   \n",
       "\n",
       "       Occupation Home Owner  Cars  Commute Distance         Region  Age  \\\n",
       "0        Clerical         No     1               1.0         Europe   33   \n",
       "1        Clerical        Yes     0               1.0         Europe   37   \n",
       "2    Professional         No     3               2.0         Europe   55   \n",
       "3      Management        Yes     2               5.0        Pacific   47   \n",
       "4  Skilled Manual         No     1               1.0  North America   38   \n",
       "\n",
       "  Bike Buyer  \n",
       "0        Yes  \n",
       "1        Yes  \n",
       "2         No  \n",
       "3         No  \n",
       "4        Yes  "
      ]
     },
     "execution_count": 261,
     "metadata": {},
     "output_type": "execute_result"
    }
   ],
   "source": [
    "#First five entries\n",
    "bb1.head()"
   ]
  },
  {
   "cell_type": "code",
   "execution_count": 262,
   "metadata": {
    "scrolled": true
   },
   "outputs": [
    {
     "data": {
      "text/html": [
       "<div>\n",
       "<style>\n",
       "    .dataframe thead tr:only-child th {\n",
       "        text-align: right;\n",
       "    }\n",
       "\n",
       "    .dataframe thead th {\n",
       "        text-align: left;\n",
       "    }\n",
       "\n",
       "    .dataframe tbody tr th {\n",
       "        vertical-align: top;\n",
       "    }\n",
       "</style>\n",
       "<table border=\"1\" class=\"dataframe\">\n",
       "  <thead>\n",
       "    <tr style=\"text-align: right;\">\n",
       "      <th></th>\n",
       "      <th>Marital Status</th>\n",
       "      <th>Gender</th>\n",
       "      <th>Yearly Income</th>\n",
       "      <th>Children</th>\n",
       "      <th>Education</th>\n",
       "      <th>Occupation</th>\n",
       "      <th>Home Owner</th>\n",
       "      <th>Cars</th>\n",
       "      <th>Commute Distance</th>\n",
       "      <th>Region</th>\n",
       "      <th>Age</th>\n",
       "      <th>Bike Buyer</th>\n",
       "    </tr>\n",
       "  </thead>\n",
       "  <tbody>\n",
       "    <tr>\n",
       "      <th>6992</th>\n",
       "      <td>Married</td>\n",
       "      <td>Male</td>\n",
       "      <td>100000</td>\n",
       "      <td>4.0</td>\n",
       "      <td>High School</td>\n",
       "      <td>Professional</td>\n",
       "      <td>Yes</td>\n",
       "      <td>3</td>\n",
       "      <td>1.0</td>\n",
       "      <td>Europe</td>\n",
       "      <td>52</td>\n",
       "      <td>No</td>\n",
       "    </tr>\n",
       "    <tr>\n",
       "      <th>6993</th>\n",
       "      <td>Married</td>\n",
       "      <td>Female</td>\n",
       "      <td>130000</td>\n",
       "      <td>4.0</td>\n",
       "      <td>Partial College</td>\n",
       "      <td>Professional</td>\n",
       "      <td>Yes</td>\n",
       "      <td>4</td>\n",
       "      <td>2.0</td>\n",
       "      <td>Europe</td>\n",
       "      <td>52</td>\n",
       "      <td>No</td>\n",
       "    </tr>\n",
       "    <tr>\n",
       "      <th>6994</th>\n",
       "      <td>Married</td>\n",
       "      <td>Female</td>\n",
       "      <td>160000</td>\n",
       "      <td>5.0</td>\n",
       "      <td>Bachelors</td>\n",
       "      <td>Management</td>\n",
       "      <td>Yes</td>\n",
       "      <td>2</td>\n",
       "      <td>1.0</td>\n",
       "      <td>Europe</td>\n",
       "      <td>53</td>\n",
       "      <td>No</td>\n",
       "    </tr>\n",
       "    <tr>\n",
       "      <th>6995</th>\n",
       "      <td>Single</td>\n",
       "      <td>Female</td>\n",
       "      <td>120000</td>\n",
       "      <td>5.0</td>\n",
       "      <td>Partial College</td>\n",
       "      <td>Professional</td>\n",
       "      <td>Yes</td>\n",
       "      <td>3</td>\n",
       "      <td>1.0</td>\n",
       "      <td>Europe</td>\n",
       "      <td>54</td>\n",
       "      <td>No</td>\n",
       "    </tr>\n",
       "    <tr>\n",
       "      <th>6996</th>\n",
       "      <td>Married</td>\n",
       "      <td>Male</td>\n",
       "      <td>130000</td>\n",
       "      <td>5.0</td>\n",
       "      <td>High School</td>\n",
       "      <td>Professional</td>\n",
       "      <td>Yes</td>\n",
       "      <td>3</td>\n",
       "      <td>2.0</td>\n",
       "      <td>Europe</td>\n",
       "      <td>54</td>\n",
       "      <td>No</td>\n",
       "    </tr>\n",
       "  </tbody>\n",
       "</table>\n",
       "</div>"
      ],
      "text/plain": [
       "     Marital Status  Gender  Yearly Income  Children        Education  \\\n",
       "6992        Married    Male         100000       4.0      High School   \n",
       "6993        Married  Female         130000       4.0  Partial College   \n",
       "6994        Married  Female         160000       5.0        Bachelors   \n",
       "6995         Single  Female         120000       5.0  Partial College   \n",
       "6996        Married    Male         130000       5.0      High School   \n",
       "\n",
       "        Occupation Home Owner  Cars  Commute Distance  Region  Age Bike Buyer  \n",
       "6992  Professional        Yes     3               1.0  Europe   52         No  \n",
       "6993  Professional        Yes     4               2.0  Europe   52         No  \n",
       "6994    Management        Yes     2               1.0  Europe   53         No  \n",
       "6995  Professional        Yes     3               1.0  Europe   54         No  \n",
       "6996  Professional        Yes     3               2.0  Europe   54         No  "
      ]
     },
     "execution_count": 262,
     "metadata": {},
     "output_type": "execute_result"
    }
   ],
   "source": [
    "#Last five entries\n",
    "bb1.tail()"
   ]
  },
  {
   "cell_type": "code",
   "execution_count": 263,
   "metadata": {
    "scrolled": true
   },
   "outputs": [
    {
     "data": {
      "text/plain": [
       "0        30000\n",
       "1        40000\n",
       "2       160000\n",
       "3       160000\n",
       "4        70000\n",
       "5       120000\n",
       "6        70000\n",
       "7        60000\n",
       "8            0\n",
       "9        20000\n",
       "10       50000\n",
       "11       70000\n",
       "12       60000\n",
       "13       40000\n",
       "14       90000\n",
       "15       70000\n",
       "16       50000\n",
       "17       40000\n",
       "18           0\n",
       "19       60000\n",
       "20       60000\n",
       "21       80000\n",
       "22       70000\n",
       "23       70000\n",
       "24       70000\n",
       "25       90000\n",
       "26       70000\n",
       "27       70000\n",
       "28       80000\n",
       "29       40000\n",
       "         ...  \n",
       "6967     60000\n",
       "6968     70000\n",
       "6969     70000\n",
       "6970     70000\n",
       "6971     70000\n",
       "6972     70000\n",
       "6973    130000\n",
       "6974    110000\n",
       "6975    110000\n",
       "6976    150000\n",
       "6977    120000\n",
       "6978    110000\n",
       "6979    120000\n",
       "6980     80000\n",
       "6981     80000\n",
       "6982     90000\n",
       "6983    130000\n",
       "6984     80000\n",
       "6985    110000\n",
       "6986    120000\n",
       "6987    130000\n",
       "6988    100000\n",
       "6989    100000\n",
       "6990    150000\n",
       "6991     80000\n",
       "6992    100000\n",
       "6993    130000\n",
       "6994    160000\n",
       "6995    120000\n",
       "6996    130000\n",
       "Name: Yearly Income, Length: 6997, dtype: int64"
      ]
     },
     "execution_count": 263,
     "metadata": {},
     "output_type": "execute_result"
    }
   ],
   "source": [
    "#Displaying the Yearly Income\n",
    "anum=bb1['Yearly Income']\n",
    "anum"
   ]
  },
  {
   "cell_type": "code",
   "execution_count": 264,
   "metadata": {
    "scrolled": true
   },
   "outputs": [
    {
     "data": {
      "text/plain": [
       "0       33\n",
       "1       37\n",
       "2       55\n",
       "3       47\n",
       "4       38\n",
       "5       40\n",
       "6       49\n",
       "7       49\n",
       "8       38\n",
       "9       46\n",
       "10      64\n",
       "11      49\n",
       "12      31\n",
       "13      50\n",
       "14      49\n",
       "15      44\n",
       "16      39\n",
       "17      51\n",
       "18      48\n",
       "19      45\n",
       "20      43\n",
       "21      41\n",
       "22      44\n",
       "23      37\n",
       "24      44\n",
       "25      62\n",
       "26      44\n",
       "27      44\n",
       "28      49\n",
       "29      37\n",
       "        ..\n",
       "6967    54\n",
       "6968    55\n",
       "6969    54\n",
       "6970    54\n",
       "6971    53\n",
       "6972    53\n",
       "6973    48\n",
       "6974    49\n",
       "6975    49\n",
       "6976    49\n",
       "6977    50\n",
       "6978    51\n",
       "6979    51\n",
       "6980    51\n",
       "6981    62\n",
       "6982    62\n",
       "6983    62\n",
       "6984    61\n",
       "6985    61\n",
       "6986    61\n",
       "6987    61\n",
       "6988    60\n",
       "6989    60\n",
       "6990    60\n",
       "6991    53\n",
       "6992    52\n",
       "6993    52\n",
       "6994    53\n",
       "6995    54\n",
       "6996    54\n",
       "Name: Age, Length: 6997, dtype: int64"
      ]
     },
     "execution_count": 264,
     "metadata": {},
     "output_type": "execute_result"
    }
   ],
   "source": [
    "#Displaying the age\n",
    "age=bb1['Age']\n",
    "age"
   ]
  },
  {
   "cell_type": "code",
   "execution_count": 265,
   "metadata": {
    "collapsed": true
   },
   "outputs": [],
   "source": [
    "#Dependant Variable Identifier\n",
    "bikebuy=bb1['Bike Buyer']"
   ]
  },
  {
   "cell_type": "code",
   "execution_count": 266,
   "metadata": {
    "scrolled": true
   },
   "outputs": [
    {
     "data": {
      "text/plain": [
       "0       Yes\n",
       "1       Yes\n",
       "2        No\n",
       "3        No\n",
       "4       Yes\n",
       "5        No\n",
       "6       Yes\n",
       "7        No\n",
       "8       Yes\n",
       "9       Yes\n",
       "10       No\n",
       "11       No\n",
       "12      Yes\n",
       "13      Yes\n",
       "14       No\n",
       "15       No\n",
       "16      Yes\n",
       "17      Yes\n",
       "18      Yes\n",
       "19       No\n",
       "20      Yes\n",
       "21       No\n",
       "22       No\n",
       "23      Yes\n",
       "24       No\n",
       "25      Yes\n",
       "26       No\n",
       "27       No\n",
       "28       No\n",
       "29      Yes\n",
       "       ... \n",
       "6967     No\n",
       "6968     No\n",
       "6969     No\n",
       "6970     No\n",
       "6971     No\n",
       "6972     No\n",
       "6973     No\n",
       "6974     No\n",
       "6975     No\n",
       "6976     No\n",
       "6977     No\n",
       "6978     No\n",
       "6979     No\n",
       "6980     No\n",
       "6981     No\n",
       "6982     No\n",
       "6983     No\n",
       "6984     No\n",
       "6985     No\n",
       "6986     No\n",
       "6987     No\n",
       "6988     No\n",
       "6989     No\n",
       "6990     No\n",
       "6991     No\n",
       "6992     No\n",
       "6993     No\n",
       "6994     No\n",
       "6995     No\n",
       "6996     No\n",
       "Name: Bike Buyer, Length: 6997, dtype: object"
      ]
     },
     "execution_count": 266,
     "metadata": {},
     "output_type": "execute_result"
    }
   ],
   "source": [
    "bikebuy"
   ]
  },
  {
   "cell_type": "markdown",
   "metadata": {},
   "source": [
    "\n",
    "# descriptive statistics"
   ]
  },
  {
   "cell_type": "code",
   "execution_count": 267,
   "metadata": {},
   "outputs": [
    {
     "data": {
      "text/plain": [
       "0"
      ]
     },
     "execution_count": 267,
     "metadata": {},
     "output_type": "execute_result"
    }
   ],
   "source": [
    "#minimum income earned\n",
    "bb1['Yearly Income'].min()"
   ]
  },
  {
   "cell_type": "code",
   "execution_count": 268,
   "metadata": {},
   "outputs": [
    {
     "data": {
      "text/plain": [
       "170000"
      ]
     },
     "execution_count": 268,
     "metadata": {},
     "output_type": "execute_result"
    }
   ],
   "source": [
    "#maximum income earned \n",
    "bb1['Yearly Income'].max()"
   ]
  },
  {
   "cell_type": "code",
   "execution_count": 269,
   "metadata": {},
   "outputs": [
    {
     "data": {
      "text/plain": [
       "57020.151493497215"
      ]
     },
     "execution_count": 269,
     "metadata": {},
     "output_type": "execute_result"
    }
   ],
   "source": [
    "#mean(average) of yearly income\n",
    "bb1['Yearly Income'].mean()"
   ]
  },
  {
   "cell_type": "code",
   "execution_count": 270,
   "metadata": {},
   "outputs": [
    {
     "data": {
      "text/plain": [
       "60000.0"
      ]
     },
     "execution_count": 270,
     "metadata": {},
     "output_type": "execute_result"
    }
   ],
   "source": [
    "#median of yearly income\n",
    "bb1['Yearly Income'].median()"
   ]
  },
  {
   "cell_type": "code",
   "execution_count": 271,
   "metadata": {},
   "outputs": [
    {
     "data": {
      "text/plain": [
       "32078.15719490367"
      ]
     },
     "execution_count": 271,
     "metadata": {},
     "output_type": "execute_result"
    }
   ],
   "source": [
    "#standard deviation of income earned yearly \n",
    "np.std(bb1['Yearly Income'])"
   ]
  },
  {
   "cell_type": "code",
   "execution_count": 272,
   "metadata": {},
   "outputs": [
    {
     "data": {
      "text/plain": [
       "1029008169.0209501"
      ]
     },
     "execution_count": 272,
     "metadata": {},
     "output_type": "execute_result"
    }
   ],
   "source": [
    "#variance of income earned per year\n",
    "np.var(bb1['Yearly Income'])"
   ]
  },
  {
   "cell_type": "code",
   "execution_count": 273,
   "metadata": {},
   "outputs": [
    {
     "data": {
      "text/plain": [
       "6968"
      ]
     },
     "execution_count": 273,
     "metadata": {},
     "output_type": "execute_result"
    }
   ],
   "source": [
    "#getting total no of members\n",
    "bb1['Gender'].count()"
   ]
  },
  {
   "cell_type": "code",
   "execution_count": 274,
   "metadata": {},
   "outputs": [
    {
     "data": {
      "text/plain": [
       "Male      3527\n",
       "Female    3441\n",
       "Name: Gender, dtype: int64"
      ]
     },
     "execution_count": 274,
     "metadata": {},
     "output_type": "execute_result"
    }
   ],
   "source": [
    "#getting number of genders and their count differentiated by their name \n",
    "bb1['Gender'].value_counts()"
   ]
  },
  {
   "cell_type": "markdown",
   "metadata": {},
   "source": [
    "# TREATING MISSING VALUES"
   ]
  },
  {
   "cell_type": "code",
   "execution_count": 275,
   "metadata": {},
   "outputs": [
    {
     "data": {
      "text/plain": [
       "Marital Status      16\n",
       "Gender              29\n",
       "Yearly Income        0\n",
       "Children            18\n",
       "Education            0\n",
       "Occupation           0\n",
       "Home Owner           0\n",
       "Cars                 0\n",
       "Commute Distance    29\n",
       "Region               0\n",
       "Age                  0\n",
       "Bike Buyer           0\n",
       "dtype: int64"
      ]
     },
     "execution_count": 275,
     "metadata": {},
     "output_type": "execute_result"
    }
   ],
   "source": [
    "#getting a count of missing values in the dataset\n",
    "bb1.apply(lambda x: sum(x.isnull()),axis=0)"
   ]
  },
  {
   "cell_type": "code",
   "execution_count": 276,
   "metadata": {},
   "outputs": [
    {
     "data": {
      "text/plain": [
       "No     5997\n",
       "Yes    1000\n",
       "Name: Bike Buyer, dtype: int64"
      ]
     },
     "execution_count": 276,
     "metadata": {},
     "output_type": "execute_result"
    }
   ],
   "source": [
    "#Display the count of Bike Buyers\n",
    "bb1['Bike Buyer'].value_counts()"
   ]
  },
  {
   "cell_type": "code",
   "execution_count": 277,
   "metadata": {},
   "outputs": [
    {
     "data": {
      "text/plain": [
       "Married    4133\n",
       "Single     2848\n",
       "Name: Marital Status, dtype: int64"
      ]
     },
     "execution_count": 277,
     "metadata": {},
     "output_type": "execute_result"
    }
   ],
   "source": [
    "#counting married and single including missing values\n",
    "bb1['Marital Status'].value_counts()"
   ]
  },
  {
   "cell_type": "code",
   "execution_count": 278,
   "metadata": {
    "collapsed": true
   },
   "outputs": [],
   "source": [
    "#filling missing values\n",
    "bb1['Marital Status'].fillna('Married',inplace=True)"
   ]
  },
  {
   "cell_type": "code",
   "execution_count": 279,
   "metadata": {},
   "outputs": [
    {
     "data": {
      "text/plain": [
       "Married    4149\n",
       "Single     2848\n",
       "Name: Marital Status, dtype: int64"
      ]
     },
     "execution_count": 279,
     "metadata": {},
     "output_type": "execute_result"
    }
   ],
   "source": [
    "#after filling\n",
    "bb1['Marital Status'].value_counts()"
   ]
  },
  {
   "cell_type": "code",
   "execution_count": 280,
   "metadata": {},
   "outputs": [
    {
     "data": {
      "text/plain": [
       "Male      3527\n",
       "Female    3441\n",
       "Name: Gender, dtype: int64"
      ]
     },
     "execution_count": 280,
     "metadata": {},
     "output_type": "execute_result"
    }
   ],
   "source": [
    "#counting males and females including missing values\n",
    "bb1['Gender'].value_counts()"
   ]
  },
  {
   "cell_type": "code",
   "execution_count": 281,
   "metadata": {
    "collapsed": true
   },
   "outputs": [],
   "source": [
    "#filling missing values\n",
    "bb1['Gender'].fillna('Male',inplace=True)"
   ]
  },
  {
   "cell_type": "code",
   "execution_count": 282,
   "metadata": {},
   "outputs": [
    {
     "data": {
      "text/plain": [
       "0.0    4042\n",
       "1.0     919\n",
       "2.0     556\n",
       "3.0     531\n",
       "4.0     521\n",
       "5.0     410\n",
       "Name: Children, dtype: int64"
      ]
     },
     "execution_count": 282,
     "metadata": {},
     "output_type": "execute_result"
    }
   ],
   "source": [
    "#before cleaning\n",
    "bb1['Children'].value_counts()"
   ]
  },
  {
   "cell_type": "code",
   "execution_count": 283,
   "metadata": {},
   "outputs": [
    {
     "data": {
      "text/plain": [
       "1.1116205760137556"
      ]
     },
     "execution_count": 283,
     "metadata": {},
     "output_type": "execute_result"
    }
   ],
   "source": [
    "#mean of children\n",
    "bb1['Children'].mean()"
   ]
  },
  {
   "cell_type": "code",
   "execution_count": 284,
   "metadata": {
    "collapsed": true
   },
   "outputs": [],
   "source": [
    "#filling missing values \n",
    "#as children cant be 1.1... value less than 1.5 considered as 1 and greater than 1.5 is 2\n",
    "bb1['Children'].fillna('1',inplace=True)"
   ]
  },
  {
   "cell_type": "code",
   "execution_count": 285,
   "metadata": {},
   "outputs": [
    {
     "data": {
      "text/plain": [
       "0.0    4042\n",
       "1.0     919\n",
       "2.0     556\n",
       "3.0     531\n",
       "4.0     521\n",
       "5.0     410\n",
       "1        18\n",
       "Name: Children, dtype: int64"
      ]
     },
     "execution_count": 285,
     "metadata": {},
     "output_type": "execute_result"
    }
   ],
   "source": [
    "#after cleaning\n",
    "bb1['Children'].value_counts()"
   ]
  },
  {
   "cell_type": "code",
   "execution_count": 286,
   "metadata": {},
   "outputs": [
    {
     "data": {
      "text/plain": [
       "1.0     1750\n",
       "2.0     1150\n",
       "5.0      931\n",
       "7.0      768\n",
       "6.0      632\n",
       "3.0      543\n",
       "8.0      403\n",
       "9.0      282\n",
       "4.0      230\n",
       "11.0     132\n",
       "13.0      74\n",
       "10.0      69\n",
       "12.0       4\n",
       "Name: Commute Distance, dtype: int64"
      ]
     },
     "execution_count": 286,
     "metadata": {},
     "output_type": "execute_result"
    }
   ],
   "source": [
    "#before cleaning\n",
    "bb1['Commute Distance'].value_counts()"
   ]
  },
  {
   "cell_type": "code",
   "execution_count": 287,
   "metadata": {},
   "outputs": [
    {
     "data": {
      "text/plain": [
       "4.210103329506315"
      ]
     },
     "execution_count": 287,
     "metadata": {},
     "output_type": "execute_result"
    }
   ],
   "source": [
    "#mean of commute distance\n",
    "bb1['Commute Distance'].mean()"
   ]
  },
  {
   "cell_type": "code",
   "execution_count": 288,
   "metadata": {
    "collapsed": true
   },
   "outputs": [],
   "source": [
    "#filling missing values\n",
    "#as children cant be 4.2... value less than 4.5 considered as 4 and greater than 4.5 is 4\n",
    "bb1['Commute Distance'].fillna('4.0',inplace=True)"
   ]
  },
  {
   "cell_type": "code",
   "execution_count": 289,
   "metadata": {},
   "outputs": [
    {
     "data": {
      "text/plain": [
       "1.0     1750\n",
       "2.0     1150\n",
       "5.0      931\n",
       "7.0      768\n",
       "6.0      632\n",
       "3.0      543\n",
       "8.0      403\n",
       "9.0      282\n",
       "4.0      230\n",
       "11.0     132\n",
       "13.0      74\n",
       "10.0      69\n",
       "4.0       29\n",
       "12.0       4\n",
       "Name: Commute Distance, dtype: int64"
      ]
     },
     "execution_count": 289,
     "metadata": {},
     "output_type": "execute_result"
    }
   ],
   "source": [
    "#after cleaning\n",
    "bb1['Commute Distance'].value_counts()"
   ]
  },
  {
   "cell_type": "code",
   "execution_count": 290,
   "metadata": {},
   "outputs": [
    {
     "data": {
      "text/plain": [
       "Marital Status      0\n",
       "Gender              0\n",
       "Yearly Income       0\n",
       "Children            0\n",
       "Education           0\n",
       "Occupation          0\n",
       "Home Owner          0\n",
       "Cars                0\n",
       "Commute Distance    0\n",
       "Region              0\n",
       "Age                 0\n",
       "Bike Buyer          0\n",
       "dtype: int64"
      ]
     },
     "execution_count": 290,
     "metadata": {},
     "output_type": "execute_result"
    }
   ],
   "source": [
    "#After imputation Get a count of missing values in a dataset\n",
    "bb1.apply(lambda x: sum(x.isnull()),axis=0)"
   ]
  },
  {
   "cell_type": "markdown",
   "metadata": {},
   "source": [
    "\"dataset is cleaned\""
   ]
  },
  {
   "cell_type": "code",
   "execution_count": 291,
   "metadata": {},
   "outputs": [
    {
     "data": {
      "text/html": [
       "<div>\n",
       "<style>\n",
       "    .dataframe thead tr:only-child th {\n",
       "        text-align: right;\n",
       "    }\n",
       "\n",
       "    .dataframe thead th {\n",
       "        text-align: left;\n",
       "    }\n",
       "\n",
       "    .dataframe tbody tr th {\n",
       "        vertical-align: top;\n",
       "    }\n",
       "</style>\n",
       "<table border=\"1\" class=\"dataframe\">\n",
       "  <thead>\n",
       "    <tr style=\"text-align: right;\">\n",
       "      <th></th>\n",
       "      <th>Yearly Income</th>\n",
       "      <th>Cars</th>\n",
       "      <th>Age</th>\n",
       "    </tr>\n",
       "  </thead>\n",
       "  <tbody>\n",
       "    <tr>\n",
       "      <th>count</th>\n",
       "      <td>6997.000000</td>\n",
       "      <td>6997.000000</td>\n",
       "      <td>6997.000000</td>\n",
       "    </tr>\n",
       "    <tr>\n",
       "      <th>mean</th>\n",
       "      <td>57020.151493</td>\n",
       "      <td>1.586823</td>\n",
       "      <td>45.107332</td>\n",
       "    </tr>\n",
       "    <tr>\n",
       "      <th>std</th>\n",
       "      <td>32080.449720</td>\n",
       "      <td>1.146782</td>\n",
       "      <td>11.916654</td>\n",
       "    </tr>\n",
       "    <tr>\n",
       "      <th>min</th>\n",
       "      <td>0.000000</td>\n",
       "      <td>0.000000</td>\n",
       "      <td>25.000000</td>\n",
       "    </tr>\n",
       "    <tr>\n",
       "      <th>25%</th>\n",
       "      <td>30000.000000</td>\n",
       "      <td>1.000000</td>\n",
       "      <td>36.000000</td>\n",
       "    </tr>\n",
       "    <tr>\n",
       "      <th>50%</th>\n",
       "      <td>60000.000000</td>\n",
       "      <td>2.000000</td>\n",
       "      <td>44.000000</td>\n",
       "    </tr>\n",
       "    <tr>\n",
       "      <th>75%</th>\n",
       "      <td>70000.000000</td>\n",
       "      <td>2.000000</td>\n",
       "      <td>53.000000</td>\n",
       "    </tr>\n",
       "    <tr>\n",
       "      <th>max</th>\n",
       "      <td>170000.000000</td>\n",
       "      <td>4.000000</td>\n",
       "      <td>96.000000</td>\n",
       "    </tr>\n",
       "  </tbody>\n",
       "</table>\n",
       "</div>"
      ],
      "text/plain": [
       "       Yearly Income         Cars          Age\n",
       "count    6997.000000  6997.000000  6997.000000\n",
       "mean    57020.151493     1.586823    45.107332\n",
       "std     32080.449720     1.146782    11.916654\n",
       "min         0.000000     0.000000    25.000000\n",
       "25%     30000.000000     1.000000    36.000000\n",
       "50%     60000.000000     2.000000    44.000000\n",
       "75%     70000.000000     2.000000    53.000000\n",
       "max    170000.000000     4.000000    96.000000"
      ]
     },
     "execution_count": 291,
     "metadata": {},
     "output_type": "execute_result"
    }
   ],
   "source": [
    "#describing the data after treating missing values\n",
    "bb1.describe()"
   ]
  },
  {
   "cell_type": "code",
   "execution_count": 292,
   "metadata": {},
   "outputs": [
    {
     "data": {
      "text/html": [
       "<div>\n",
       "<style>\n",
       "    .dataframe thead tr:only-child th {\n",
       "        text-align: right;\n",
       "    }\n",
       "\n",
       "    .dataframe thead th {\n",
       "        text-align: left;\n",
       "    }\n",
       "\n",
       "    .dataframe tbody tr th {\n",
       "        vertical-align: top;\n",
       "    }\n",
       "</style>\n",
       "<table border=\"1\" class=\"dataframe\">\n",
       "  <thead>\n",
       "    <tr style=\"text-align: right;\">\n",
       "      <th></th>\n",
       "      <th>Yearly Income</th>\n",
       "      <th>Cars</th>\n",
       "      <th>Age</th>\n",
       "    </tr>\n",
       "  </thead>\n",
       "  <tbody>\n",
       "    <tr>\n",
       "      <th>Yearly Income</th>\n",
       "      <td>1.029155e+09</td>\n",
       "      <td>17367.818463</td>\n",
       "      <td>74680.941428</td>\n",
       "    </tr>\n",
       "    <tr>\n",
       "      <th>Cars</th>\n",
       "      <td>1.736782e+04</td>\n",
       "      <td>1.315109</td>\n",
       "      <td>1.928144</td>\n",
       "    </tr>\n",
       "    <tr>\n",
       "      <th>Age</th>\n",
       "      <td>7.468094e+04</td>\n",
       "      <td>1.928144</td>\n",
       "      <td>142.006631</td>\n",
       "    </tr>\n",
       "  </tbody>\n",
       "</table>\n",
       "</div>"
      ],
      "text/plain": [
       "               Yearly Income          Cars           Age\n",
       "Yearly Income   1.029155e+09  17367.818463  74680.941428\n",
       "Cars            1.736782e+04      1.315109      1.928144\n",
       "Age             7.468094e+04      1.928144    142.006631"
      ]
     },
     "execution_count": 292,
     "metadata": {},
     "output_type": "execute_result"
    }
   ],
   "source": [
    "#covariance of the data after treating missing values\n",
    "bb1.cov()"
   ]
  },
  {
   "cell_type": "code",
   "execution_count": 293,
   "metadata": {},
   "outputs": [
    {
     "data": {
      "text/html": [
       "<div>\n",
       "<style>\n",
       "    .dataframe thead tr:only-child th {\n",
       "        text-align: right;\n",
       "    }\n",
       "\n",
       "    .dataframe thead th {\n",
       "        text-align: left;\n",
       "    }\n",
       "\n",
       "    .dataframe tbody tr th {\n",
       "        vertical-align: top;\n",
       "    }\n",
       "</style>\n",
       "<table border=\"1\" class=\"dataframe\">\n",
       "  <thead>\n",
       "    <tr style=\"text-align: right;\">\n",
       "      <th></th>\n",
       "      <th>Yearly Income</th>\n",
       "      <th>Cars</th>\n",
       "      <th>Age</th>\n",
       "    </tr>\n",
       "  </thead>\n",
       "  <tbody>\n",
       "    <tr>\n",
       "      <th>Yearly Income</th>\n",
       "      <td>1.000000</td>\n",
       "      <td>0.472089</td>\n",
       "      <td>0.195351</td>\n",
       "    </tr>\n",
       "    <tr>\n",
       "      <th>Cars</th>\n",
       "      <td>0.472089</td>\n",
       "      <td>1.000000</td>\n",
       "      <td>0.141093</td>\n",
       "    </tr>\n",
       "    <tr>\n",
       "      <th>Age</th>\n",
       "      <td>0.195351</td>\n",
       "      <td>0.141093</td>\n",
       "      <td>1.000000</td>\n",
       "    </tr>\n",
       "  </tbody>\n",
       "</table>\n",
       "</div>"
      ],
      "text/plain": [
       "               Yearly Income      Cars       Age\n",
       "Yearly Income       1.000000  0.472089  0.195351\n",
       "Cars                0.472089  1.000000  0.141093\n",
       "Age                 0.195351  0.141093  1.000000"
      ]
     },
     "execution_count": 293,
     "metadata": {},
     "output_type": "execute_result"
    }
   ],
   "source": [
    "#corelation of the data after treating missing values\n",
    "bb1.corr()"
   ]
  },
  {
   "cell_type": "markdown",
   "metadata": {},
   "source": [
    "# graphs"
   ]
  },
  {
   "cell_type": "code",
   "execution_count": 294,
   "metadata": {
    "collapsed": true
   },
   "outputs": [],
   "source": [
    "#importing library\n",
    "import matplotlib.pyplot as plt\n",
    "%matplotlib inline"
   ]
  },
  {
   "cell_type": "code",
   "execution_count": 295,
   "metadata": {},
   "outputs": [
    {
     "data": {
      "text/plain": [
       "Text(0.5,0,'bikebuy')"
      ]
     },
     "execution_count": 295,
     "metadata": {},
     "output_type": "execute_result"
    },
    {
     "data": {
      "image/png": "[encoded data removed]",
      "text/plain": [
       "<matplotlib.figure.Figure at 0x12c71231710>"
      ]
     },
     "metadata": {},
     "output_type": "display_data"
    }
   ],
   "source": [
    "#plotting a graph between yearly income and bike buyers\n",
    "ax=plt.plot(bikebuy,anum,'o')\n",
    "plt.ylabel('anum')\n",
    "plt.xlabel('bikebuy')"
   ]
  },
  {
   "cell_type": "markdown",
   "metadata": {},
   "source": [
    "a graph is plotted between yearly income and bike buyer columns "
   ]
  },
  {
   "cell_type": "code",
   "execution_count": 296,
   "metadata": {},
   "outputs": [
    {
     "data": {
      "text/plain": [
       "Text(0.5,0,'age')"
      ]
     },
     "execution_count": 296,
     "metadata": {},
     "output_type": "execute_result"
    },
    {
     "data": {
      "image/png": "[encoded data removed]",
      "text/plain": [
       "<matplotlib.figure.Figure at 0x12c746444e0>"
      ]
     },
     "metadata": {},
     "output_type": "display_data"
    }
   ],
   "source": [
    "#plotting a graph between age and bike buyers\n",
    "ax=plt.plot(age,bikebuy,'o')\n",
    "plt.ylabel('bikebuy')\n",
    "plt.xlabel('age')"
   ]
  },
  {
   "cell_type": "markdown",
   "metadata": {},
   "source": [
    "a graph is plotted between bike buyer and age columns"
   ]
  },
  {
   "cell_type": "markdown",
   "metadata": {},
   "source": [
    "#Histograms"
   ]
  },
  {
   "cell_type": "code",
   "execution_count": 297,
   "metadata": {},
   "outputs": [
    {
     "data": {
      "text/plain": [
       "<matplotlib.axes._subplots.AxesSubplot at 0x12c7151c0f0>"
      ]
     },
     "execution_count": 297,
     "metadata": {},
     "output_type": "execute_result"
    },
    {
     "data": {
      "image/png": "[encoded data removed]",
      "text/plain": [
       "<matplotlib.figure.Figure at 0x12c65e24390>"
      ]
     },
     "metadata": {},
     "output_type": "display_data"
    }
   ],
   "source": [
    "#histogram on bike buyers\n",
    "bb1['Bike Buyer'].hist(bins=10)"
   ]
  },
  {
   "cell_type": "markdown",
   "metadata": {},
   "source": [
    "a histogram is  plotted on bike buyers \n",
    "where majority people not showing any intrest to buy a bike"
   ]
  },
  {
   "cell_type": "code",
   "execution_count": 298,
   "metadata": {},
   "outputs": [
    {
     "data": {
      "text/plain": [
       "<matplotlib.axes._subplots.AxesSubplot at 0x12c714d6a20>"
      ]
     },
     "execution_count": 298,
     "metadata": {},
     "output_type": "execute_result"
    },
    {
     "data": {
      "image/png": "[encoded data removed]",
      "text/plain": [
       "<matplotlib.figure.Figure at 0x12c7469a748>"
      ]
     },
     "metadata": {},
     "output_type": "display_data"
    }
   ],
   "source": [
    "#histogram on age\n",
    "bb1['Age'].hist(bins=10)"
   ]
  },
  {
   "cell_type": "raw",
   "metadata": {},
   "source": [
    "A histogram is plotted on age \n",
    "here \n",
    "people upto age 30 are about 1100\n",
    "30-40 about 1400\n",
    "40-50 about 1600\n",
    "50-60 about 1100\n",
    "60-70 about 500\n",
    "70-80 about 250\n",
    "80-99 are gradually reducing"
   ]
  },
  {
   "cell_type": "code",
   "execution_count": 299,
   "metadata": {},
   "outputs": [
    {
     "data": {
      "text/plain": [
       "<matplotlib.axes._subplots.AxesSubplot at 0x12c746f8358>"
      ]
     },
     "execution_count": 299,
     "metadata": {},
     "output_type": "execute_result"
    },
    {
     "data": {
      "image/png": "[encoded data removed]",
      "text/plain": [
       "<matplotlib.figure.Figure at 0x12c74757358>"
      ]
     },
     "metadata": {},
     "output_type": "display_data"
    }
   ],
   "source": [
    "#histogram on region\n",
    "bb1['Region'].hist(bins=10)"
   ]
  },
  {
   "cell_type": "markdown",
   "metadata": {},
   "source": [
    "number of people based on their Region\n",
    "\n",
    "\n",
    "\n",
    "Europe-around 2200\n",
    "North America-around 3700\n",
    "Pacific-around 1300\n",
    "\n",
    "\n",
    "\n",
    "majority are from North America"
   ]
  },
  {
   "cell_type": "code",
   "execution_count": 300,
   "metadata": {},
   "outputs": [
    {
     "data": {
      "text/plain": [
       "<matplotlib.axes._subplots.AxesSubplot at 0x12c74757080>"
      ]
     },
     "execution_count": 300,
     "metadata": {},
     "output_type": "execute_result"
    },
    {
     "data": {
      "image/png": "[encoded data removed]",
      "text/plain": [
       "<matplotlib.figure.Figure at 0x12c7477a550>"
      ]
     },
     "metadata": {},
     "output_type": "display_data"
    }
   ],
   "source": [
    "#histogram on cars\n",
    "bb1['Cars'].hist(bins=15)"
   ]
  },
  {
   "cell_type": "markdown",
   "metadata": {},
   "source": [
    "the above graph is plotted on cars \n",
    "\n",
    "\n",
    "this is a right skewed histogram.Majority of the people own 2 or less than 2 cars "
   ]
  },
  {
   "cell_type": "code",
   "execution_count": 301,
   "metadata": {},
   "outputs": [
    {
     "data": {
      "text/plain": [
       "<matplotlib.axes._subplots.AxesSubplot at 0x12c747e4160>"
      ]
     },
     "execution_count": 301,
     "metadata": {},
     "output_type": "execute_result"
    },
    {
     "data": {
      "image/png": "[encoded data removed]",
      "text/plain": [
       "<matplotlib.figure.Figure at 0x12c74841668>"
      ]
     },
     "metadata": {},
     "output_type": "display_data"
    }
   ],
   "source": [
    "#histogram on home owners\n",
    "bb1['Home Owner'].hist(bins=15)"
   ]
  },
  {
   "cell_type": "markdown",
   "metadata": {},
   "source": [
    "The plotted graph is left skewed because the majority are home owners."
   ]
  },
  {
   "cell_type": "code",
   "execution_count": 302,
   "metadata": {},
   "outputs": [
    {
     "data": {
      "text/plain": [
       "<matplotlib.axes._subplots.AxesSubplot at 0x12c748a2400>"
      ]
     },
     "execution_count": 302,
     "metadata": {},
     "output_type": "execute_result"
    },
    {
     "data": {
      "image/png": "[encoded data removed]",
      "text/plain": [
       "<matplotlib.figure.Figure at 0x12c748700b8>"
      ]
     },
     "metadata": {},
     "output_type": "display_data"
    }
   ],
   "source": [
    "#histogram on occupation\n",
    "bb1['Occupation'].hist(bins=15)"
   ]
  },
  {
   "cell_type": "markdown",
   "metadata": {},
   "source": [
    "The  graph is plotted on Occupation which formed a left skewed histogram.In which majority are either Professionals or Skilled Manual"
   ]
  },
  {
   "cell_type": "code",
   "execution_count": 303,
   "metadata": {},
   "outputs": [
    {
     "data": {
      "text/plain": [
       "<matplotlib.axes._subplots.AxesSubplot at 0x12c748d9ef0>"
      ]
     },
     "execution_count": 303,
     "metadata": {},
     "output_type": "execute_result"
    },
    {
     "data": {
      "image/png": "[encoded data removed]",
      "text/plain": [
       "<matplotlib.figure.Figure at 0x12c7493f5c0>"
      ]
     },
     "metadata": {},
     "output_type": "display_data"
    }
   ],
   "source": [
    "#histogram on education\n",
    "bb1['Education'].hist(bins=15)"
   ]
  },
  {
   "cell_type": "markdown",
   "metadata": {},
   "source": [
    "The graph is plotted against Education .In which the majority people are either Bachelors or Partial college."
   ]
  },
  {
   "cell_type": "code",
   "execution_count": 304,
   "metadata": {},
   "outputs": [
    {
     "data": {
      "text/plain": [
       "<matplotlib.axes._subplots.AxesSubplot at 0x12c749618d0>"
      ]
     },
     "execution_count": 304,
     "metadata": {},
     "output_type": "execute_result"
    },
    {
     "data": {
      "image/png": "[encoded data removed]",
      "text/plain": [
       "<matplotlib.figure.Figure at 0x12c749c1358>"
      ]
     },
     "metadata": {},
     "output_type": "display_data"
    }
   ],
   "source": [
    "#histogram on yearly income\n",
    "bb1['Yearly Income'].hist(bins=20)"
   ]
  },
  {
   "cell_type": "markdown",
   "metadata": {},
   "source": [
    "The graph is plotted against Yearly Income in which majority people has the yearly income of 60000"
   ]
  },
  {
   "cell_type": "code",
   "execution_count": 305,
   "metadata": {},
   "outputs": [
    {
     "data": {
      "text/plain": [
       "<matplotlib.axes._subplots.AxesSubplot at 0x12c749e4780>"
      ]
     },
     "execution_count": 305,
     "metadata": {},
     "output_type": "execute_result"
    },
    {
     "data": {
      "image/png": "[encoded data removed]",
      "text/plain": [
       "<matplotlib.figure.Figure at 0x12c74a4eb70>"
      ]
     },
     "metadata": {},
     "output_type": "display_data"
    }
   ],
   "source": [
    "#histogram on gender\n",
    "bb1['Gender'].hist(bins=15)"
   ]
  },
  {
   "cell_type": "markdown",
   "metadata": {},
   "source": [
    "The graph is plotted against the gender where two entities male and female are compared.In this graph male are of more number than female"
   ]
  },
  {
   "cell_type": "code",
   "execution_count": 306,
   "metadata": {},
   "outputs": [
    {
     "data": {
      "text/plain": [
       "<matplotlib.axes._subplots.AxesSubplot at 0x12c74ab6a20>"
      ]
     },
     "execution_count": 306,
     "metadata": {},
     "output_type": "execute_result"
    },
    {
     "data": {
      "image/png": "[encoded data removed]",
      "text/plain": [
       "<matplotlib.figure.Figure at 0x12c74a611d0>"
      ]
     },
     "metadata": {},
     "output_type": "display_data"
    }
   ],
   "source": [
    "#histogram on Maritial status\n",
    "bb1['Marital Status'].hist(bins=15)"
   ]
  },
  {
   "cell_type": "markdown",
   "metadata": {},
   "source": [
    "The graph is plotted against Marital Status where the comparisions are between married and unmarried entities.Here most of the people are married"
   ]
  },
  {
   "cell_type": "code",
   "execution_count": 307,
   "metadata": {},
   "outputs": [
    {
     "data": {
      "text/plain": [
       "array([<matplotlib.axes._subplots.AxesSubplot object at 0x0000012C74AEACC0>,\n",
       "       <matplotlib.axes._subplots.AxesSubplot object at 0x0000012C74B8B358>], dtype=object)"
      ]
     },
     "execution_count": 307,
     "metadata": {},
     "output_type": "execute_result"
    },
    {
     "data": {
      "image/png": "[encoded data removed]",
      "text/plain": [
       "<matplotlib.figure.Figure at 0x12c7480c828>"
      ]
     },
     "metadata": {},
     "output_type": "display_data"
    }
   ],
   "source": [
    "#histogram between bike buyer and gender\n",
    "bb1.hist(column='Bike Buyer',by='Gender',bins=10)"
   ]
  },
  {
   "cell_type": "markdown",
   "metadata": {},
   "source": [
    "\"number of people buying are seperated by gender\""
   ]
  },
  {
   "cell_type": "code",
   "execution_count": 308,
   "metadata": {},
   "outputs": [
    {
     "data": {
      "text/plain": [
       "array([<matplotlib.axes._subplots.AxesSubplot object at 0x0000012C74B630F0>,\n",
       "       <matplotlib.axes._subplots.AxesSubplot object at 0x0000012C74C45EB8>], dtype=object)"
      ]
     },
     "execution_count": 308,
     "metadata": {},
     "output_type": "execute_result"
    },
    {
     "data": {
      "image/png": "[encoded data removed]",
      "text/plain": [
       "<matplotlib.figure.Figure at 0x12c7477d748>"
      ]
     },
     "metadata": {},
     "output_type": "display_data"
    }
   ],
   "source": [
    "#histogram between bike buyer and maritial status\n",
    "bb1.hist(column='Bike Buyer',by='Marital Status',bins=10)"
   ]
  },
  {
   "cell_type": "markdown",
   "metadata": {},
   "source": [
    "The graph is plotted to compare the dependant variable (bike buyer) with the independant variable (Marital Status). "
   ]
  },
  {
   "cell_type": "code",
   "execution_count": 309,
   "metadata": {},
   "outputs": [
    {
     "data": {
      "text/plain": [
       "array([[<matplotlib.axes._subplots.AxesSubplot object at 0x0000012C74BA62B0>,\n",
       "        <matplotlib.axes._subplots.AxesSubplot object at 0x0000012C74D088D0>,\n",
       "        <matplotlib.axes._subplots.AxesSubplot object at 0x0000012C74D418D0>,\n",
       "        <matplotlib.axes._subplots.AxesSubplot object at 0x0000012C74D7C9B0>],\n",
       "       [<matplotlib.axes._subplots.AxesSubplot object at 0x0000012C74DB5978>,\n",
       "        <matplotlib.axes._subplots.AxesSubplot object at 0x0000012C74DB59B0>,\n",
       "        <matplotlib.axes._subplots.AxesSubplot object at 0x0000012C74E1F588>,\n",
       "        <matplotlib.axes._subplots.AxesSubplot object at 0x0000012C74E58588>],\n",
       "       [<matplotlib.axes._subplots.AxesSubplot object at 0x0000012C74E905F8>,\n",
       "        <matplotlib.axes._subplots.AxesSubplot object at 0x0000012C74EA8128>,\n",
       "        <matplotlib.axes._subplots.AxesSubplot object at 0x0000012C74EF4E48>,\n",
       "        <matplotlib.axes._subplots.AxesSubplot object at 0x0000012C74F34358>],\n",
       "       [<matplotlib.axes._subplots.AxesSubplot object at 0x0000012C74F6E3C8>,\n",
       "        <matplotlib.axes._subplots.AxesSubplot object at 0x0000012C74FA72E8>,\n",
       "        <matplotlib.axes._subplots.AxesSubplot object at 0x0000012C74FD4B38>,\n",
       "        <matplotlib.axes._subplots.AxesSubplot object at 0x0000012C75009C88>],\n",
       "       [<matplotlib.axes._subplots.AxesSubplot object at 0x0000012C75042C88>,\n",
       "        <matplotlib.axes._subplots.AxesSubplot object at 0x0000012C7507ACF8>,\n",
       "        <matplotlib.axes._subplots.AxesSubplot object at 0x0000012C7509B0B8>,\n",
       "        <matplotlib.axes._subplots.AxesSubplot object at 0x0000012C750E85F8>]], dtype=object)"
      ]
     },
     "execution_count": 309,
     "metadata": {},
     "output_type": "execute_result"
    },
    {
     "data": {
      "image/png": "[encoded data removed]",
      "text/plain": [
       "<matplotlib.figure.Figure at 0x12c74a3cf60>"
      ]
     },
     "metadata": {},
     "output_type": "display_data"
    }
   ],
   "source": [
    "#histogram between bike buyer and yearly income\n",
    "bb1.hist(column='Bike Buyer',by='Yearly Income',bins=10)"
   ]
  },
  {
   "cell_type": "markdown",
   "metadata": {},
   "source": [
    "The graph is plotted to compare the dependant variable (bike buyer) with the independant variable (Yearly Income)."
   ]
  },
  {
   "cell_type": "code",
   "execution_count": 310,
   "metadata": {},
   "outputs": [
    {
     "data": {
      "text/plain": [
       "array([[<matplotlib.axes._subplots.AxesSubplot object at 0x0000012C753444A8>,\n",
       "        <matplotlib.axes._subplots.AxesSubplot object at 0x0000012C7535C278>,\n",
       "        <matplotlib.axes._subplots.AxesSubplot object at 0x0000012C753820F0>],\n",
       "       [<matplotlib.axes._subplots.AxesSubplot object at 0x0000012C75397668>,\n",
       "        <matplotlib.axes._subplots.AxesSubplot object at 0x0000012C753F8048>,\n",
       "        <matplotlib.axes._subplots.AxesSubplot object at 0x0000012C753F8080>],\n",
       "       [<matplotlib.axes._subplots.AxesSubplot object at 0x0000012C75457C18>,\n",
       "        <matplotlib.axes._subplots.AxesSubplot object at 0x0000012C7549D128>,\n",
       "        <matplotlib.axes._subplots.AxesSubplot object at 0x0000012C754D7128>]], dtype=object)"
      ]
     },
     "execution_count": 310,
     "metadata": {},
     "output_type": "execute_result"
    },
    {
     "data": {
      "image/png": "[encoded data removed]",
      "text/plain": [
       "<matplotlib.figure.Figure at 0x12c7477d630>"
      ]
     },
     "metadata": {},
     "output_type": "display_data"
    }
   ],
   "source": [
    "#histogram between bike buyer and children\n",
    "bb1.hist(column='Bike Buyer',by='Children',bins=10)"
   ]
  },
  {
   "cell_type": "markdown",
   "metadata": {},
   "source": [
    "The graph is plotted to compare the dependant variable (bike buyer) with the independant variable (Children)."
   ]
  },
  {
   "cell_type": "code",
   "execution_count": 311,
   "metadata": {},
   "outputs": [
    {
     "data": {
      "text/plain": [
       "array([[<matplotlib.axes._subplots.AxesSubplot object at 0x0000012C75534160>,\n",
       "        <matplotlib.axes._subplots.AxesSubplot object at 0x0000012C74E2D2B0>],\n",
       "       [<matplotlib.axes._subplots.AxesSubplot object at 0x0000012C75610550>,\n",
       "        <matplotlib.axes._subplots.AxesSubplot object at 0x0000012C75647550>],\n",
       "       [<matplotlib.axes._subplots.AxesSubplot object at 0x0000012C7567DA90>,\n",
       "        <matplotlib.axes._subplots.AxesSubplot object at 0x0000012C7567DAC8>]], dtype=object)"
      ]
     },
     "execution_count": 311,
     "metadata": {},
     "output_type": "execute_result"
    },
    {
     "data": {
      "image/png": "[encoded data removed]",
      "text/plain": [
       "<matplotlib.figure.Figure at 0x12c74c5c390>"
      ]
     },
     "metadata": {},
     "output_type": "display_data"
    }
   ],
   "source": [
    "#histogram between bike buyer and cars\n",
    "bb1.hist(column='Bike Buyer',by='Cars',bins=10)"
   ]
  },
  {
   "cell_type": "markdown",
   "metadata": {},
   "source": [
    "The graph is plotted to compare the dependant variable (bike buyer) with the independant variable (Cars)."
   ]
  },
  {
   "cell_type": "code",
   "execution_count": 312,
   "metadata": {},
   "outputs": [
    {
     "data": {
      "text/plain": [
       "array([[<matplotlib.axes._subplots.AxesSubplot object at 0x0000012C7578B080>,\n",
       "        <matplotlib.axes._subplots.AxesSubplot object at 0x0000012C757B6BE0>,\n",
       "        <matplotlib.axes._subplots.AxesSubplot object at 0x0000012C757F0BE0>,\n",
       "        <matplotlib.axes._subplots.AxesSubplot object at 0x0000012C75831128>],\n",
       "       [<matplotlib.axes._subplots.AxesSubplot object at 0x0000012C7586D128>,\n",
       "        <matplotlib.axes._subplots.AxesSubplot object at 0x0000012C7586D160>,\n",
       "        <matplotlib.axes._subplots.AxesSubplot object at 0x0000012C758D0518>,\n",
       "        <matplotlib.axes._subplots.AxesSubplot object at 0x0000012C7590C588>],\n",
       "       [<matplotlib.axes._subplots.AxesSubplot object at 0x0000012C75945588>,\n",
       "        <matplotlib.axes._subplots.AxesSubplot object at 0x0000012C758DAC18>,\n",
       "        <matplotlib.axes._subplots.AxesSubplot object at 0x0000012C759B3048>,\n",
       "        <matplotlib.axes._subplots.AxesSubplot object at 0x0000012C759EA518>],\n",
       "       [<matplotlib.axes._subplots.AxesSubplot object at 0x0000012C75A23A58>,\n",
       "        <matplotlib.axes._subplots.AxesSubplot object at 0x0000012C75A4B8D0>,\n",
       "        <matplotlib.axes._subplots.AxesSubplot object at 0x0000012C75A89AC8>,\n",
       "        <matplotlib.axes._subplots.AxesSubplot object at 0x0000012C75ABFE48>]], dtype=object)"
      ]
     },
     "execution_count": 312,
     "metadata": {},
     "output_type": "execute_result"
    },
    {
     "data": {
      "image/png": "[encoded data removed]",
      "text/plain": [
       "<matplotlib.figure.Figure at 0x12c74f76710>"
      ]
     },
     "metadata": {},
     "output_type": "display_data"
    }
   ],
   "source": [
    "#histogram between bike buyer and commute distance\n",
    "bb1.hist(column='Bike Buyer',by='Commute Distance',bins=10)"
   ]
  },
  {
   "cell_type": "markdown",
   "metadata": {},
   "source": [
    "The graph is plotted to compare the dependant variable (bike buyer) with the independant variable (Commute Distance)."
   ]
  },
  {
   "cell_type": "code",
   "execution_count": 313,
   "metadata": {},
   "outputs": [
    {
     "data": {
      "text/plain": [
       "array([[<matplotlib.axes._subplots.AxesSubplot object at 0x0000012C75C8F3C8>,\n",
       "        <matplotlib.axes._subplots.AxesSubplot object at 0x0000012C75CD2630>],\n",
       "       [<matplotlib.axes._subplots.AxesSubplot object at 0x0000012C75D006A0>,\n",
       "        <matplotlib.axes._subplots.AxesSubplot object at 0x0000012C75D3A6A0>]], dtype=object)"
      ]
     },
     "execution_count": 313,
     "metadata": {},
     "output_type": "execute_result"
    },
    {
     "data": {
      "image/png": "[encoded data removed]",
      "text/plain": [
       "<matplotlib.figure.Figure at 0x12c7546a080>"
      ]
     },
     "metadata": {},
     "output_type": "display_data"
    }
   ],
   "source": [
    "#histogram between bike buyer and region\n",
    "bb1.hist(column='Bike Buyer',by='Region',bins=10)"
   ]
  },
  {
   "cell_type": "markdown",
   "metadata": {},
   "source": [
    "The graph is plotted to compare the dependant variable (bike buyer) with the independant variable (Region)."
   ]
  },
  {
   "cell_type": "code",
   "execution_count": 314,
   "metadata": {},
   "outputs": [
    {
     "data": {
      "text/plain": [
       "array([[<matplotlib.axes._subplots.AxesSubplot object at 0x0000012C75DDE470>,\n",
       "        <matplotlib.axes._subplots.AxesSubplot object at 0x0000012C75E13F60>],\n",
       "       [<matplotlib.axes._subplots.AxesSubplot object at 0x0000012C75E48F60>,\n",
       "        <matplotlib.axes._subplots.AxesSubplot object at 0x0000012C75E8F4A8>],\n",
       "       [<matplotlib.axes._subplots.AxesSubplot object at 0x0000012C75EC74A8>,\n",
       "        <matplotlib.axes._subplots.AxesSubplot object at 0x0000012C75EC74E0>]], dtype=object)"
      ]
     },
     "execution_count": 314,
     "metadata": {},
     "output_type": "execute_result"
    },
    {
     "data": {
      "image/png": "[encoded data removed]",
      "text/plain": [
       "<matplotlib.figure.Figure at 0x12c756e3ef0>"
      ]
     },
     "metadata": {},
     "output_type": "display_data"
    }
   ],
   "source": [
    "#histogram between bike buyer and occupation\n",
    "bb1.hist(column='Bike Buyer',by='Occupation',bins=10)"
   ]
  },
  {
   "cell_type": "code",
   "execution_count": 315,
   "metadata": {},
   "outputs": [
    {
     "data": {
      "text/plain": [
       "array([[<matplotlib.axes._subplots.AxesSubplot object at 0x0000012C75C8F6A0>,\n",
       "        <matplotlib.axes._subplots.AxesSubplot object at 0x0000012C760012E8>],\n",
       "       [<matplotlib.axes._subplots.AxesSubplot object at 0x0000012C7603B2E8>,\n",
       "        <matplotlib.axes._subplots.AxesSubplot object at 0x0000012C760742E8>],\n",
       "       [<matplotlib.axes._subplots.AxesSubplot object at 0x0000012C760AF2B0>,\n",
       "        <matplotlib.axes._subplots.AxesSubplot object at 0x0000012C760AF2E8>]], dtype=object)"
      ]
     },
     "execution_count": 315,
     "metadata": {},
     "output_type": "execute_result"
    },
    {
     "data": {
      "image/png": "[encoded data removed]",
      "text/plain": [
       "<matplotlib.figure.Figure at 0x12c75cad470>"
      ]
     },
     "metadata": {},
     "output_type": "display_data"
    }
   ],
   "source": [
    "#histogram between bike buyer and education\n",
    "bb1.hist(column='Bike Buyer',by='Education',bins=10)"
   ]
  },
  {
   "cell_type": "markdown",
   "metadata": {},
   "source": [
    "The graph is plotted to compare the dependant variable (bike buyer) with the independant variable (Education)."
   ]
  },
  {
   "cell_type": "code",
   "execution_count": 316,
   "metadata": {},
   "outputs": [
    {
     "data": {
      "text/plain": [
       "array([<matplotlib.axes._subplots.AxesSubplot object at 0x0000012C76126C88>,\n",
       "       <matplotlib.axes._subplots.AxesSubplot object at 0x0000012C761E95C0>], dtype=object)"
      ]
     },
     "execution_count": 316,
     "metadata": {},
     "output_type": "execute_result"
    },
    {
     "data": {
      "image/png": "[encoded data removed]",
      "text/plain": [
       "<matplotlib.figure.Figure at 0x12c760aff98>"
      ]
     },
     "metadata": {},
     "output_type": "display_data"
    }
   ],
   "source": [
    "#histogram between bike buyer and home owner \n",
    "bb1.hist(column='Bike Buyer',by='Home Owner',bins=10)"
   ]
  },
  {
   "cell_type": "markdown",
   "metadata": {},
   "source": [
    "The graph is plotted to compare the dependant variable (bike buyer) with the independant variable (Home Owner)."
   ]
  },
  {
   "cell_type": "markdown",
   "metadata": {},
   "source": [
    "# Boxplot"
   ]
  },
  {
   "cell_type": "markdown",
   "metadata": {},
   "source": [
    "Box plot is a graphical representation where the graph is plotted in the form of a box where it has upper wisker,upper hindge,mean,lower hindge and lower wisker. In box plot it is easy to identify the outliers which are represented in the form of circles."
   ]
  },
  {
   "cell_type": "code",
   "execution_count": 317,
   "metadata": {},
   "outputs": [
    {
     "data": {
      "text/plain": [
       "<matplotlib.axes._subplots.AxesSubplot at 0x12c761feda0>"
      ]
     },
     "execution_count": 317,
     "metadata": {},
     "output_type": "execute_result"
    },
    {
     "data": {
      "image/png": "[encoded data removed]",
      "text/plain": [
       "<matplotlib.figure.Figure at 0x12c762697f0>"
      ]
     },
     "metadata": {},
     "output_type": "display_data"
    }
   ],
   "source": [
    "#boxplot for age\n",
    "bb1.boxplot(column='Age')"
   ]
  },
  {
   "cell_type": "markdown",
   "metadata": {},
   "source": [
    "Here the box plot is plotted against the Age variable. where there are multiple outliers.These can be reduced by removing them or by replacing with mean."
   ]
  },
  {
   "cell_type": "code",
   "execution_count": 318,
   "metadata": {},
   "outputs": [
    {
     "data": {
      "text/plain": [
       "<matplotlib.axes._subplots.AxesSubplot at 0x12c7622acf8>"
      ]
     },
     "execution_count": 318,
     "metadata": {},
     "output_type": "execute_result"
    },
    {
     "data": {
      "image/png": "[encoded data removed]",
      "text/plain": [
       "<matplotlib.figure.Figure at 0x12c762d1400>"
      ]
     },
     "metadata": {},
     "output_type": "display_data"
    }
   ],
   "source": [
    "#boxplot for yearly income\n",
    "bb1.boxplot(column='Yearly Income')"
   ]
  },
  {
   "cell_type": "markdown",
   "metadata": {},
   "source": [
    "Here the box plot is plotted against the Yearly Income variable. where there are multiple outliers.These can be reduced by replacing with mean."
   ]
  },
  {
   "cell_type": "code",
   "execution_count": 319,
   "metadata": {},
   "outputs": [
    {
     "data": {
      "text/plain": [
       "<matplotlib.axes._subplots.AxesSubplot at 0x12c762e9dd8>"
      ]
     },
     "execution_count": 319,
     "metadata": {},
     "output_type": "execute_result"
    },
    {
     "data": {
      "image/png": "[encoded data removed]",
      "text/plain": [
       "<matplotlib.figure.Figure at 0x12c76337128>"
      ]
     },
     "metadata": {},
     "output_type": "display_data"
    }
   ],
   "source": [
    "#boxplot for cars\n",
    "bb1.boxplot(column='Cars')"
   ]
  },
  {
   "cell_type": "markdown",
   "metadata": {},
   "source": [
    "Here the box plot is plotted against the Cars variable. where there it shows the nuber of cars that a person has."
   ]
  },
  {
   "cell_type": "markdown",
   "metadata": {},
   "source": [
    "# BARPLOTS"
   ]
  },
  {
   "cell_type": "markdown",
   "metadata": {},
   "source": [
    "Here is the main difference between bar charts and histograms. With bar charts, each column represents a group defined by a categorical variable; and with histograms, each column represents a group defined by a quantitative variable."
   ]
  },
  {
   "cell_type": "code",
   "execution_count": 320,
   "metadata": {},
   "outputs": [
    {
     "data": {
      "text/plain": [
       "<matplotlib.axes._subplots.AxesSubplot at 0x12c762e9780>"
      ]
     },
     "execution_count": 320,
     "metadata": {},
     "output_type": "execute_result"
    },
    {
     "data": {
      "image/png": "[encoded data removed]",
      "text/plain": [
       "<matplotlib.figure.Figure at 0x12c7635a828>"
      ]
     },
     "metadata": {},
     "output_type": "display_data"
    }
   ],
   "source": [
    "#barplot for region\n",
    "bb1['Region'].value_counts().plot(kind='bar')"
   ]
  },
  {
   "cell_type": "markdown",
   "metadata": {},
   "source": [
    "Here the bar plot is plotted for the (independent variable) Region.where the comparision is between the different regions which effects the bike buyer(dependant variable)"
   ]
  },
  {
   "cell_type": "code",
   "execution_count": 321,
   "metadata": {},
   "outputs": [
    {
     "data": {
      "text/plain": [
       "<matplotlib.axes._subplots.AxesSubplot at 0x12c762d70f0>"
      ]
     },
     "execution_count": 321,
     "metadata": {},
     "output_type": "execute_result"
    },
    {
     "data": {
      "image/png": "[encoded data removed]",
      "text/plain": [
       "<matplotlib.figure.Figure at 0x12c763c8cf8>"
      ]
     },
     "metadata": {},
     "output_type": "display_data"
    }
   ],
   "source": [
    "#barplot for children\n",
    "bb1['Children'].value_counts().plot(kind='bar')"
   ]
  },
  {
   "cell_type": "markdown",
   "metadata": {},
   "source": [
    "Here the bar plot is plotted for the (independent variable) children.where the children variable shows the possibility of a bike buyer to buy the bike."
   ]
  },
  {
   "cell_type": "code",
   "execution_count": 322,
   "metadata": {},
   "outputs": [
    {
     "data": {
      "text/plain": [
       "<matplotlib.axes._subplots.AxesSubplot at 0x12c7642b1d0>"
      ]
     },
     "execution_count": 322,
     "metadata": {},
     "output_type": "execute_result"
    },
    {
     "data": {
      "image/png": "[encoded data removed]",
      "text/plain": [
       "<matplotlib.figure.Figure at 0x12c76470ac8>"
      ]
     },
     "metadata": {},
     "output_type": "display_data"
    }
   ],
   "source": [
    "#boxplot on occupation\n",
    "bb1['Occupation'].value_counts().plot(kind='bar')"
   ]
  },
  {
   "cell_type": "markdown",
   "metadata": {},
   "source": [
    "Here the bar plot is plotted for the (independent variable) Occupation.where the Occupation variable shows the possibility of a bike buyer to buy the bike."
   ]
  },
  {
   "cell_type": "code",
   "execution_count": 323,
   "metadata": {},
   "outputs": [
    {
     "data": {
      "text/plain": [
       "<matplotlib.axes._subplots.AxesSubplot at 0x12c764d0d30>"
      ]
     },
     "execution_count": 323,
     "metadata": {},
     "output_type": "execute_result"
    },
    {
     "data": {
      "image/png": "[encoded data removed]",
      "text/plain": [
       "<matplotlib.figure.Figure at 0x12c7649ea20>"
      ]
     },
     "metadata": {},
     "output_type": "display_data"
    }
   ],
   "source": [
    "#boxplot on education\n",
    "bb1['Education'].value_counts().plot(kind='bar')"
   ]
  },
  {
   "cell_type": "markdown",
   "metadata": {},
   "source": [
    "Here the bar plot is plotted for the (independent variable) Education.where the Education variable shows the possibility of a bike buyer to buy the bike."
   ]
  },
  {
   "cell_type": "code",
   "execution_count": 324,
   "metadata": {},
   "outputs": [
    {
     "data": {
      "text/plain": [
       "<matplotlib.axes._subplots.AxesSubplot at 0x12c764ee588>"
      ]
     },
     "execution_count": 324,
     "metadata": {},
     "output_type": "execute_result"
    },
    {
     "data": {
      "image/png": "[encoded data removed]",
      "text/plain": [
       "<matplotlib.figure.Figure at 0x12c76506a90>"
      ]
     },
     "metadata": {},
     "output_type": "display_data"
    }
   ],
   "source": [
    "#boxplot on home owner \n",
    "bb1['Home Owner'].value_counts().plot(kind='bar')"
   ]
  },
  {
   "cell_type": "markdown",
   "metadata": {},
   "source": [
    "Here the bar plot is plotted for the (independent variable) Home owner.where the Home owner variable shows the possibility of a bike buyer to buy the bike."
   ]
  },
  {
   "cell_type": "code",
   "execution_count": 325,
   "metadata": {},
   "outputs": [
    {
     "data": {
      "text/plain": [
       "<matplotlib.axes._subplots.AxesSubplot at 0x12c765b9f60>"
      ]
     },
     "execution_count": 325,
     "metadata": {},
     "output_type": "execute_result"
    },
    {
     "data": {
      "image/png": "[encoded data removed]",
      "text/plain": [
       "<matplotlib.figure.Figure at 0x12c76556080>"
      ]
     },
     "metadata": {},
     "output_type": "display_data"
    }
   ],
   "source": [
    "#boxplot on gender \n",
    "bb1['Gender'].value_counts().plot(kind='bar')"
   ]
  },
  {
   "cell_type": "markdown",
   "metadata": {},
   "source": [
    "Here the bar plot is plotted for the (independent variable) Gender.where the Gender variable shows the possibility of a bike buyer to buy the bike."
   ]
  },
  {
   "cell_type": "code",
   "execution_count": 326,
   "metadata": {},
   "outputs": [
    {
     "data": {
      "text/plain": [
       "<matplotlib.axes._subplots.AxesSubplot at 0x12c764ff438>"
      ]
     },
     "execution_count": 326,
     "metadata": {},
     "output_type": "execute_result"
    },
    {
     "data": {
      "image/png": "[encoded data removed]",
      "text/plain": [
       "<matplotlib.figure.Figure at 0x12c765cb208>"
      ]
     },
     "metadata": {},
     "output_type": "display_data"
    }
   ],
   "source": [
    "#boxplot on yearly income\n",
    "bb1['Yearly Income'].value_counts().plot(kind='bar')"
   ]
  },
  {
   "cell_type": "markdown",
   "metadata": {},
   "source": [
    "Here the bar plot is plotted for the (independent variable) Yearly Income.where the Yearly Income  variable shows the possibility of a bike buyer to buy the bike."
   ]
  },
  {
   "cell_type": "code",
   "execution_count": 327,
   "metadata": {},
   "outputs": [
    {
     "data": {
      "text/plain": [
       "<matplotlib.axes._subplots.AxesSubplot at 0x12c76639128>"
      ]
     },
     "execution_count": 327,
     "metadata": {},
     "output_type": "execute_result"
    },
    {
     "data": {
      "image/png": "[encoded data removed]",
      "text/plain": [
       "<matplotlib.figure.Figure at 0x12c76692a58>"
      ]
     },
     "metadata": {},
     "output_type": "display_data"
    }
   ],
   "source": [
    "# boxplot on Age\n",
    "bb1['Age'].value_counts().plot(kind='bar')"
   ]
  },
  {
   "cell_type": "markdown",
   "metadata": {},
   "source": [
    "Here the bar plot is plotted for the (independent variable) Age.where the Age variable shows the possibility of a bike buyer to buy the bike."
   ]
  },
  {
   "cell_type": "markdown",
   "metadata": {},
   "source": [
    "# \"Spliting Data into x and y\""
   ]
  },
  {
   "cell_type": "code",
   "execution_count": 328,
   "metadata": {
    "collapsed": true
   },
   "outputs": [],
   "source": [
    "#entire dataset is seperated as x and y\n",
    "x=bb1.iloc[:,:-1].values\n",
    "y=bb1.iloc[:,11].values"
   ]
  },
  {
   "cell_type": "code",
   "execution_count": 329,
   "metadata": {},
   "outputs": [
    {
     "data": {
      "text/plain": [
       "array([['Single', 'Male', 30000, ..., 1.0, 'Europe', 33],\n",
       "       ['Married', 'Female', 40000, ..., 1.0, 'Europe', 37],\n",
       "       ['Married', 'Male', 160000, ..., 2.0, 'Europe', 55],\n",
       "       ..., \n",
       "       ['Married', 'Female', 160000, ..., 1.0, 'Europe', 53],\n",
       "       ['Single', 'Female', 120000, ..., 1.0, 'Europe', 54],\n",
       "       ['Married', 'Male', 130000, ..., 2.0, 'Europe', 54]], dtype=object)"
      ]
     },
     "execution_count": 329,
     "metadata": {},
     "output_type": "execute_result"
    }
   ],
   "source": [
    "x"
   ]
  },
  {
   "cell_type": "code",
   "execution_count": 330,
   "metadata": {},
   "outputs": [
    {
     "data": {
      "text/plain": [
       "array(['Yes', 'Yes', 'No', ..., 'No', 'No', 'No'], dtype=object)"
      ]
     },
     "execution_count": 330,
     "metadata": {},
     "output_type": "execute_result"
    }
   ],
   "source": [
    "y"
   ]
  },
  {
   "cell_type": "markdown",
   "metadata": {},
   "source": [
    "# converting strings to numerics"
   ]
  },
  {
   "cell_type": "code",
   "execution_count": 331,
   "metadata": {
    "collapsed": true
   },
   "outputs": [],
   "source": [
    "#converting strings into numerics using labelencoder\n",
    "from sklearn.preprocessing import LabelEncoder,OneHotEncoder\n",
    "labelencoder_x=LabelEncoder()\n",
    "x[:,0]=labelencoder_x.fit_transform(x[:,0]) #index of Marital Status is 0\n",
    "x[:,1]=labelencoder_x.fit_transform(x[:,1]) #index of Gender is 1\n",
    "x[:,4]=labelencoder_x.fit_transform(x[:,4]) #index of Education is 4\n",
    "x[:,5]=labelencoder_x.fit_transform(x[:,5]) #index of Occupation is 5\n",
    "x[:,6]=labelencoder_x.fit_transform(x[:,6]) #index of Home Owner is 6\n",
    "x[:,9]=labelencoder_x.fit_transform(x[:,9]) #index of Region is 9"
   ]
  },
  {
   "cell_type": "code",
   "execution_count": 332,
   "metadata": {
    "collapsed": true
   },
   "outputs": [],
   "source": [
    "#converting strings into numerics where there are more than 2 different types \n",
    "#using onehotencoder\n",
    "ohe=OneHotEncoder(categorical_features=[4])\n",
    "x=ohe.fit_transform(x).toarray()\n",
    "ohe=OneHotEncoder(categorical_features=[5])\n",
    "x=ohe.fit_transform(x).toarray()\n",
    "ohe=OneHotEncoder(categorical_features=[9])\n",
    "x=ohe.fit_transform(x).toarray()"
   ]
  },
  {
   "cell_type": "code",
   "execution_count": 333,
   "metadata": {},
   "outputs": [
    {
     "data": {
      "text/plain": [
       "array([[  1.,   0.,   0., ...,   1.,   0.,  33.],\n",
       "       [  1.,   0.,   0., ...,   1.,   0.,  37.],\n",
       "       [  0.,   0.,   0., ...,   2.,   0.,  55.],\n",
       "       ..., \n",
       "       [  0.,   0.,   0., ...,   1.,   0.,  53.],\n",
       "       [  0.,   0.,   0., ...,   1.,   0.,  54.],\n",
       "       [  0.,   0.,   0., ...,   2.,   0.,  54.]])"
      ]
     },
     "execution_count": 333,
     "metadata": {},
     "output_type": "execute_result"
    }
   ],
   "source": [
    "x"
   ]
  },
  {
   "cell_type": "code",
   "execution_count": 334,
   "metadata": {},
   "outputs": [
    {
     "data": {
      "text/plain": [
       "array(['Yes', 'Yes', 'No', ..., 'No', 'No', 'No'], dtype=object)"
      ]
     },
     "execution_count": 334,
     "metadata": {},
     "output_type": "execute_result"
    }
   ],
   "source": [
    "y"
   ]
  },
  {
   "cell_type": "markdown",
   "metadata": {},
   "source": [
    "# Normalization"
   ]
  },
  {
   "cell_type": "code",
   "execution_count": 335,
   "metadata": {},
   "outputs": [
    {
     "data": {
      "text/plain": [
       "array([[ 10.        ,   0.        ,   0.        , ...,   0.        ,\n",
       "          0.        ,   1.12676056],\n",
       "       [ 10.        ,   0.        ,   0.        , ...,   0.        ,\n",
       "          0.        ,   1.69014085],\n",
       "       [  0.        ,   0.        ,   0.        , ...,   0.83333333,\n",
       "          0.        ,   4.22535211],\n",
       "       ..., \n",
       "       [  0.        ,   0.        ,   0.        , ...,   0.        ,\n",
       "          0.        ,   3.94366197],\n",
       "       [  0.        ,   0.        ,   0.        , ...,   0.        ,\n",
       "          0.        ,   4.08450704],\n",
       "       [  0.        ,   0.        ,   0.        , ...,   0.83333333,\n",
       "          0.        ,   4.08450704]])"
      ]
     },
     "execution_count": 335,
     "metadata": {},
     "output_type": "execute_result"
    }
   ],
   "source": [
    "#Apply normalization to rescale the features to a standard range of values.\n",
    "from sklearn import preprocessing\n",
    "minmax=preprocessing.MinMaxScaler(feature_range=(0,10))\n",
    "minmax.fit_transform(x)"
   ]
  },
  {
   "cell_type": "markdown",
   "metadata": {},
   "source": [
    "# spliting train and test sets"
   ]
  },
  {
   "cell_type": "code",
   "execution_count": 336,
   "metadata": {
    "collapsed": true
   },
   "outputs": [],
   "source": [
    "#spliting train and test sets\n",
    "from sklearn.cross_validation import train_test_split\n",
    "x_train,x_test,y_train,y_test=train_test_split(x,y,test_size=0.2,random_state=0)"
   ]
  },
  {
   "cell_type": "code",
   "execution_count": 337,
   "metadata": {},
   "outputs": [
    {
     "data": {
      "text/plain": [
       "array([[  1.,   0.,   0., ...,   2.,   1.,  30.],\n",
       "       [  1.,   0.,   0., ...,   2.,   2.,  35.],\n",
       "       [  0.,   0.,   0., ...,   9.,   0.,  42.],\n",
       "       ..., \n",
       "       [  1.,   0.,   0., ...,   1.,   0.,  41.],\n",
       "       [  1.,   0.,   0., ...,   8.,   2.,  34.],\n",
       "       [  1.,   0.,   0., ...,   9.,   1.,  70.]])"
      ]
     },
     "execution_count": 337,
     "metadata": {},
     "output_type": "execute_result"
    }
   ],
   "source": [
    "x_train"
   ]
  },
  {
   "cell_type": "code",
   "execution_count": 338,
   "metadata": {},
   "outputs": [
    {
     "data": {
      "text/plain": [
       "array([[  1.,   0.,   0., ...,   5.,   1.,  48.],\n",
       "       [  1.,   0.,   0., ...,   1.,   2.,  60.],\n",
       "       [  0.,   1.,   0., ...,   6.,   1.,  59.],\n",
       "       ..., \n",
       "       [  1.,   0.,   0., ...,   2.,   0.,  37.],\n",
       "       [  1.,   0.,   0., ...,   6.,   2.,  49.],\n",
       "       [  1.,   0.,   0., ...,   5.,   1.,  40.]])"
      ]
     },
     "execution_count": 338,
     "metadata": {},
     "output_type": "execute_result"
    }
   ],
   "source": [
    "x_test"
   ]
  },
  {
   "cell_type": "code",
   "execution_count": 339,
   "metadata": {},
   "outputs": [
    {
     "data": {
      "text/plain": [
       "array(['No', 'No', 'No', ..., 'Yes', 'No', 'No'], dtype=object)"
      ]
     },
     "execution_count": 339,
     "metadata": {},
     "output_type": "execute_result"
    }
   ],
   "source": [
    "y_train"
   ]
  },
  {
   "cell_type": "code",
   "execution_count": 340,
   "metadata": {},
   "outputs": [
    {
     "data": {
      "text/plain": [
       "array(['No', 'No', 'No', ..., 'No', 'No', 'No'], dtype=object)"
      ]
     },
     "execution_count": 340,
     "metadata": {},
     "output_type": "execute_result"
    }
   ],
   "source": [
    "y_test"
   ]
  },
  {
   "cell_type": "markdown",
   "metadata": {
    "collapsed": true
   },
   "source": [
    "# KNN Classification model"
   ]
  },
  {
   "cell_type": "code",
   "execution_count": 341,
   "metadata": {},
   "outputs": [
    {
     "data": {
      "text/plain": [
       "KNeighborsClassifier(algorithm='auto', leaf_size=30, metric='minkowski',\n",
       "           metric_params=None, n_jobs=1, n_neighbors=5, p=2,\n",
       "           weights='uniform')"
      ]
     },
     "execution_count": 341,
     "metadata": {},
     "output_type": "execute_result"
    }
   ],
   "source": [
    "#Fitting classifier to the training set\n",
    "from sklearn import cross_validation, neighbors\n",
    "clf=neighbors.KNeighborsClassifier()\n",
    "clf.fit(x_train,y_train)"
   ]
  },
  {
   "cell_type": "code",
   "execution_count": 342,
   "metadata": {
    "collapsed": true
   },
   "outputs": [],
   "source": [
    "#Predicting the Test set results\n",
    "y_pred=clf.predict(x_test)"
   ]
  },
  {
   "cell_type": "code",
   "execution_count": 343,
   "metadata": {},
   "outputs": [
    {
     "data": {
      "text/plain": [
       "array(['No', 'No', 'No', ..., 'Yes', 'No', 'No'], dtype=object)"
      ]
     },
     "execution_count": 343,
     "metadata": {},
     "output_type": "execute_result"
    }
   ],
   "source": [
    "y_pred"
   ]
  },
  {
   "cell_type": "code",
   "execution_count": 344,
   "metadata": {},
   "outputs": [
    {
     "data": {
      "text/plain": [
       "array(['No', 'No', 'No', ..., 'No', 'No', 'No'], dtype=object)"
      ]
     },
     "execution_count": 344,
     "metadata": {},
     "output_type": "execute_result"
    }
   ],
   "source": [
    "y_pred_tr=clf.predict(x_train)\n",
    "y_pred_tr"
   ]
  },
  {
   "cell_type": "code",
   "execution_count": 345,
   "metadata": {},
   "outputs": [
    {
     "data": {
      "text/plain": [
       "array(['No', 'No', 'No', ..., 'No', 'No', 'No'], dtype=object)"
      ]
     },
     "execution_count": 345,
     "metadata": {},
     "output_type": "execute_result"
    }
   ],
   "source": [
    "y_test"
   ]
  },
  {
   "cell_type": "code",
   "execution_count": 346,
   "metadata": {},
   "outputs": [
    {
     "data": {
      "text/plain": [
       "array([[1142,   62],\n",
       "       [ 156,   40]], dtype=int64)"
      ]
     },
     "execution_count": 346,
     "metadata": {},
     "output_type": "execute_result"
    }
   ],
   "source": [
    "#Build confusion matrix on train and test\n",
    "from sklearn.metrics import confusion_matrix\n",
    "clf_cm_test=confusion_matrix(y_test,y_pred)\n",
    "clf_cm_test"
   ]
  },
  {
   "cell_type": "code",
   "execution_count": 347,
   "metadata": {},
   "outputs": [
    {
     "data": {
      "text/plain": [
       "array([[4700,   93],\n",
       "       [ 556,  248]], dtype=int64)"
      ]
     },
     "execution_count": 347,
     "metadata": {},
     "output_type": "execute_result"
    }
   ],
   "source": [
    "clf_cm_train=confusion_matrix(y_train,y_pred_tr)\n",
    "clf_cm_train"
   ]
  },
  {
   "cell_type": "code",
   "execution_count": 348,
   "metadata": {},
   "outputs": [
    {
     "name": "stdout",
     "output_type": "stream",
     "text": [
      "0.844285714286\n"
     ]
    }
   ],
   "source": [
    "#Obtain accuracy\n",
    "accuracy=clf.score(x_test,y_test)\n",
    "print(accuracy)"
   ]
  },
  {
   "cell_type": "code",
   "execution_count": 349,
   "metadata": {},
   "outputs": [
    {
     "name": "stdout",
     "output_type": "stream",
     "text": [
      "0.88404502412\n"
     ]
    }
   ],
   "source": [
    "accuracy1=clf.score(x_train,y_train)\n",
    "print(accuracy1)"
   ]
  },
  {
   "cell_type": "code",
   "execution_count": 350,
   "metadata": {},
   "outputs": [
    {
     "name": "stdout",
     "output_type": "stream",
     "text": [
      "0.811542946917\n",
      "0.870234983511\n"
     ]
    }
   ],
   "source": [
    "from sklearn.metrics import precision_score\n",
    "knnt=precision_score(y_test,y_pred,average='weighted')\n",
    "print(knnt)\n",
    "knntr=precision_score(y_train,y_pred_tr,average='weighted')\n",
    "print(knntr)"
   ]
  },
  {
   "cell_type": "code",
   "execution_count": 351,
   "metadata": {},
   "outputs": [
    {
     "name": "stdout",
     "output_type": "stream",
     "text": [
      "0.844285714286\n",
      "0.88404502412\n"
     ]
    }
   ],
   "source": [
    "from sklearn.metrics import recall_score\n",
    "knn1=recall_score(y_test,y_pred,average='weighted')\n",
    "print(knn1)\n",
    "knnt1=recall_score(y_train,y_pred_tr,average='weighted')\n",
    "print(knnt1)"
   ]
  },
  {
   "cell_type": "markdown",
   "metadata": {},
   "source": [
    "# LOGISTIC REGRESSION model"
   ]
  },
  {
   "cell_type": "code",
   "execution_count": 352,
   "metadata": {
    "collapsed": true
   },
   "outputs": [],
   "source": [
    "#Perform Logistic Regression\n",
    "from sklearn.linear_model.logistic import LogisticRegression\n",
    "cls=LogisticRegression(random_state=0)\n",
    "lr_cls=cls.fit(x_train,y_train)"
   ]
  },
  {
   "cell_type": "code",
   "execution_count": 353,
   "metadata": {},
   "outputs": [
    {
     "data": {
      "text/plain": [
       "array(['No', 'No', 'No', ..., 'No', 'No', 'No'], dtype=object)"
      ]
     },
     "execution_count": 353,
     "metadata": {},
     "output_type": "execute_result"
    }
   ],
   "source": [
    "#Predicting the test and train data\n",
    "lr_y_test=lr_cls.predict(x_test)\n",
    "lr_y_test"
   ]
  },
  {
   "cell_type": "code",
   "execution_count": 354,
   "metadata": {},
   "outputs": [
    {
     "data": {
      "text/plain": [
       "array(['No', 'No', 'No', ..., 'No', 'No', 'No'], dtype=object)"
      ]
     },
     "execution_count": 354,
     "metadata": {},
     "output_type": "execute_result"
    }
   ],
   "source": [
    "y_test"
   ]
  },
  {
   "cell_type": "code",
   "execution_count": 355,
   "metadata": {},
   "outputs": [
    {
     "data": {
      "text/plain": [
       "array(['No', 'No', 'No', ..., 'No', 'No', 'No'], dtype=object)"
      ]
     },
     "execution_count": 355,
     "metadata": {},
     "output_type": "execute_result"
    }
   ],
   "source": [
    "lr_y_train=lr_cls.predict(x_train)\n",
    "lr_y_train"
   ]
  },
  {
   "cell_type": "code",
   "execution_count": 356,
   "metadata": {},
   "outputs": [
    {
     "data": {
      "text/plain": [
       "array([[1204,    0],\n",
       "       [ 196,    0]], dtype=int64)"
      ]
     },
     "execution_count": 356,
     "metadata": {},
     "output_type": "execute_result"
    }
   ],
   "source": [
    "#Build confusion matrix on test and train\n",
    "from sklearn.metrics import confusion_matrix\n",
    "lr_cm_test=confusion_matrix(y_test,lr_y_test)\n",
    "lr_cm_test"
   ]
  },
  {
   "cell_type": "code",
   "execution_count": 358,
   "metadata": {},
   "outputs": [
    {
     "data": {
      "text/plain": [
       "array([[4793,    0],\n",
       "       [ 804,    0]], dtype=int64)"
      ]
     },
     "execution_count": 358,
     "metadata": {},
     "output_type": "execute_result"
    }
   ],
   "source": [
    "lr_cm_train=confusion_matrix(y_train,lr_y_train)\n",
    "lr_cm_train"
   ]
  },
  {
   "cell_type": "code",
   "execution_count": 224,
   "metadata": {},
   "outputs": [
    {
     "data": {
      "text/plain": [
       "0.85999999999999999"
      ]
     },
     "execution_count": 224,
     "metadata": {},
     "output_type": "execute_result"
    }
   ],
   "source": [
    "#Accuracy score on test and train\n",
    "from sklearn.metrics import accuracy_score\n",
    "lr_accu_test=accuracy_score(y_test,lr_y_test)\n",
    "lr_accu_test"
   ]
  },
  {
   "cell_type": "code",
   "execution_count": 225,
   "metadata": {},
   "outputs": [
    {
     "data": {
      "text/plain": [
       "0.85635161693764517"
      ]
     },
     "execution_count": 225,
     "metadata": {},
     "output_type": "execute_result"
    }
   ],
   "source": [
    "lr_accu_train=accuracy_score(y_train,lr_y_train)\n",
    "lr_accu_train"
   ]
  },
  {
   "cell_type": "code",
   "execution_count": 226,
   "metadata": {},
   "outputs": [
    {
     "name": "stdout",
     "output_type": "stream",
     "text": [
      "0.7396\n",
      "0.733338091832\n"
     ]
    },
    {
     "name": "stderr",
     "output_type": "stream",
     "text": [
      "C:\\Users\\Lakshmanraj\\Anaconda3\\lib\\site-packages\\sklearn\\metrics\\classification.py:1135: UndefinedMetricWarning: Precision is ill-defined and being set to 0.0 in labels with no predicted samples.\n",
      "  'precision', 'predicted', average, warn_for)\n"
     ]
    }
   ],
   "source": [
    "from sklearn.metrics import precision_score\n",
    "lrt=precision_score(y_test,lr_y_test,average='weighted')\n",
    "print(lrt)\n",
    "lrtr=precision_score(y_train,lr_y_train,average='weighted')\n",
    "print(lrtr)"
   ]
  },
  {
   "cell_type": "code",
   "execution_count": 227,
   "metadata": {},
   "outputs": [
    {
     "name": "stdout",
     "output_type": "stream",
     "text": [
      "0.86\n",
      "0.856351616938\n"
     ]
    }
   ],
   "source": [
    "from sklearn.metrics import recall_score\n",
    "lrt1=recall_score(y_test,lr_y_test,average='weighted')\n",
    "print(lrt1)\n",
    "lrtr1=recall_score(y_train,lr_y_train,average='weighted')\n",
    "print(lrtr1)"
   ]
  },
  {
   "cell_type": "markdown",
   "metadata": {},
   "source": [
    "# SVM classification model"
   ]
  },
  {
   "cell_type": "code",
   "execution_count": 228,
   "metadata": {
    "collapsed": true
   },
   "outputs": [],
   "source": [
    "#support vector machine classifier \n",
    "from sklearn.svm import SVC\n",
    "sc=SVC(kernel='rbf')\n",
    "sc_classifier=sc.fit(x_train,y_train)"
   ]
  },
  {
   "cell_type": "code",
   "execution_count": 229,
   "metadata": {},
   "outputs": [
    {
     "name": "stdout",
     "output_type": "stream",
     "text": [
      "['No' 'No' 'No' ..., 'Yes' 'No' 'No']\n"
     ]
    }
   ],
   "source": [
    "#predicting test\n",
    "svc_y_test=sc_classifier.predict(x_test)\n",
    "print(svc_y_test)"
   ]
  },
  {
   "cell_type": "code",
   "execution_count": 230,
   "metadata": {},
   "outputs": [
    {
     "name": "stdout",
     "output_type": "stream",
     "text": [
      "['No' 'No' 'No' ..., 'No' 'No' 'No']\n"
     ]
    }
   ],
   "source": [
    "#predicting train\n",
    "svc_y_train=sc_classifier.predict(x_train)\n",
    "print(svc_y_train)"
   ]
  },
  {
   "cell_type": "code",
   "execution_count": 234,
   "metadata": {},
   "outputs": [
    {
     "data": {
      "text/plain": [
       "array([[1185,   19],\n",
       "       [ 179,   17]], dtype=int64)"
      ]
     },
     "execution_count": 234,
     "metadata": {},
     "output_type": "execute_result"
    }
   ],
   "source": [
    "#Build confusion matrix on test\n",
    "from sklearn.metrics import confusion_matrix\n",
    "svc_cm_test=confusion_matrix(y_test,svc_y_test)\n",
    "svc_cm_test"
   ]
  },
  {
   "cell_type": "code",
   "execution_count": 359,
   "metadata": {},
   "outputs": [
    {
     "data": {
      "text/plain": [
       "array([[4776,   17],\n",
       "       [ 686,  118]], dtype=int64)"
      ]
     },
     "execution_count": 359,
     "metadata": {},
     "output_type": "execute_result"
    }
   ],
   "source": [
    "svc_cm_train=confusion_matrix(y_train,svc_y_train)\n",
    "svc_cm_train"
   ]
  },
  {
   "cell_type": "code",
   "execution_count": 235,
   "metadata": {},
   "outputs": [
    {
     "data": {
      "text/plain": [
       "0.85857142857142854"
      ]
     },
     "execution_count": 235,
     "metadata": {},
     "output_type": "execute_result"
    }
   ],
   "source": [
    "#accuracy score on test\n",
    "from sklearn.metrics import accuracy_score\n",
    "svc_acc_test=accuracy_score(y_test,svc_y_test)\n",
    "svc_acc_test"
   ]
  },
  {
   "cell_type": "code",
   "execution_count": 236,
   "metadata": {},
   "outputs": [
    {
     "data": {
      "text/plain": [
       "0.87439699839199569"
      ]
     },
     "execution_count": 236,
     "metadata": {},
     "output_type": "execute_result"
    }
   ],
   "source": [
    "#accuracy score on train\n",
    "svc_acc_train=accuracy_score(y_train,svc_y_train)\n",
    "svc_acc_train"
   ]
  },
  {
   "cell_type": "code",
   "execution_count": 237,
   "metadata": {},
   "outputs": [
    {
     "name": "stdout",
     "output_type": "stream",
     "text": [
      "0.813251873574\n",
      "0.87435744578\n"
     ]
    }
   ],
   "source": [
    "#prodcuing precision score on test and train set\n",
    "from sklearn.metrics import precision_score\n",
    "sv_precision_test=precision_score(y_test,svc_y_test,average='weighted')\n",
    "print(sv_precision_test)\n",
    "sv_precision_train=precision_score(y_train,svc_y_train,average='weighted')\n",
    "print(sv_precision_train)"
   ]
  },
  {
   "cell_type": "code",
   "execution_count": 238,
   "metadata": {},
   "outputs": [
    {
     "name": "stdout",
     "output_type": "stream",
     "text": [
      "0.858571428571\n",
      "0.874396998392\n"
     ]
    }
   ],
   "source": [
    "#prodcuing recall score on test and train set\n",
    "from sklearn.metrics import recall_score\n",
    "svm1=recall_score(y_test,svc_y_test,average='weighted')\n",
    "print(svm1)\n",
    "svctr1=recall_score(y_train,svc_y_train,average='weighted')\n",
    "print(svctr1)"
   ]
  },
  {
   "cell_type": "markdown",
   "metadata": {},
   "source": [
    "# Decision Tree "
   ]
  },
  {
   "cell_type": "code",
   "execution_count": 239,
   "metadata": {},
   "outputs": [
    {
     "data": {
      "text/plain": [
       "DecisionTreeClassifier(class_weight=None, criterion='gini', max_depth=None,\n",
       "            max_features=None, max_leaf_nodes=None,\n",
       "            min_impurity_decrease=0.0, min_impurity_split=None,\n",
       "            min_samples_leaf=1, min_samples_split=2,\n",
       "            min_weight_fraction_leaf=0.0, presort=False, random_state=None,\n",
       "            splitter='best')"
      ]
     },
     "execution_count": 239,
     "metadata": {},
     "output_type": "execute_result"
    }
   ],
   "source": [
    "#decision tree classifier\n",
    "from sklearn.tree import DecisionTreeClassifier\n",
    "dtc_clf=DecisionTreeClassifier()\n",
    "dtc_clf.fit(x_train,y_train)\n"
   ]
  },
  {
   "cell_type": "code",
   "execution_count": 240,
   "metadata": {},
   "outputs": [
    {
     "data": {
      "text/plain": [
       "array(['No', 'No', 'No', ..., 'Yes', 'No', 'No'], dtype=object)"
      ]
     },
     "execution_count": 240,
     "metadata": {},
     "output_type": "execute_result"
    }
   ],
   "source": [
    "#predicting test set\n",
    "dtc_y_test=dtc_clf.predict(x_test)\n",
    "dtc_y_test"
   ]
  },
  {
   "cell_type": "code",
   "execution_count": 241,
   "metadata": {},
   "outputs": [
    {
     "data": {
      "text/plain": [
       "array(['No', 'No', 'No', ..., 'No', 'No', 'No'], dtype=object)"
      ]
     },
     "execution_count": 241,
     "metadata": {},
     "output_type": "execute_result"
    }
   ],
   "source": [
    "#predicting train set \n",
    "dtc_y_train=dtc_clf.predict(x_train)\n",
    "dtc_y_train"
   ]
  },
  {
   "cell_type": "code",
   "execution_count": 242,
   "metadata": {},
   "outputs": [
    {
     "data": {
      "text/plain": [
       "array([[1056,  148],\n",
       "       [ 113,   83]], dtype=int64)"
      ]
     },
     "execution_count": 242,
     "metadata": {},
     "output_type": "execute_result"
    }
   ],
   "source": [
    "#creating a confusion matrix\n",
    "from sklearn.metrics import confusion_matrix\n",
    "dtc_cm_test=confusion_matrix(y_test,dtc_y_test)\n",
    "dtc_cm_test"
   ]
  },
  {
   "cell_type": "code",
   "execution_count": 360,
   "metadata": {},
   "outputs": [
    {
     "data": {
      "text/plain": [
       "array([[4787,    6],\n",
       "       [  92,  712]], dtype=int64)"
      ]
     },
     "execution_count": 360,
     "metadata": {},
     "output_type": "execute_result"
    }
   ],
   "source": [
    "dtc_cm_train=confusion_matrix(y_train,dtc_y_train)\n",
    "dtc_cm_train"
   ]
  },
  {
   "cell_type": "code",
   "execution_count": 243,
   "metadata": {},
   "outputs": [
    {
     "data": {
      "text/plain": [
       "0.81357142857142861"
      ]
     },
     "execution_count": 243,
     "metadata": {},
     "output_type": "execute_result"
    }
   ],
   "source": [
    "#producing accuracy score on test set\n",
    "from sklearn.metrics import accuracy_score\n",
    "dtc_acc_test=accuracy_score(y_test,dtc_y_test)\n",
    "dtc_acc_test"
   ]
  },
  {
   "cell_type": "code",
   "execution_count": 244,
   "metadata": {},
   "outputs": [
    {
     "data": {
      "text/plain": [
       "0.98249061997498655"
      ]
     },
     "execution_count": 244,
     "metadata": {},
     "output_type": "execute_result"
    }
   ],
   "source": [
    "#producing accuracy score on train set\n",
    "dtc_acc_train=accuracy_score(y_train,dtc_y_train)\n",
    "dtc_acc_train"
   ]
  },
  {
   "cell_type": "code",
   "execution_count": 245,
   "metadata": {},
   "outputs": [
    {
     "name": "stdout",
     "output_type": "stream",
     "text": [
      "0.827172149208\n",
      "0.98265195298\n"
     ]
    }
   ],
   "source": [
    "#producing precision score on test and train set\n",
    "from sklearn.metrics import precision_score\n",
    "dtc_precision_test=precision_score(y_test,dtc_y_test,average='weighted')\n",
    "print(dtc_precision_test)\n",
    "dtc_precision_train=precision_score(y_train,dtc_y_train,average='weighted')\n",
    "print(dtc_precision_train)\n"
   ]
  },
  {
   "cell_type": "code",
   "execution_count": 246,
   "metadata": {
    "scrolled": true
   },
   "outputs": [
    {
     "name": "stdout",
     "output_type": "stream",
     "text": [
      "0.813571428571\n",
      "0.982490619975\n"
     ]
    }
   ],
   "source": [
    "#prodcuing recall score on test and train set\n",
    "from sklearn.metrics import recall_score\n",
    "dtc_recall_test=recall_score(y_test,dtc_y_test,average='weighted')\n",
    "print(dtc_recall_test)\n",
    "dtc_recall_train=recall_score(y_train,dtc_y_train,average='weighted')\n",
    "print(dtc_recall_train)"
   ]
  },
  {
   "cell_type": "markdown",
   "metadata": {
    "collapsed": true
   },
   "source": [
    "After applying all the classification models the highest accuracy was given by \"Decision Tree\""
   ]
  },
  {
   "cell_type": "code",
   "execution_count": null,
   "metadata": {
    "collapsed": true
   },
   "outputs": [],
   "source": []
  }
 ],
 "metadata": {
  "kernelspec": {
   "display_name": "Python 3",
   "language": "python",
   "name": "python3"
  },
  "language_info": {
   "codemirror_mode": {
    "name": "ipython",
    "version": 3
   },
   "file_extension": ".py",
   "mimetype": "text/x-python",
   "name": "python",
   "nbconvert_exporter": "python",
   "pygments_lexer": "ipython3",
   "version": "3.6.3"
  }
 },
 "nbformat": 4,
 "nbformat_minor": 2
}
